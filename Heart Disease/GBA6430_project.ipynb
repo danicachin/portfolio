{
 "cells": [
  {
   "cell_type": "markdown",
   "id": "72efe3ee",
   "metadata": {},
   "source": [
    "Significance of the problem\n",
    "\n",
    "This dataset looks at different indicators that may aid in predicting whether cardiovascular disease is likely to happen. Cardiovascular disease caused the deaths of close to 18 million people in 2019 worldwide, according to the WHO. It constitutes almost one-third of all deaths globally. The significance of this project has applications for those who work within the healthcare industry, especially as heart disease is so prevalent and commonplace."
   ]
  },
  {
   "cell_type": "markdown",
   "id": "e6ec1f95",
   "metadata": {},
   "source": [
    "Expected outcomes\n",
    "\n",
    "The expected outcome is to determine leading factors contributing to cardiovascular disease diagnosis.  \n",
    "Our dependent variable will be cardio. "
   ]
  },
  {
   "cell_type": "markdown",
   "id": "77b5e63f",
   "metadata": {},
   "source": [
    "Variable\n",
    "\n",
    "Age: Age of participant (integer)\n",
    "\n",
    "Gender: Gender of participant (male/female).\n",
    "\n",
    "Height: Height measured in centimeters (integer)\n",
    "\n",
    "Weight: Weight measured in kilograms (integer)\n",
    "\n",
    "Ap_hi : Systolic blood pressure reading taken from patient (integer)\n",
    "\n",
    "Ap_lo : Diastolic blood pressure reading taken from patient (integer)\n",
    "\n",
    "Cholesterol : Total cholesterol level read as mg/dl on a scale 0 - 5+ units (integer). Each unit denoting increase/decrease by 20 mg/dL respectively.\n",
    "\n",
    "Gluc : Glucose level read as mmol/l on a scale 0 - 16+ units (integer). Each unit denoting increase Decrease by 1 mmol/L respectively.\n",
    "\n",
    "Smoke : Whether person smokes or not (binary; 0=No, 1=Yes).\n",
    "\n",
    "Alco : Whether person drinks alcohol or not (binary; 0=No ,1=Yes).\n",
    "\n",
    "Active : Whether person physically active or not (binary; 0=No,1=Yes).\n",
    "\n",
    "Cardio : Whether person suffers from cardiovascular diseases or not (binary; 0=No, 1=Yes)."
   ]
  },
  {
   "cell_type": "code",
   "execution_count": 1,
   "id": "e358f5e2",
   "metadata": {},
   "outputs": [
    {
     "data": {
      "application/vnd.jupyter.widget-view+json": {
       "model_id": "079b21d8a1eb489c96bc5f2d485dc650",
       "version_major": 2,
       "version_minor": 0
      },
      "text/plain": [
       "VBox()"
      ]
     },
     "metadata": {},
     "output_type": "display_data"
    },
    {
     "name": "stdout",
     "output_type": "stream",
     "text": [
      "Starting Spark application\n"
     ]
    },
    {
     "data": {
      "text/html": [
       "<table>\n",
       "<tr><th>ID</th><th>YARN Application ID</th><th>Kind</th><th>State</th><th>Spark UI</th><th>Driver log</th><th>User</th><th>Current session?</th></tr><tr><td>0</td><td>application_1691032593746_0001</td><td>pyspark</td><td>idle</td><td><a target=\"_blank\" href=\"http://ip-172-31-46-211.ec2.internal:20888/proxy/application_1691032593746_0001/\" class=\"emr-proxy-link\" emr-resource=\"j-1VV8P5SYITGIW\n",
       "\" application-id=\"application_1691032593746_0001\">Link</a></td><td><a target=\"_blank\" href=\"http://ip-172-31-40-161.ec2.internal:8042/node/containerlogs/container_1691032593746_0001_01_000001/livy\" >Link</a></td><td>None</td><td>✔</td></tr></table>"
      ],
      "text/plain": [
       "<IPython.core.display.HTML object>"
      ]
     },
     "metadata": {},
     "output_type": "display_data"
    },
    {
     "data": {
      "application/vnd.jupyter.widget-view+json": {
       "model_id": "",
       "version_major": 2,
       "version_minor": 0
      },
      "text/plain": [
       "FloatProgress(value=0.0, bar_style='info', description='Progress:', layout=Layout(height='25px', width='50%'),…"
      ]
     },
     "metadata": {},
     "output_type": "display_data"
    },
    {
     "name": "stdout",
     "output_type": "stream",
     "text": [
      "SparkSession available as 'spark'.\n"
     ]
    },
    {
     "data": {
      "application/vnd.jupyter.widget-view+json": {
       "model_id": "",
       "version_major": 2,
       "version_minor": 0
      },
      "text/plain": [
       "FloatProgress(value=0.0, bar_style='info', description='Progress:', layout=Layout(height='25px', width='50%'),…"
      ]
     },
     "metadata": {},
     "output_type": "display_data"
    },
    {
     "name": "stdout",
     "output_type": "stream",
     "text": [
      "'3.3.2-amzn-0'"
     ]
    }
   ],
   "source": [
    "sc.version"
   ]
  },
  {
   "cell_type": "code",
   "execution_count": 2,
   "id": "014a929e",
   "metadata": {},
   "outputs": [
    {
     "data": {
      "application/vnd.jupyter.widget-view+json": {
       "model_id": "2bc646f159d64d5abf55cd594b76150e",
       "version_major": 2,
       "version_minor": 0
      },
      "text/plain": [
       "VBox()"
      ]
     },
     "metadata": {},
     "output_type": "display_data"
    },
    {
     "data": {
      "application/vnd.jupyter.widget-view+json": {
       "model_id": "",
       "version_major": 2,
       "version_minor": 0
      },
      "text/plain": [
       "FloatProgress(value=0.0, bar_style='info', description='Progress:', layout=Layout(height='25px', width='50%'),…"
      ]
     },
     "metadata": {},
     "output_type": "display_data"
    },
    {
     "name": "stdout",
     "output_type": "stream",
     "text": [
      "/mnt1/yarn/usercache/livy/appcache/application_1691032593746_0001/container_1691032593746_0001_01_000001/pyspark.zip/pyspark/pandas/__init__.py:50: UserWarning: 'PYARROW_IGNORE_TIMEZONE' environment variable was not set. It is required to set this environment variable to '1' in both driver and executor sides if you use pyarrow>=2.0.0. pandas-on-Spark will set it for you but it does not work if there is a Spark context already launched."
     ]
    }
   ],
   "source": [
    "#import libraries\n",
    "import pyspark.pandas as ps\n",
    "import matplotlib.pyplot as plt\n",
    "ps.set_option('plotting.backend', 'matplotlib')"
   ]
  },
  {
   "cell_type": "code",
   "execution_count": 3,
   "id": "d0439851",
   "metadata": {},
   "outputs": [
    {
     "data": {
      "application/vnd.jupyter.widget-view+json": {
       "model_id": "958b3666f688437b960061b8ef29aa5a",
       "version_major": 2,
       "version_minor": 0
      },
      "text/plain": [
       "VBox()"
      ]
     },
     "metadata": {},
     "output_type": "display_data"
    },
    {
     "data": {
      "application/vnd.jupyter.widget-view+json": {
       "model_id": "",
       "version_major": 2,
       "version_minor": 0
      },
      "text/plain": [
       "FloatProgress(value=0.0, bar_style='info', description='Progress:', layout=Layout(height='25px', width='50%'),…"
      ]
     },
     "metadata": {},
     "output_type": "display_data"
    },
    {
     "name": "stdout",
     "output_type": "stream",
     "text": [
      "/mnt1/yarn/usercache/livy/appcache/application_1691032593746_0001/container_1691032593746_0001_01_000001/pyspark.zip/pyspark/pandas/utils.py:975: PandasAPIOnSparkAdviceWarning: If `index_col` is not specified for `read_csv`, the default index is attached which can cause additional overhead."
     ]
    }
   ],
   "source": [
    "#we import our csv data set stored in an S3 bucket\n",
    "heart_csv = ps.read_csv('s3://gba-6430-project/heart_data 2.csv')"
   ]
  },
  {
   "cell_type": "code",
   "execution_count": 4,
   "id": "199991cd",
   "metadata": {},
   "outputs": [
    {
     "data": {
      "application/vnd.jupyter.widget-view+json": {
       "model_id": "1b196850421a41dbb43fde490a22cdbe",
       "version_major": 2,
       "version_minor": 0
      },
      "text/plain": [
       "VBox()"
      ]
     },
     "metadata": {},
     "output_type": "display_data"
    },
    {
     "data": {
      "application/vnd.jupyter.widget-view+json": {
       "model_id": "",
       "version_major": 2,
       "version_minor": 0
      },
      "text/plain": [
       "FloatProgress(value=0.0, bar_style='info', description='Progress:', layout=Layout(height='25px', width='50%'),…"
      ]
     },
     "metadata": {},
     "output_type": "display_data"
    },
    {
     "name": "stdout",
     "output_type": "stream",
     "text": [
      "0"
     ]
    }
   ],
   "source": [
    "#examine if there are any rows with missing values\n",
    "x = heart_csv.isna().sum(axis=1)\n",
    "x[x >= 1].shape[0]"
   ]
  },
  {
   "cell_type": "markdown",
   "id": "1d599cb3",
   "metadata": {},
   "source": [
    "we do not have any missing values in our dataset"
   ]
  },
  {
   "cell_type": "code",
   "execution_count": 5,
   "id": "81701ce9",
   "metadata": {},
   "outputs": [
    {
     "data": {
      "application/vnd.jupyter.widget-view+json": {
       "model_id": "a5964218b2374c27836c99ec14e2060a",
       "version_major": 2,
       "version_minor": 0
      },
      "text/plain": [
       "VBox()"
      ]
     },
     "metadata": {},
     "output_type": "display_data"
    },
    {
     "data": {
      "application/vnd.jupyter.widget-view+json": {
       "model_id": "",
       "version_major": 2,
       "version_minor": 0
      },
      "text/plain": [
       "FloatProgress(value=0.0, bar_style='info', description='Progress:', layout=Layout(height='25px', width='50%'),…"
      ]
     },
     "metadata": {},
     "output_type": "display_data"
    },
    {
     "name": "stdout",
     "output_type": "stream",
     "text": [
      "(70000, 15) 70000\n",
      "/mnt1/yarn/usercache/livy/appcache/application_1691032593746_0001/container_1691032593746_0001_01_000001/pyspark.zip/pyspark/pandas/utils.py:975: PandasAPIOnSparkAdviceWarning: If `index_col` is not specified for `to_spark`, the existing index is lost when converting to Spark DataFrame.\n",
      "  warnings.warn(message, PandasAPIOnSparkAdviceWarning)"
     ]
    }
   ],
   "source": [
    "# do we have any rows that are duplicated?\n",
    "print(heart_csv.shape, heart_csv.to_spark().distinct().count())"
   ]
  },
  {
   "cell_type": "markdown",
   "id": "7ac0854e",
   "metadata": {},
   "source": [
    "we do not have any duplicates in our dataset"
   ]
  },
  {
   "cell_type": "code",
   "execution_count": 6,
   "id": "e7a99e6a",
   "metadata": {},
   "outputs": [
    {
     "data": {
      "application/vnd.jupyter.widget-view+json": {
       "model_id": "4c44f3582b3b48d59940dae792c10722",
       "version_major": 2,
       "version_minor": 0
      },
      "text/plain": [
       "VBox()"
      ]
     },
     "metadata": {},
     "output_type": "display_data"
    },
    {
     "data": {
      "application/vnd.jupyter.widget-view+json": {
       "model_id": "",
       "version_major": 2,
       "version_minor": 0
      },
      "text/plain": [
       "FloatProgress(value=0.0, bar_style='info', description='Progress:', layout=Layout(height='25px', width='50%'),…"
      ]
     },
     "metadata": {},
     "output_type": "display_data"
    }
   ],
   "source": [
    "#dropping columns that will not be used for the data \n",
    "heart_csv = heart_csv.drop('index',axis =1) #index is not needed; have numbered rows with column 'id' \n",
    "heart_csv= heart_csv.drop('age2',axis =1) #age2 is date of birth; we will use age number 'age3'"
   ]
  },
  {
   "cell_type": "code",
   "execution_count": 7,
   "id": "dec59691",
   "metadata": {},
   "outputs": [
    {
     "data": {
      "application/vnd.jupyter.widget-view+json": {
       "model_id": "938ea43c28884ca2ad75b9f70c7606c3",
       "version_major": 2,
       "version_minor": 0
      },
      "text/plain": [
       "VBox()"
      ]
     },
     "metadata": {},
     "output_type": "display_data"
    },
    {
     "data": {
      "application/vnd.jupyter.widget-view+json": {
       "model_id": "",
       "version_major": 2,
       "version_minor": 0
      },
      "text/plain": [
       "FloatProgress(value=0.0, bar_style='info', description='Progress:', layout=Layout(height='25px', width='50%'),…"
      ]
     },
     "metadata": {},
     "output_type": "display_data"
    },
    {
     "name": "stdout",
     "output_type": "stream",
     "text": [
      "               age3        weight        height         ap_hi         ap_lo\n",
      "count  70000.000000  70000.000000  70000.000000  70000.000000  70000.000000\n",
      "mean      69.668943     74.205690    164.359229    128.817286     96.630414\n",
      "std        6.760889     14.395757      8.210126    154.011419    188.472530\n",
      "min       58.000000     10.000000     55.000000   -150.000000    -70.000000\n",
      "25%       65.000000     65.000000    159.000000    120.000000     80.000000\n",
      "50%       69.000000     72.000000    165.000000    120.000000     80.000000\n",
      "75%       75.000000     82.000000    170.000000    140.000000     90.000000\n",
      "max       93.000000    200.000000    250.000000  16020.000000  11000.000000"
     ]
    }
   ],
   "source": [
    "#running descriptive stats on numeric variables\n",
    "descriptive_stats = heart_csv.describe()\n",
    "descriptive_stats.loc[:,[\"age3\",\"weight\",\"height\",\"ap_hi\",\"ap_lo\"]]"
   ]
  },
  {
   "cell_type": "markdown",
   "id": "ec2572d8",
   "metadata": {},
   "source": [
    "Looking at the descriptive stats from the original dataset, we can see massive outliers for ap_hi (systolic blood pressure) and ap_lo (diastolic blood pressure). The general measurement for blood pressure is 120 and 80 respectively, so those in the negatives are most likely incorrect measurements or extreme outliers. In addition, looking at the statistics for variable 'weight', we can see that there is a distinct difference between the 75 percentile and the absolute maximum for weight that we have in the dataset, more than double."
   ]
  },
  {
   "cell_type": "code",
   "execution_count": 8,
   "id": "aba779d2",
   "metadata": {},
   "outputs": [
    {
     "data": {
      "application/vnd.jupyter.widget-view+json": {
       "model_id": "bdc08536e1fa4a51b13cdd5ff65b2aa2",
       "version_major": 2,
       "version_minor": 0
      },
      "text/plain": [
       "VBox()"
      ]
     },
     "metadata": {},
     "output_type": "display_data"
    },
    {
     "data": {
      "application/vnd.jupyter.widget-view+json": {
       "model_id": "",
       "version_major": 2,
       "version_minor": 0
      },
      "text/plain": [
       "FloatProgress(value=0.0, bar_style='info', description='Progress:', layout=Layout(height='25px', width='50%'),…"
      ]
     },
     "metadata": {},
     "output_type": "display_data"
    },
    {
     "name": "stdout",
     "output_type": "stream",
     "text": [
      "Index(['id', 'age3', 'gender', 'height', 'weight', 'ap_hi', 'ap_lo',\n",
      "       'cholesterol', 'gluc', 'smoke', 'alco', 'active', 'cardio'],\n",
      "      dtype='object')"
     ]
    }
   ],
   "source": [
    "#we are looking at all of the columns in our dataframe.\n",
    "heart_csv.columns"
   ]
  },
  {
   "cell_type": "code",
   "execution_count": 9,
   "id": "d0bd0b57",
   "metadata": {},
   "outputs": [
    {
     "data": {
      "application/vnd.jupyter.widget-view+json": {
       "model_id": "c7f62795774946259689bca8475b2e6a",
       "version_major": 2,
       "version_minor": 0
      },
      "text/plain": [
       "VBox()"
      ]
     },
     "metadata": {},
     "output_type": "display_data"
    },
    {
     "data": {
      "application/vnd.jupyter.widget-view+json": {
       "model_id": "",
       "version_major": 2,
       "version_minor": 0
      },
      "text/plain": [
       "FloatProgress(value=0.0, bar_style='info', description='Progress:', layout=Layout(height='25px', width='50%'),…"
      ]
     },
     "metadata": {},
     "output_type": "display_data"
    },
    {
     "data": {
      "image/png": "[encoded data removed]",
      "text/plain": [
       "<IPython.core.display.Image object>"
      ]
     },
     "metadata": {},
     "output_type": "display_data"
    }
   ],
   "source": [
    "#we ran a histogram plot for the numeric variable age3, see cell below for interpretation.\n",
    "plt.clf()\n",
    "age3 = heart_csv['age3']\n",
    "age3.plot.hist(bins =5, alpha = 0.5)\n",
    "%matplot plt"
   ]
  },
  {
   "cell_type": "code",
   "execution_count": 10,
   "id": "c9ead98f",
   "metadata": {},
   "outputs": [
    {
     "data": {
      "application/vnd.jupyter.widget-view+json": {
       "model_id": "bbf67618bf54428298043741665c64f1",
       "version_major": 2,
       "version_minor": 0
      },
      "text/plain": [
       "VBox()"
      ]
     },
     "metadata": {},
     "output_type": "display_data"
    },
    {
     "data": {
      "application/vnd.jupyter.widget-view+json": {
       "model_id": "",
       "version_major": 2,
       "version_minor": 0
      },
      "text/plain": [
       "FloatProgress(value=0.0, bar_style='info', description='Progress:', layout=Layout(height='25px', width='50%'),…"
      ]
     },
     "metadata": {},
     "output_type": "display_data"
    },
    {
     "data": {
      "image/png": "[encoded data removed]",
      "text/plain": [
       "<IPython.core.display.Image object>"
      ]
     },
     "metadata": {},
     "output_type": "display_data"
    }
   ],
   "source": [
    "#we ran a histogram plot for the numeric variable age3, see cell below for interpretation.\n",
    "plt.clf()\n",
    "heart_csv['age3'].hist(bins=5)\n",
    "%matplot plt"
   ]
  },
  {
   "cell_type": "markdown",
   "id": "6309e550",
   "metadata": {},
   "source": [
    "We can see in our age3 distribution that our data looks almost nornally distributed, with slight right-skewing. This distribution shows that our sample consists of seniors aged ~55-87 years old. Our highest number of seniors are at around 65-70 years old."
   ]
  },
  {
   "cell_type": "code",
   "execution_count": 11,
   "id": "c6cac264",
   "metadata": {},
   "outputs": [
    {
     "data": {
      "application/vnd.jupyter.widget-view+json": {
       "model_id": "88663ce0ceec4bfebfe60684c1653eb1",
       "version_major": 2,
       "version_minor": 0
      },
      "text/plain": [
       "VBox()"
      ]
     },
     "metadata": {},
     "output_type": "display_data"
    },
    {
     "data": {
      "application/vnd.jupyter.widget-view+json": {
       "model_id": "",
       "version_major": 2,
       "version_minor": 0
      },
      "text/plain": [
       "FloatProgress(value=0.0, bar_style='info', description='Progress:', layout=Layout(height='25px', width='50%'),…"
      ]
     },
     "metadata": {},
     "output_type": "display_data"
    },
    {
     "data": {
      "image/png": "[encoded data removed]",
      "text/plain": [
       "<IPython.core.display.Image object>"
      ]
     },
     "metadata": {},
     "output_type": "display_data"
    }
   ],
   "source": [
    "#we ran a histogram for the numeric variable ap_hi(systolic blood pressure, see below)\n",
    "plt.clf()\n",
    "ap_hi = heart_csv['ap_hi']\n",
    "ap_hi.plot.hist(bins =5, alpha = 0.5)\n",
    "%matplot plt"
   ]
  },
  {
   "cell_type": "markdown",
   "id": "738ce518",
   "metadata": {},
   "source": [
    "We can see that there is a compact range for systolic blood pressure, falling between 0 and ~3000, for which a normal systolic blood pressure is 120 mmHg. We do not see a normal distribution through this histogram."
   ]
  },
  {
   "cell_type": "code",
   "execution_count": 12,
   "id": "08bb62c1",
   "metadata": {},
   "outputs": [
    {
     "data": {
      "application/vnd.jupyter.widget-view+json": {
       "model_id": "6348f96a66f6425e82df7bbe14c0cd4f",
       "version_major": 2,
       "version_minor": 0
      },
      "text/plain": [
       "VBox()"
      ]
     },
     "metadata": {},
     "output_type": "display_data"
    },
    {
     "data": {
      "application/vnd.jupyter.widget-view+json": {
       "model_id": "",
       "version_major": 2,
       "version_minor": 0
      },
      "text/plain": [
       "FloatProgress(value=0.0, bar_style='info', description='Progress:', layout=Layout(height='25px', width='50%'),…"
      ]
     },
     "metadata": {},
     "output_type": "display_data"
    },
    {
     "data": {
      "image/png": "[encoded data removed]",
      "text/plain": [
       "<IPython.core.display.Image object>"
      ]
     },
     "metadata": {},
     "output_type": "display_data"
    }
   ],
   "source": [
    "#we ran a histogram plot for numeric variable ap_lo (diastolic blood pressure, see below)\n",
    "plt.clf()\n",
    "ap_lo = heart_csv['ap_lo']\n",
    "ap_lo.plot.hist(bins =10, alpha = 0.5)\n",
    "%matplot plt"
   ]
  },
  {
   "cell_type": "markdown",
   "id": "5604dfae",
   "metadata": {},
   "source": [
    "We can see diastolic blood pressure is also highly condensed to one area, with the entire data set range between 0 and 200 mmHg. We can observe that Ap_lo does not look like a normal distribution in this histogram."
   ]
  },
  {
   "cell_type": "code",
   "execution_count": 13,
   "id": "1c38db93",
   "metadata": {},
   "outputs": [
    {
     "data": {
      "application/vnd.jupyter.widget-view+json": {
       "model_id": "7f23f642680c4212a0d5c03f4037b583",
       "version_major": 2,
       "version_minor": 0
      },
      "text/plain": [
       "VBox()"
      ]
     },
     "metadata": {},
     "output_type": "display_data"
    },
    {
     "data": {
      "application/vnd.jupyter.widget-view+json": {
       "model_id": "",
       "version_major": 2,
       "version_minor": 0
      },
      "text/plain": [
       "FloatProgress(value=0.0, bar_style='info', description='Progress:', layout=Layout(height='25px', width='50%'),…"
      ]
     },
     "metadata": {},
     "output_type": "display_data"
    },
    {
     "data": {
      "image/png": "[encoded data removed]",
      "text/plain": [
       "<IPython.core.display.Image object>"
      ]
     },
     "metadata": {},
     "output_type": "display_data"
    }
   ],
   "source": [
    "#we ran a barplot for the binary variable gender, see below interpretation.\n",
    "plt.clf()\n",
    "gender = heart_csv['gender'].value_counts().plot.bar()\n",
    "%matplot plt"
   ]
  },
  {
   "cell_type": "markdown",
   "id": "422f3dd7",
   "metadata": {},
   "source": [
    "Our dataset consists of male and female patients, in which 1 represents male and 2 female. We can observe that the majority of patient data consists of males, and female patients are around half of the males in the sample."
   ]
  },
  {
   "cell_type": "code",
   "execution_count": 14,
   "id": "febdff26",
   "metadata": {},
   "outputs": [
    {
     "data": {
      "application/vnd.jupyter.widget-view+json": {
       "model_id": "0edafa59ba9e48669507b69812b95c03",
       "version_major": 2,
       "version_minor": 0
      },
      "text/plain": [
       "VBox()"
      ]
     },
     "metadata": {},
     "output_type": "display_data"
    },
    {
     "data": {
      "application/vnd.jupyter.widget-view+json": {
       "model_id": "",
       "version_major": 2,
       "version_minor": 0
      },
      "text/plain": [
       "FloatProgress(value=0.0, bar_style='info', description='Progress:', layout=Layout(height='25px', width='50%'),…"
      ]
     },
     "metadata": {},
     "output_type": "display_data"
    },
    {
     "data": {
      "image/png": "[encoded data removed]",
      "text/plain": [
       "<IPython.core.display.Image object>"
      ]
     },
     "metadata": {},
     "output_type": "display_data"
    }
   ],
   "source": [
    "# create barchart to see the counts of cholesterol level \n",
    "# cholesterol\n",
    "plt.clf()\n",
    "chol = heart_csv['cholesterol'].value_counts().plot.bar()\n",
    "%matplot plt"
   ]
  },
  {
   "cell_type": "markdown",
   "id": "002ca408",
   "metadata": {},
   "source": [
    "Based on the results, cholesterol level one has the highest results and based on the variables there should be scale of 0 - 5+ units but on the results show 1-3"
   ]
  },
  {
   "cell_type": "code",
   "execution_count": 15,
   "id": "7a2fea17",
   "metadata": {},
   "outputs": [
    {
     "data": {
      "application/vnd.jupyter.widget-view+json": {
       "model_id": "37f84898c2114e44b3be118f5c9f6c97",
       "version_major": 2,
       "version_minor": 0
      },
      "text/plain": [
       "VBox()"
      ]
     },
     "metadata": {},
     "output_type": "display_data"
    },
    {
     "data": {
      "application/vnd.jupyter.widget-view+json": {
       "model_id": "",
       "version_major": 2,
       "version_minor": 0
      },
      "text/plain": [
       "FloatProgress(value=0.0, bar_style='info', description='Progress:', layout=Layout(height='25px', width='50%'),…"
      ]
     },
     "metadata": {},
     "output_type": "display_data"
    },
    {
     "data": {
      "image/png": "[encoded data removed]",
      "text/plain": [
       "<IPython.core.display.Image object>"
      ]
     },
     "metadata": {},
     "output_type": "display_data"
    }
   ],
   "source": [
    "# create barchart to see the counts of Glucose level \n",
    "# Glucose\n",
    "plt.clf()\n",
    "gluc = heart_csv['gluc'].value_counts().plot.bar()\n",
    "%matplot plt"
   ]
  },
  {
   "cell_type": "markdown",
   "id": "47490d62",
   "metadata": {},
   "source": [
    "Based on the results, glucose level one has the highest results"
   ]
  },
  {
   "cell_type": "code",
   "execution_count": 16,
   "id": "2535580e",
   "metadata": {},
   "outputs": [
    {
     "data": {
      "application/vnd.jupyter.widget-view+json": {
       "model_id": "aedcdf7758814e8b9b91c31f7fb73cf1",
       "version_major": 2,
       "version_minor": 0
      },
      "text/plain": [
       "VBox()"
      ]
     },
     "metadata": {},
     "output_type": "display_data"
    },
    {
     "data": {
      "application/vnd.jupyter.widget-view+json": {
       "model_id": "",
       "version_major": 2,
       "version_minor": 0
      },
      "text/plain": [
       "FloatProgress(value=0.0, bar_style='info', description='Progress:', layout=Layout(height='25px', width='50%'),…"
      ]
     },
     "metadata": {},
     "output_type": "display_data"
    },
    {
     "data": {
      "image/png": "[encoded data removed]",
      "text/plain": [
       "<IPython.core.display.Image object>"
      ]
     },
     "metadata": {},
     "output_type": "display_data"
    }
   ],
   "source": [
    "# create barchart to see the counts of smokers\n",
    "# 1 meaning the participants that smoke and 0 meaning the participants that don't smoke\n",
    "# smoke\n",
    "plt.clf()\n",
    "smoke = heart_csv['smoke'].value_counts().plot.bar()\n",
    "%matplot plt"
   ]
  },
  {
   "cell_type": "markdown",
   "id": "0f626a8f",
   "metadata": {},
   "source": [
    "Based on the results, majority participants don't smoke"
   ]
  },
  {
   "cell_type": "code",
   "execution_count": 17,
   "id": "63785e8f",
   "metadata": {},
   "outputs": [
    {
     "data": {
      "application/vnd.jupyter.widget-view+json": {
       "model_id": "aa7afe74f31f4e4a8891bf4b8907a0c2",
       "version_major": 2,
       "version_minor": 0
      },
      "text/plain": [
       "VBox()"
      ]
     },
     "metadata": {},
     "output_type": "display_data"
    },
    {
     "data": {
      "application/vnd.jupyter.widget-view+json": {
       "model_id": "",
       "version_major": 2,
       "version_minor": 0
      },
      "text/plain": [
       "FloatProgress(value=0.0, bar_style='info', description='Progress:', layout=Layout(height='25px', width='50%'),…"
      ]
     },
     "metadata": {},
     "output_type": "display_data"
    },
    {
     "data": {
      "image/png": "[encoded data removed]",
      "text/plain": [
       "<IPython.core.display.Image object>"
      ]
     },
     "metadata": {},
     "output_type": "display_data"
    }
   ],
   "source": [
    "# create barchart to see the counts of participant that drinks \n",
    "# 1 meaning the participants that drink alcohol and 0 meaning the participants that don't drink alcohol\n",
    "# alcohol\n",
    "plt.clf()\n",
    "alcohol = heart_csv['alco'].value_counts().plot.bar()\n",
    "%matplot plt"
   ]
  },
  {
   "cell_type": "markdown",
   "id": "819a1ed1",
   "metadata": {},
   "source": [
    "Based on the results, majority participants dont drink alcohol"
   ]
  },
  {
   "cell_type": "code",
   "execution_count": 18,
   "id": "a1a2f9e9",
   "metadata": {},
   "outputs": [
    {
     "data": {
      "application/vnd.jupyter.widget-view+json": {
       "model_id": "38576f9402674a788dcea51fd679b08c",
       "version_major": 2,
       "version_minor": 0
      },
      "text/plain": [
       "VBox()"
      ]
     },
     "metadata": {},
     "output_type": "display_data"
    },
    {
     "data": {
      "application/vnd.jupyter.widget-view+json": {
       "model_id": "",
       "version_major": 2,
       "version_minor": 0
      },
      "text/plain": [
       "FloatProgress(value=0.0, bar_style='info', description='Progress:', layout=Layout(height='25px', width='50%'),…"
      ]
     },
     "metadata": {},
     "output_type": "display_data"
    },
    {
     "data": {
      "image/png": "[encoded data removed]",
      "text/plain": [
       "<IPython.core.display.Image object>"
      ]
     },
     "metadata": {},
     "output_type": "display_data"
    }
   ],
   "source": [
    "# create barchart to see the counts of participant that are physically active\n",
    "# 1 meaning the participants that are physically active and 0 meaning the participants that are not physically active\n",
    "# active\n",
    "plt.clf()\n",
    "active = heart_csv['active'].value_counts().plot.bar()\n",
    "%matplot plt"
   ]
  },
  {
   "cell_type": "markdown",
   "id": "50dba1df",
   "metadata": {},
   "source": [
    "Based on the results, majority participants are physically active"
   ]
  },
  {
   "cell_type": "code",
   "execution_count": 19,
   "id": "8cc03e28",
   "metadata": {},
   "outputs": [
    {
     "data": {
      "application/vnd.jupyter.widget-view+json": {
       "model_id": "65491bcd4e504083b49d1c0948e714c2",
       "version_major": 2,
       "version_minor": 0
      },
      "text/plain": [
       "VBox()"
      ]
     },
     "metadata": {},
     "output_type": "display_data"
    },
    {
     "data": {
      "application/vnd.jupyter.widget-view+json": {
       "model_id": "",
       "version_major": 2,
       "version_minor": 0
      },
      "text/plain": [
       "FloatProgress(value=0.0, bar_style='info', description='Progress:', layout=Layout(height='25px', width='50%'),…"
      ]
     },
     "metadata": {},
     "output_type": "display_data"
    },
    {
     "data": {
      "image/png": "[encoded data removed]",
      "text/plain": [
       "<IPython.core.display.Image object>"
      ]
     },
     "metadata": {},
     "output_type": "display_data"
    }
   ],
   "source": [
    "# create barchart to see the counts of participant that suffers from cardiovascular diseases\n",
    "# 1 meaning the participants that suffers from cardiovascular diseases and 0 meaning the participants that don't suffer from cardiovascular diseases\n",
    "# cardiovascular diseases\n",
    "plt.clf()\n",
    "cardio = heart_csv['cardio'].value_counts().plot.bar()\n",
    "%matplot plt"
   ]
  },
  {
   "cell_type": "markdown",
   "id": "de854c3d",
   "metadata": {},
   "source": [
    "Based on the results, participants that suffers from cardiovascular diseases have similar result as the ones that dont suffer from cardiovascular diseases"
   ]
  },
  {
   "cell_type": "code",
   "execution_count": 20,
   "id": "0151dc6d",
   "metadata": {},
   "outputs": [
    {
     "data": {
      "application/vnd.jupyter.widget-view+json": {
       "model_id": "c4ba2457dead404d899ba8d8a699fc02",
       "version_major": 2,
       "version_minor": 0
      },
      "text/plain": [
       "VBox()"
      ]
     },
     "metadata": {},
     "output_type": "display_data"
    },
    {
     "data": {
      "application/vnd.jupyter.widget-view+json": {
       "model_id": "",
       "version_major": 2,
       "version_minor": 0
      },
      "text/plain": [
       "FloatProgress(value=0.0, bar_style='info', description='Progress:', layout=Layout(height='25px', width='50%'),…"
      ]
     },
     "metadata": {},
     "output_type": "display_data"
    },
    {
     "data": {
      "image/png": "[encoded data removed]",
      "text/plain": [
       "<IPython.core.display.Image object>"
      ]
     },
     "metadata": {},
     "output_type": "display_data"
    }
   ],
   "source": [
    "# create scatter plot to see relationship between age of participant and their Systolic blood pressure readings\n",
    "heart_csv.plot.scatter('age3', 'ap_hi')\n",
    "%matplot plt"
   ]
  },
  {
   "cell_type": "markdown",
   "id": "a0f60072",
   "metadata": {},
   "source": [
    "Based on the scatter plot, there seems to be a relationship between age 60-85 with systolic blood pressure reading"
   ]
  },
  {
   "cell_type": "code",
   "execution_count": 21,
   "id": "ffd39cdf",
   "metadata": {},
   "outputs": [
    {
     "data": {
      "application/vnd.jupyter.widget-view+json": {
       "model_id": "9fbe16f4028d4c459d7e79c50af45603",
       "version_major": 2,
       "version_minor": 0
      },
      "text/plain": [
       "VBox()"
      ]
     },
     "metadata": {},
     "output_type": "display_data"
    },
    {
     "data": {
      "application/vnd.jupyter.widget-view+json": {
       "model_id": "",
       "version_major": 2,
       "version_minor": 0
      },
      "text/plain": [
       "FloatProgress(value=0.0, bar_style='info', description='Progress:', layout=Layout(height='25px', width='50%'),…"
      ]
     },
     "metadata": {},
     "output_type": "display_data"
    },
    {
     "data": {
      "image/png": "[encoded data removed]",
      "text/plain": [
       "<IPython.core.display.Image object>"
      ]
     },
     "metadata": {},
     "output_type": "display_data"
    }
   ],
   "source": [
    "# create scatter plot to see relationship between age of participant and their Diastolic blood pressure readings\n",
    "heart_csv.plot.scatter('age3', 'ap_lo')\n",
    "%matplot plt"
   ]
  },
  {
   "cell_type": "markdown",
   "id": "605242b7",
   "metadata": {},
   "source": [
    "Based on the scatter plot, there seems to be a relationship between age 65-75 with diastolic blood pressure reading"
   ]
  },
  {
   "cell_type": "code",
   "execution_count": 22,
   "id": "c7a53f54",
   "metadata": {},
   "outputs": [
    {
     "data": {
      "application/vnd.jupyter.widget-view+json": {
       "model_id": "bc186eb584574551812823146f5f6cdc",
       "version_major": 2,
       "version_minor": 0
      },
      "text/plain": [
       "VBox()"
      ]
     },
     "metadata": {},
     "output_type": "display_data"
    },
    {
     "data": {
      "application/vnd.jupyter.widget-view+json": {
       "model_id": "",
       "version_major": 2,
       "version_minor": 0
      },
      "text/plain": [
       "FloatProgress(value=0.0, bar_style='info', description='Progress:', layout=Layout(height='25px', width='50%'),…"
      ]
     },
     "metadata": {},
     "output_type": "display_data"
    },
    {
     "data": {
      "image/png": "[encoded data removed]",
      "text/plain": [
       "<IPython.core.display.Image object>"
      ]
     },
     "metadata": {},
     "output_type": "display_data"
    }
   ],
   "source": [
    "# create scatter plot to see relationship between weight(kg) of participant and their Systolic blood pressure readings\n",
    "heart_csv.plot.scatter('weight', 'ap_hi')\n",
    "%matplot plt"
   ]
  },
  {
   "cell_type": "markdown",
   "id": "ebf832ce",
   "metadata": {},
   "source": [
    "Based on the scatter plot, there seems to be a relationship between weight 50-100 with systolic blood pressure reading"
   ]
  },
  {
   "cell_type": "code",
   "execution_count": 23,
   "id": "5d93c16c",
   "metadata": {},
   "outputs": [
    {
     "data": {
      "application/vnd.jupyter.widget-view+json": {
       "model_id": "c61ae65274344b4cb3cdb637c75612ef",
       "version_major": 2,
       "version_minor": 0
      },
      "text/plain": [
       "VBox()"
      ]
     },
     "metadata": {},
     "output_type": "display_data"
    },
    {
     "data": {
      "application/vnd.jupyter.widget-view+json": {
       "model_id": "",
       "version_major": 2,
       "version_minor": 0
      },
      "text/plain": [
       "FloatProgress(value=0.0, bar_style='info', description='Progress:', layout=Layout(height='25px', width='50%'),…"
      ]
     },
     "metadata": {},
     "output_type": "display_data"
    },
    {
     "data": {
      "image/png": "[encoded data removed]",
      "text/plain": [
       "<IPython.core.display.Image object>"
      ]
     },
     "metadata": {},
     "output_type": "display_data"
    }
   ],
   "source": [
    "# create scatter plot to see relationship between weight(kg) of participant and their Diastolic blood pressure readings\n",
    "heart_csv.plot.scatter('weight', 'ap_lo')\n",
    "%matplot plt"
   ]
  },
  {
   "cell_type": "markdown",
   "id": "eceafe0b",
   "metadata": {},
   "source": [
    "Based on the scatter plot, there seems to be a relationship between weight 50-125 with systolic blood pressure reading"
   ]
  },
  {
   "cell_type": "markdown",
   "id": "e1532195",
   "metadata": {},
   "source": [
    "There are significant outliers within this dataset that may be attributed to medical data entry errors. These will be removed from the outliers."
   ]
  },
  {
   "cell_type": "code",
   "execution_count": 24,
   "id": "2b65f8e8",
   "metadata": {},
   "outputs": [
    {
     "data": {
      "application/vnd.jupyter.widget-view+json": {
       "model_id": "b007f6ef063348d2a6ac0ddd34ca2a50",
       "version_major": 2,
       "version_minor": 0
      },
      "text/plain": [
       "VBox()"
      ]
     },
     "metadata": {},
     "output_type": "display_data"
    },
    {
     "data": {
      "application/vnd.jupyter.widget-view+json": {
       "model_id": "",
       "version_major": 2,
       "version_minor": 0
      },
      "text/plain": [
       "FloatProgress(value=0.0, bar_style='info', description='Progress:', layout=Layout(height='25px', width='50%'),…"
      ]
     },
     "metadata": {},
     "output_type": "display_data"
    },
    {
     "name": "stdout",
     "output_type": "stream",
     "text": [
      "       id  age3  gender  height  weight  ap_hi  ap_lo  cholesterol  gluc  smoke  alco  active  cardio\n",
      "0       0    73       2     168    62.0    110     80            1     1      0     0       1       0\n",
      "1       1    68       1     156    85.0    140     90            3     1      0     0       1       1\n",
      "2       2    71       1     165    64.0    130     70            3     1      0     0       0       1\n",
      "3       3    75       2     169    82.0    150    100            1     1      0     0       1       1\n",
      "4       4    75       1     156    56.0    100     60            1     1      0     0       0       0\n",
      "5       8    63       1     151    67.0    120     80            2     2      0     0       0       0\n",
      "6       9    62       1     157    93.0    130     80            3     1      0     0       1       0\n",
      "7      12    61       2     178    95.0    130     90            3     3      0     0       1       1\n",
      "8      13    75       1     158    71.0    110     70            1     1      0     0       1       0\n",
      "9      14    69       1     164    68.0    110     60            1     1      0     0       0       0\n",
      "10     15    61       1     169    80.0    120     80            1     1      0     0       1       0\n",
      "11     16    71       2     173    60.0    120     80            1     1      0     0       1       0\n",
      "12     18    82       2     165    60.0    120     80            1     1      0     0       0       0\n",
      "13     21    69       1     158    78.0    110     70            1     1      0     0       1       0\n",
      "14     23    83       2     181    95.0    130     90            1     1      1     1       1       0\n",
      "15     24    77       2     172   112.0    120     80            1     1      0     0       0       1\n",
      "16     25    65       1     170    75.0    130     70            1     1      0     0       0       0\n",
      "17     27    77       1     158    52.0    110     70            1     3      0     0       1       0\n",
      "18     28    75       1     154    68.0    100     70            1     1      0     0       0       0\n",
      "19     29    63       2     162    56.0    120     70            1     1      1     0       1       0\n",
      "20     30    69       2     163    83.0    120     80            1     1      0     0       1       0\n",
      "21     31    64       1     157    69.0    130     80            1     1      0     0       1       0\n",
      "22     32    60       1     158    90.0    145     85            2     2      0     0       1       1\n",
      "23     33    59       2     156    45.0    110     60            1     1      0     0       1       0\n",
      "24     35    78       1     170    68.0    150     90            3     1      0     0       1       1\n",
      "25     36    83       1     153    65.0    130    100            2     1      0     0       1       0\n",
      "26     37    69       1     156    59.0    130     90            1     1      0     0       1       0\n",
      "27     38    73       1     159    78.0    120     80            1     1      0     0       1       0\n",
      "28     39    83       2     166    66.0    120     80            1     1      0     0       1       0\n",
      "29     40    65       2     169    74.0    130     70            1     3      0     0       0       0\n",
      "30     42    73       1     155   105.0    120     80            3     1      0     0       1       1\n",
      "31     43    59       1     169    71.0    140     90            3     1      0     0       1       1\n",
      "32     44    83       1     159    60.0    110     70            1     1      0     0       1       0\n",
      "33     45    66       1     160    73.0    130     85            1     1      0     0       0       1\n",
      "34     46    63       2     173    82.0    140     90            3     1      0     0       0       1\n",
      "35     47    67       1     163    55.0    120     80            1     1      0     0       1       0\n",
      "36     49    73       2     175    95.0    120     80            1     1      0     0       1       0\n",
      "37     51    74       1     164    70.0    130     90            1     1      0     0       1       0\n",
      "38     52    59       2     162    72.0    130     80            1     1      1     0       1       1\n",
      "39     53    73       1     165    70.0    140     90            1     1      0     0       1       1\n",
      "40     54    69       1     157    62.0    110     70            1     1      0     0       0       0\n",
      "41     56    73       1     178    68.0    110     80            1     1      0     0       1       1\n",
      "42     57    64       2     171    69.0    140     90            1     1      0     0       1       1\n",
      "43     58    67       2     159    63.0    120     60            1     1      0     0       1       1\n",
      "44     59    69       1     154    50.0    170     80            3     1      0     0       1       1\n",
      "45     60    75       1     162    64.0    140     90            1     1      0     0       1       1\n",
      "46     61    73       1     162   107.0    150     90            2     1      0     0       1       1\n",
      "47     62    72       2     168    69.0    120     80            1     1      0     0       0       0\n",
      "48     63    77       2     175    70.0    120     80            2     1      0     0       1       0\n",
      "49     64    79       1     170    69.0    120     70            1     1      0     0       1       0\n",
      "50     65    73       1     160    75.0    100     60            1     1      0     0       0       0\n",
      "51     66    73       1     169    84.0    150    100            1     1      0     0       1       1\n",
      "52     67    69       2     166    85.0    150    100            1     1      0     0       1       1\n",
      "53     68    83       1     165    77.0    135     90            3     3      0     0       1       1\n",
      "54     69    69       1     152    79.0    130     90            1     1      0     0       1       1\n",
      "55     70    63       2     165    73.0    125     90            1     1      0     0       0       0\n",
      "56     71    75       1     171    76.0     90     60            1     2      0     0       1       0\n",
      "57     72    61       1     165    90.0    120     80            1     1      0     0       0       1\n",
      "58     73    79       2     172    84.0    140     90            1     1      1     0       1       1\n",
      "59     74    67       1     164    64.0    180     90            1     1      1     0       1       1\n",
      "60     77    71       1     159    58.0    110     70            1     1      0     0       1       0\n",
      "61     79    66       2     165    75.0    180     90            3     1      0     0       1       1\n",
      "62     81    67       2     187   115.0    130     90            1     1      0     1       1       0\n",
      "63     83    61       1     170    85.0    120     80            1     1      0     0       1       0\n",
      "64     86    66       2     169    71.0    120     80            1     1      0     0       1       1\n",
      "65     87    63       1     148    80.0    130     90            1     1      0     0       1       1\n",
      "66     88    71       2     170    69.0    130     80            1     1      0     0       1       0\n",
      "67     90    62       2     171    97.0    150    100            3     1      1     0       1       1\n",
      "68     92    69       1     152    76.0    160    100            1     2      0     0       1       1\n",
      "69     94    66       1     157    53.0    110     70            1     1      0     0       0       1\n",
      "70     95    58       1     155    57.0    120     80            1     1      0     0       1       1\n",
      "71     96    63       2     179    95.0    150     90            1     1      0     0       1       1\n",
      "72     97    59       1     156    58.0    110     70            1     1      0     0       1       0\n",
      "73    100    63       1     157    77.0    140     90            1     1      0     0       1       1\n",
      "74    103    79       2     180    90.0    140     90            2     2      0     0       0       0\n",
      "75    104    67       1     158    75.0    130     90            1     1      0     0       0       1\n",
      "76    105    67       2     188   105.0    120     80            1     1      0     0       1       1\n",
      "77    106    63       1     160    68.0    140     90            1     1      0     0       1       1\n",
      "78    107    73       1     173    82.0    140     90            1     1      0     0       1       1\n",
      "79    108    67       2     164    74.0    140     85            1     1      0     0       0       1\n",
      "80    109    78       1     159    49.0    120     70            1     1      0     0       1       0\n",
      "81    111    71       1     155    64.0    120     70            1     1      0     0       1       0\n",
      "82    113    69       1     158    75.0    120     80            1     1      0     0       1       1\n",
      "83    114    69       1     152   110.0    160     90            1     1      0     0       1       1\n",
      "84    115    61       1     178    93.0    130     90            1     1      0     0       0       1\n",
      "85    116    73       1     156    55.0    100     60            1     1      0     0       1       0\n",
      "86    117    63       1     156    75.0    150     90            2     2      0     0       1       1\n",
      "87    119    69       2     166    94.0    140     90            2     3      0     0       1       1\n",
      "88    121    59       1     151    92.0    130     90            1     1      0     0       0       1\n",
      "89    122    70       2     172    87.0    120     80            1     1      0     0       0       0\n",
      "90    123    59       1     160    82.0    140    100            1     1      0     0       1       0\n",
      "91    124    69       1     164   103.0    140     90            3     3      0     0       0       1\n",
      "92    125    72       2     173    76.0    150     90            1     1      0     0       1       1\n",
      "93    126    60       2     168    80.0    160    100            1     1      0     0       1       0\n",
      "94    127    79       2     185    88.0    133     89            2     3      0     0       1       0\n",
      "95    129    65       1     158    53.0    110     70            1     1      0     0       1       0\n",
      "96    131    70       2     165    65.0    110     70            1     1      0     0       1       0\n",
      "97    132    73       1     165    99.0    150    110            1     1      0     0       0       1\n",
      "98    133    63       2     170   100.0    120     80            1     1      0     0       0       1\n",
      "99    134    75       1     167    71.0    120     80            2     1      0     1       1       1\n",
      "100   135    83       2     171    61.0    110     70            1     1      0     0       1       0\n",
      "101   136    72       1     167    80.0    190     90            2     1      0     1       0       0\n",
      "102   137    76       1     168    77.0    100     70            1     1      0     0       1       0\n",
      "103   138    73       2     183    95.0    125     80            1     3      1     0       1       0\n",
      "104   139    63       1     170    72.0    120     80            1     1      0     0       0       1\n",
      "105   140    66       2     168    78.0    140     90            2     1      1     0       1       1\n",
      "106   141    83       2     162    60.0    120     80            2     1      0     0       1       1\n",
      "107   142    83       2     164    48.0    110     70            1     2      1     1       1       1\n",
      "108   143    81       2     174    54.0    130     80            2     2      0     0       1       1\n",
      "109   144    79       1     157    51.0    100     70            2     1      0     0       1       1\n",
      "110   145    59       2     168    75.0    110     80            1     1      0     0       0       1\n",
      "111   146    65       2     159    78.0    120     80            3     3      0     0       1       1\n",
      "112   148    77       1     158    78.0    110     70            1     1      0     0       1       0\n",
      "113   149    71       1     157    79.0    125     65            1     2      0     0       1       1\n",
      "114   154    63       1     167    84.0    130     80            1     1      0     0       1       0\n",
      "115   157    63       2     160    57.0    170    110            1     1      0     0       1       1\n",
      "116   158    71       2     180    84.0    120     80            1     1      0     0       0       0\n",
      "117   161    69       1     160    90.0    120     80            1     1      0     0       1       1\n",
      "118   162    84       2     173    75.0    110     70            1     1      0     0       1       0\n",
      "119   163    73       1     156    63.0    100     70            1     1      0     0       1       0\n",
      "120   164    64       1     156    71.0    120     80            2     2      0     0       1       1\n",
      "121   166    70       2     174    77.0    120     80            1     1      1     0       1       1\n",
      "122   167    73       1     170    70.0    140     90            1     1      0     0       1       1\n",
      "123   168    83       1     167    66.0    110     70            1     1      0     0       1       0\n",
      "124   169    63       1     165    65.0    140     90            1     1      0     0       1       1\n",
      "125   170    69       2     153    47.0    130     80            3     1      1     0       1       0\n",
      "126   171    65       1     170    66.0    120     80            1     1      0     0       0       0\n",
      "127   172    63       1     152    67.0    160     90            1     1      0     0       0       1\n",
      "128   173    62       1     176    74.0    120     80            1     1      0     0       1       1\n",
      "129   174    73       1     159    84.0    160    100            1     1      0     0       1       1\n",
      "130   175    63       2     169    59.0    130     80            1     1      0     0       0       1\n",
      "131   176    67       2     170    65.0    120     80            1     1      0     0       1       0\n",
      "132   177    61       2     164    84.0    150     89            2     2      0     0       1       0\n",
      "133   178    65       2     160    57.0    110     80            2     1      0     0       1       0\n",
      "134   180    64       2     174    90.0    140     80            1     1      1     1       0       1\n",
      "135   182    67       1     161    67.0    120     80            1     1      0     0       1       1\n",
      "136   183    76       1     153    50.0    120     80            1     1      0     0       1       0\n",
      "137   184    61       2     184    82.0    130     80            1     1      0     0       1       0\n",
      "138   185    77       1     156    60.0    120     80            1     1      0     0       1       0\n",
      "139   186    73       1     170    60.0    120     80            1     1      0     0       1       0\n",
      "140   189    70       1     158    55.0    120     90            1     1      0     0       1       0\n",
      "141   190    63       1     165    55.0    140     80            1     1      0     0       1       1\n",
      "142   191    59       2     169    73.0    140     90            1     1      0     0       1       1\n",
      "143   192    63       2     169    58.0    110     80            1     1      0     0       1       1\n",
      "144   196    77       2     178    91.0    120     80            1     1      0     0       0       1\n",
      "145   197    72       1     152    57.0    120     80            1     1      0     0       1       0\n",
      "146   199    74       1     160    90.0    130     90            1     1      0     1       1       0\n",
      "147   200    59       2     166    69.0    130     90            2     1      0     0       1       1\n",
      "148   201    67       1     164    70.0    120     70            1     1      0     0       1       0\n",
      "149   202    75       1     162    71.0    110     80            1     1      0     0       0       0\n",
      "150   203    79       2     167    82.0    120     80            3     3      0     0       0       1\n",
      "151   204    64       1     160    67.0    120     60            1     1      0     0       1       1\n",
      "152   206    67       2     169    79.0    120     80            2     2      1     0       1       0\n",
      "153   207    67       2     168    72.0    120     80            1     1      0     0       0       1\n",
      "154   208    71       1     167    80.0    140     80            1     1      0     0       1       1\n",
      "155   209    71       1     168    62.0    140     90            1     1      0     0       1       1\n",
      "156   210    62       1     159    73.0    130    100            3     1      0     0       1       1\n",
      "157   211    69       2     169    87.0    130     80            2     1      0     0       0       0\n",
      "158   213    79       1     157    69.0    120     80            1     1      0     1       1       1\n",
      "159   215    74       1     154    67.0    110     70            1     1      0     0       1       1\n",
      "160   216    60       2     180   104.0    120     85            2     2      0     0       1       0\n",
      "161   217    79       1     165    66.0    110     70            1     1      0     0       0       0\n",
      "162   218    73       1     158    72.0    120     80            1     1      0     0       1       0\n",
      "163   219    75       1     153    73.0    120     80            2     1      0     0       1       0\n",
      "164   220    67       2     171    70.0    110     70            1     1      1     0       1       0\n",
      "165   223    65       1     148    53.0    120     80            1     1      0     0       1       1\n",
      "166   224    69       1     170    68.0    130     80            3     3      0     0       1       1\n",
      "167   225    81       1     160    60.0    120     80            1     1      0     0       0       0\n",
      "168   227    61       1     165    70.0    170    100            1     1      0     0       0       1\n",
      "169   229    67       1     170    70.0    140     90            1     1      0     0       1       1\n",
      "170   230    61       1     165    68.0    150     80            2     1      0     0       0       1\n",
      "171   231    65       1     153    78.0    140     90            2     1      0     0       1       1\n",
      "172   234    77       1     169    64.0    120     80            3     1      0     0       1       1\n",
      "173   235    65       2     172    94.0    120     80            2     1      0     0       1       0\n",
      "174   237    69       1     180    70.0    120     80            2     2      0     0       1       1\n",
      "175   238    77       1     158    58.0    110     80            1     1      0     0       1       0\n",
      "176   239    77       1     177    81.0    120     63            1     1      0     0       1       0\n",
      "177   240    63       2     170    69.0    120     80            1     1      1     1       1       0\n",
      "178   241    71       1     170    60.0    120     80            1     1      0     0       1       0\n",
      "179   242    71       2     171    98.0    110     90            1     1      0     0       1       1\n",
      "180   244    71       1     153    63.0    110     70            2     1      0     0       1       0\n",
      "181   245    64       2     165    65.0    120     80            1     1      0     0       1       1\n",
      "182   248    61       2     174    74.0    130     80            3     1      1     0       1       1\n",
      "183   250    59       1     148    50.0    120     80            2     1      0     0       1       0\n",
      "184   251    59       1     155    74.0    150     90            2     1      0     0       1       1\n",
      "185   252    65       2     157    51.0    120     80            1     1      1     0       1       0\n",
      "186   253    69       2     169    55.0    120     80            1     1      1     0       1       0\n",
      "187   254    71       2     175    53.0    140     80            1     1      1     0       1       1\n",
      "188   255    61       1     165    67.0     90     60            1     1      0     0       1       0\n",
      "189   257    83       2     182    75.0    120     80            1     1      0     0       1       0\n",
      "190   258    71       2     169    68.0    110     80            1     1      1     0       1       0\n",
      "191   259    81       1     172    55.0    110     80            1     1      0     0       1       0\n",
      "192   260    65       2     162    59.0    140     90            2     1      1     0       1       1\n",
      "193   261    83       2     185    94.0    120     80            1     1      0     0       1       0\n",
      "194   264    63       1     162    62.0    140     80            3     1      0     0       1       1\n",
      "195   265    69       2     174    88.0    120     80            2     2      0     0       0       0\n",
      "196   267    61       1     176   108.0    140     90            1     1      0     0       0       0\n",
      "197   271    63       2     171    71.0    120     80            1     1      0     0       1       0\n",
      "198   272    81       2     183    85.0    120     80            1     1      0     0       1       0\n",
      "199   275    71       1     170    67.0    110     70            1     1      0     0       0       0\n",
      "200   276    67       1     165    70.0    120     80            1     1      0     0       1       1\n",
      "201   277    69       1     158    58.0    120     80            1     1      0     0       0       0\n",
      "202   278    83       1     167    79.0    150    100            2     1      0     0       1       1\n",
      "203   279    60       2     166    63.0    140     90            1     1      0     0       1       1\n",
      "204   281    71       1     157    55.0    120     80            1     2      0     0       1       1\n",
      "205   283    76       1     168    65.0    120     80            1     1      0     0       1       1\n",
      "206   285    75       2     156    60.0    110     70            1     1      1     0       1       0\n",
      "207   286    65       1     161    68.0    120     70            3     3      1     0       1       1\n",
      "208   287    79       2     183    92.0    100     70            1     1      0     0       1       0\n",
      "209   288    73       2     172    62.0     80     70            1     1      0     0       1       0\n",
      "210   289    65       2     169    75.0    150    100            1     1      0     0       1       1\n",
      "211   290    73       1     159    57.0    125     70            1     1      0     0       0       1\n",
      "212   291    61       1     162   105.0    140     90            3     1      0     0       0       1\n",
      "213   292    71       1     154    64.0    110     65            1     1      0     0       1       0\n",
      "214   293    77       2     170    95.0    120     70            1     1      0     0       1       0\n",
      "215   294    64       2     173    73.0    120     80            1     1      0     0       1       1\n",
      "216   295    71       1     160    88.0    150    100            1     1      0     0       0       1\n",
      "217   296    59       2     167    68.0    140     90            1     1      0     0       1       1\n",
      "218   297    71       1     158    70.0    120     80            1     1      0     0       1       1\n",
      "219   299    65       1     164    67.0    120     80            1     1      0     0       1       1\n",
      "220   303    69       1     164    57.0    120     80            2     1      0     0       1       0\n",
      "221   305    75       1     157    70.0    160    100            3     1      0     0       0       1\n",
      "222   306    69       1     158    83.0    130     80            1     2      0     0       1       1\n",
      "223   308    81       1     165    70.0    160     90            1     1      0     0       1       1\n",
      "224   309    63       2      76    55.0    120     80            1     1      0     0       1       0\n",
      "225   310    75       1     156    65.0    120     80            1     1      0     0       1       0\n",
      "226   311    80       2     166    70.0    110     70            1     1      1     0       1       0\n",
      "227   312    84       1     168    68.0    120     79            1     1      0     0       1       1\n",
      "228   314    75       2     183    98.0    160   1100            1     2      1     0       1       1\n",
      "229   316    68       2     169    65.0    130     80            1     1      0     0       0       0\n",
      "230   318    59       2     175    75.0    180    100            3     1      1     1       1       1\n",
      "231   320    69       2     168    72.0    120     80            3     1      0     0       1       1\n",
      "232   321    72       2     173    75.0    130     80            2     1      1     1       0       0\n",
      "233   322    67       2     185    81.0    110     70            1     1      0     0       1       1\n",
      "234   324    64       1     149    60.0    120     80            1     1      0     0       0       0\n",
      "235   325    67       2     170    68.0    150    100            1     1      0     0       1       1\n",
      "236   327    59       1     158    69.0    120     80            1     1      0     0       1       0\n",
      "237   328    76       2     180    90.0    130     80            1     1      1     0       1       1\n",
      "238   329    77       1     153    60.0    120     70            1     1      0     0       0       0\n",
      "239   330    61       1     170    65.0    120     80            1     1      0     0       1       1\n",
      "240   332    63       2     170    82.0    120     80            1     1      0     0       1       0\n",
      "241   334    63       2     157    60.0    160   1000            2     1      0     0       0       1\n",
      "242   335    71       2     179    79.0    140     80            1     1      0     0       1       1\n",
      "243   336    79       1     154    56.0    120     70            1     1      0     0       1       0\n",
      "244   337    75       2     162    66.0    150    100            3     1      1     0       0       1\n",
      "245   338    71       1     161    85.0    140     90            2     1      0     0       1       1\n",
      "246   340    83       2     172    73.0    120     80            1     1      1     0       0       0\n",
      "247   341    64       1     160    63.0    120     70            1     1      0     0       1       0\n",
      "248   342    63       2     158    53.0    160     90            1     1      0     0       1       0\n",
      "249   343    73       1     142    61.0    120     80            1     1      0     0       1       0\n",
      "250   344    75       2     160    89.0    130     80            1     1      0     0       1       1\n",
      "251   345    71       1     159    79.0    120     80            1     1      0     0       1       0\n",
      "252   346    65       1     175    70.0    120     80            1     1      0     0       1       0\n",
      "253   347    59       1     156    93.0    120     80            3     1      0     0       1       1\n",
      "254   350    83       1     168    69.0    120     80            1     1      0     0       1       0\n",
      "255   351    62       1     172    87.0    150    100            3     1      0     0       1       1\n",
      "256   352    63       1     158    78.0    140     80            2     1      0     0       1       0\n",
      "257   354    64       1     170    90.0    140     90            1     1      0     0       1       1\n",
      "258   355    61       1     161    72.0    120     80            1     1      0     0       1       1\n",
      "259   356    72       1     165   100.0    120     80            1     1      0     0       1       0\n",
      "260   357    73       1     150    83.0    140    800            1     1      0     0       1       1\n",
      "261   358    65       1     154    98.0    140     90            2     1      0     0       1       0\n",
      "262   359    63       1     160    55.0    120     80            1     1      0     0       1       1\n",
      "263   360    69       1     165    80.0    130     90            1     1      0     0       1       1\n",
      "264   361    63       1     154    54.0    160     90            1     1      0     0       1       1\n",
      "265   362    68       1     150    67.0    120     80            3     3      0     0       0       1\n",
      "266   363    67       1     153    49.0    110     60            1     1      0     0       1       0\n",
      "267   366    75       1     165   115.0    150    100            1     1      0     0       1       1\n",
      "268   369    69       1     160    89.0    140     90            2     2      0     0       0       0\n",
      "269   371    63       2     170    69.0    130     90            1     1      0     0       1       1\n",
      "270   372    79       2     168    84.0    100     60            1     1      1     0       1       0\n",
      "271   373    78       1     149    50.0    120     80            2     2      0     0       0       0\n",
      "272   374    61       1     166    58.0    140     80            1     1      0     0       0       1\n",
      "273   375    79       1     162    74.0    140    100            2     1      0     0       1       0\n",
      "274   376    70       2     178    78.0    120     80            1     1      0     0       0       0\n",
      "275   377    69       1     157    80.0    150     90            3     1      0     0       1       1\n",
      "276   378    59       1     169    68.0    120     80            1     1      0     0       0       1\n",
      "277   379    63       1     169    70.0    100     70            1     1      0     0       0       1\n",
      "278   380    81       1     150    55.0    120     70            1     1      0     0       0       0\n",
      "279   382    64       2     159    85.0    110     70            1     2      0     0       1       1\n",
      "280   383    67       1     152    72.0    160     90            3     1      0     0       1       1\n",
      "281   384    67       1     160    76.0    110     80            1     1      0     0       0       0\n",
      "282   385    72       1     159    95.0    120     80            1     1      0     0       1       1\n",
      "283   386    63       2     176    82.0    140     90            3     1      0     0       1       1\n",
      "284   388    65       1     155    65.0    150     80            2     1      0     0       1       1\n",
      "285   389    66       2     163    68.0    110     80            1     1      0     0       0       0\n",
      "286   390    61       2     170   115.0    120     80            2     2      0     0       1       0\n",
      "287   391    67       1     159   101.0    135     90            2     1      0     0       0       1\n",
      "288   396    63       1     163    65.0    110     80            1     1      0     0       1       1\n",
      "289   398    65       1     149    56.0    140     90            1     1      0     0       1       1\n",
      "290   399    71       1     154    62.0    120     80            1     1      0     0       1       1\n",
      "291   400    67       1     159    79.0    140     90            2     2      0     0       1       1\n",
      "292   402    65       1     157    63.0    140     90            2     1      0     0       1       1\n",
      "293   403    65       1     152    54.0    170     80            1     1      0     0       1       1\n",
      "294   404    74       1     158    56.0    120     80            1     1      0     0       1       0\n",
      "295   408    77       2     170    76.0    110     70            1     1      0     0       1       0\n",
      "296   409    66       2     169    76.0    170    110            1     1      0     0       0       1\n",
      "297   410    62       2     173    70.0    130     70            2     1      1     1       1       0\n",
      "298   412    73       1     160    70.0    150     90            1     1      0     0       1       1\n",
      "299   413    59       2     173    85.0    140     80            3     1      0     0       1       1\n",
      "300   414    71       2     167    72.0    130     80            1     1      1     0       0       0\n",
      "301   415    63       1     178    80.0    120     80            1     1      0     0       1       1\n",
      "302   416    59       2     160    52.0    120     80            1     1      0     0       1       0\n",
      "303   417    73       2     171    74.0    150     80            3     3      1     0       1       1\n",
      "304   420    75       2     185   105.0    120     80            1     1      0     0       0       1\n",
      "305   422    58       2     181    99.0    130     90            1     1      0     0       1       1\n",
      "306   423    61       1     157   100.0    120     80            1     1      0     0       1       1\n",
      "307   426    75       2     160    60.0    110     70            1     1      0     0       1       0\n",
      "308   427    74       1     166    78.0    120     80            1     1      0     0       1       1\n",
      "309   428    70       1     162    87.0    120     80            1     1      0     0       1       0\n",
      "310   431    75       1     166   105.0    110     70            1     1      0     0       1       0\n",
      "311   432    78       1     169    69.0    110     80            1     1      0     0       1       0\n",
      "312   434    83       1     161    75.0    110     70            1     1      0     0       1       0\n",
      "313   438    65       2     167    92.0    140     80            1     1      0     0       1       1\n",
      "314   440    65       1     165    65.0    120     79            1     1      0     0       0       1\n",
      "315   441    67       1     156    50.0    120     70            1     3      0     0       1       1\n",
      "316   442    71       1     158    73.0    110     70            1     2      0     0       1       0\n",
      "317   443    64       1     170    68.0    120     80            1     1      0     0       1       0\n",
      "318   446    69       2     170   101.0    170     90            1     1      0     0       1       1\n",
      "319   447    69       1     164    80.0    140     90            1     1      0     0       1       1\n",
      "320   449    73       1     159    51.0    100     70            1     1      0     0       1       0\n",
      "321   450    83       1     165    62.0    140     80            1     1      0     0       1       1\n",
      "322   451    73       1     170    65.0    120     80            1     1      0     0       1       0\n",
      "323   452    73       1     165    90.0    160    100            1     1      0     0       0       1\n",
      "324   453    77       2     172    86.0    120     80            1     1      0     0       1       0\n",
      "325   454    69       1     167    74.0    135     90            1     1      0     0       1       0\n",
      "326   455    71       2     174    63.0    140     90            1     1      1     0       1       0\n",
      "327   456    61       2     170    65.5    150     80            1     1      1     0       1       1\n",
      "328   457    66       1     154    78.0    120     80            1     1      0     0       1       0\n",
      "329   458    59       1     176    63.0    160   1000            2     2      0     0       0       1\n",
      "330   459    78       2     160    58.0    110     70            1     1      0     0       1       0\n",
      "331   461    79       2     160    85.0    120     80            1     1      0     1       1       0\n",
      "332   464    65       2     160    68.0    170     90            1     1      0     0       0       1\n",
      "333   465    67       1     160    60.0    150     90            1     3      0     0       1       1\n",
      "334   466    81       2     169    86.0    120     80            1     1      0     0       0       0\n",
      "335   467    67       1     162    57.0    100     80            2     1      0     0       1       0\n",
      "336   469    64       1     173    99.0    140     80            2     2      0     0       1       1\n",
      "337   473    67       1     160    70.0    130    100            3     1      0     0       1       1\n",
      "338   474    65       1     157   142.0    120     80            1     1      0     0       1       1\n",
      "339   475    63       1     159    97.0    120     80            1     3      0     0       1       0\n",
      "340   476    83       1     170    68.0    120     80            1     1      0     0       1       0\n",
      "341   477    65       2     182    91.0    160     90            3     1      0     0       1       1\n",
      "342   478    76       1     165    70.0    130     70            1     1      0     0       1       0\n",
      "343   480    69       1     172   104.0    120     80            1     1      0     0       1       1\n",
      "344   481    81       1     170    81.0    120     79            1     1      0     0       1       0\n",
      "345   482    72       1     154    81.0    140   1000            2     1      0     0       1       1\n",
      "346   483    73       2     175    89.0    120     80            1     1      0     0       1       0\n",
      "347   484    67       2     173    86.0    150     89            2     1      0     0       0       1\n",
      "348   485    63       2     174    84.0    140     80            1     1      0     0       1       0\n",
      "349   486    61       1     154    75.0    125     70            1     1      0     0       1       0\n",
      "350   487    77       1     175    80.0    160     90            1     1      0     0       1       1\n",
      "351   488    59       1     153    69.0    140     80            3     3      0     0       1       1\n",
      "352   490    81       2     175    85.0    120     80            1     1      0     0       1       1\n",
      "353   491    79       1     156    60.0     90     60            1     1      0     0       1       0\n",
      "354   492    68       2     169    70.0    120     80            3     3      0     0       1       1\n",
      "355   493    60       1     158    73.0    180    100            3     1      0     0       1       1\n",
      "356   494    61       2     166    78.0    110     70            1     1      0     0       1       0\n",
      "357   495    63       1     163    69.0    100     70            1     1      0     0       1       0\n",
      "358   500    67       1     165    65.0    122     80            1     3      0     0       0       1\n",
      "359   502    72       2     173    96.0    120     80            1     1      0     0       1       1\n",
      "360   506    69       1     144    44.0    130     80            1     1      0     0       1       0\n",
      "361   508    59       2     170    84.0    120     70            1     1      0     0       1       0\n",
      "362   510    79       2     168    72.0    120     70            1     1      0     0       1       0\n",
      "363   511    59       1     175    76.0    120     80            1     1      0     1       1       1\n",
      "364   513    71       1     167    69.0    120     80            1     1      0     0       1       0\n",
      "365   514    71       2     169    87.0    130     80            1     1      0     0       1       0\n",
      "366   518    72       1     166    71.0    160     90            1     1      0     0       1       1\n",
      "367   519    61       1     160    83.0    120     80            3     3      0     0       1       1\n",
      "368   520    83       2     166    90.0    120     80            1     1      0     0       1       0\n",
      "369   521    69       1     160    58.0    140     80            1     1      0     0       1       1\n",
      "370   522    69       1     160    74.0    120     80            1     1      0     0       1       0\n",
      "371   524    77       2     173    93.0    130     80            1     1      1     0       1       0\n",
      "372   525    81       2     172    71.0    160    120            3     3      1     1       0       1\n",
      "373   526    69       1     158    68.0    120     80            1     1      0     0       0       0\n",
      "374   527    74       1     158    74.0    120     80            2     2      0     0       0       0\n",
      "375   528    81       2     170    69.0    120     80            1     1      0     0       0       1\n",
      "376   531    77       2     160    60.0    150     90            1     1      0     0       0       1\n",
      "377   533    61       1     158    84.0    120     80            2     2      0     0       1       1\n",
      "378   537    78       2     168    75.0    120     80            1     1      0     0       1       0\n",
      "379   538    71       1     163    67.0    140     80            1     1      0     0       0       1\n",
      "380   539    69       1     152    60.0    120     80            1     1      0     0       1       0\n",
      "381   540    63       1     164    55.0    120     80            1     1      0     0       1       1\n",
      "382   542    69       1     148    61.0    140     90            3     3      0     0       1       0\n",
      "383   543    70       1     147    41.0     80     50            1     1      0     0       1       0\n",
      "384   545    61       2     164    81.0    150     90            2     2      0     0       1       1\n",
      "385   546    79       2     171    74.0    120     80            1     1      1     1       1       0\n",
      "386   548    59       1     167    78.0    120     80            1     1      0     0       1       1\n",
      "387   550    65       1     162    74.0    120     80            2     2      0     0       1       0\n",
      "388   551    66       2     158    52.0     90     60            1     1      1     0       0       0\n",
      "389   552    77       2     165   169.0    120     80            1     1      0     0       1       0\n",
      "390   553    77       1     170   116.0    130     70            1     1      0     0       1       0\n",
      "391   555    73       1     144    59.0    120     80            2     2      0     0       1       1\n",
      "392   558    65       2     175    65.0    140     80            1     1      0     0       0       1\n",
      "393   559    73       1     163   108.0    150    100            3     3      0     0       1       1\n",
      "394   562    77       1     162    89.0    120     80            1     1      0     0       1       0\n",
      "395   563    58       2     160    78.0    140     90            1     1      0     0       1       0\n",
      "396   564    61       1     164    75.0    130     90            2     1      0     0       1       1\n",
      "397   565    65       1     164    86.0    150    100            1     1      0     0       0       1\n",
      "398   566    83       1     163    82.0    110     70            1     1      0     0       1       0\n",
      "399   567    62       1     156    68.0    120     80            3     3      0     0       1       1\n",
      "400   568    73       1     150    62.0    120     80            1     1      0     0       1       0\n",
      "401   569    73       1     175    75.0    120     80            1     1      0     0       1       1\n",
      "402   572    82       1     164    75.0    110     70            1     1      0     0       1       0\n",
      "403   573    65       1     156    88.0    140     80            1     1      0     0       1       1\n",
      "404   574    59       1     158    71.0    120     80            1     1      0     0       1       1\n",
      "405   577    71       1     157    94.0    120     80            2     1      0     0       1       0\n",
      "406   580    68       1     155    69.0    140     90            2     1      0     0       1       0\n",
      "407   581    59       2     162    70.0    130     70            1     1      1     1       1       1\n",
      "408   582    73       1     168    70.0    120     80            2     2      0     0       0       1\n",
      "409   583    73       1     163    75.0    130     80            1     1      0     0       1       1\n",
      "410   584    63       1     163    70.0    120     70            3     3      0     0       0       1\n",
      "411   585    67       1     164    50.0    100     60            1     1      1     0       1       0\n",
      "412   586    63       1     153    77.0    110     70            1     1      0     0       1       0\n",
      "413   587    60       1     156    55.0    110     60            1     1      0     0       1       0\n",
      "414   589    65       1     156    95.0    140     90            3     2      0     0       1       1\n",
      "415   591    63       2     170    78.0    150     80            3     1      0     0       1       1\n",
      "416   592    64       1     161    72.0    120     80            3     1      0     0       1       1\n",
      "417   593    76       1     158    70.0    170     90            3     1      0     0       0       1\n",
      "418   594    77       1     157    72.0    150     30            1     1      0     0       1       1\n",
      "419   596    68       1     164    86.0    120     80            3     3      0     0       1       1\n",
      "420   599    67       1     160    73.0    160     90            3     3      0     0       1       1\n",
      "421   600    61       1     159    86.0    130     90            1     1      0     0       1       0\n",
      "422   602    69       1     162    93.0    130     80            1     1      0     0       1       1\n",
      "423   604    63       1     157    86.0    169    109            3     1      0     0       1       1\n",
      "424   605    59       1     165    64.0    140     90            2     1      0     0       1       1\n",
      "425   606    61       2     182    91.0    120     80            1     1      1     0       1       0\n",
      "426   608    75       1     158    80.0    150     80            1     1      0     0       1       1\n",
      "427   609    63       1     160    55.0    120     80            1     1      0     0       0       0\n",
      "428   610    77       1     158    53.0    110     70            1     1      0     0       1       0\n",
      "429   611    73       1     156    74.0    160     90            1     1      0     0       1       1\n",
      "430   612    67       1     165    69.0    120     80            1     1      0     0       0       0\n",
      "431   613    75       2     164    78.0    120     80            3     3      0     0       1       0\n",
      "432   614    75       1     165    47.0    110     80            1     2      0     0       1       0\n",
      "433   615    59       1     160    62.0    140     90            1     1      0     0       1       1\n",
      "434   616    73       2     176    95.0    140     90            2     2      0     0       0       1\n",
      "435   618    77       1     186   200.0    130     70            1     1      0     0       0       0\n",
      "436   620    71       1     158    65.0    130     80            1     1      0     0       0       0\n",
      "437   622    66       2     180    84.0    180     90            3     3      0     0       1       1\n",
      "438   623    63       1     156    82.0    120     70            1     1      0     0       1       1\n",
      "439   625    68       2     179    64.8    126     84            1     3      0     0       1       0\n",
      "440   627    71       1     163    58.0    120     80            1     1      0     0       1       0\n",
      "441   628    61       1     147    66.0    100     70            1     1      0     0       1       0\n",
      "442   630    71       2     175    86.0    120     80            1     1      1     1       0       0\n",
      "443   631    75       1     162    84.0    110     90            1     1      0     0       1       1\n",
      "444   632    77       1     167    74.0     90     60            1     1      0     0       1       0\n",
      "445   633    63       2     177    80.0    160     90            2     1      0     0       1       1\n",
      "446   634    65       2     178   120.0    160     90            1     3      0     0       1       1\n",
      "447   638    69       1     156    60.0    120     90            1     1      0     0       1       0\n",
      "448   641    71       1     160    73.0    140     90            2     1      0     0       1       1\n",
      "449   647    73       1     171    74.0    130     80            1     2      0     0       1       0\n",
      "450   649    68       1     162    70.0    120     80            1     3      0     0       1       1\n",
      "451   650    82       1     169    65.0    120     80            1     1      0     0       0       0\n",
      "452   651    65       2     167    61.0    120     80            1     1      0     0       1       1\n",
      "453   652    61       2     180   100.0    130     90            3     1      0     0       1       1\n",
      "454   653    70       1     152    68.0    110     70            1     1      0     0       1       1\n",
      "455   655    69       1     152    50.0    130     80            1     1      0     0       1       1\n",
      "456   656    63       1     160    54.0    120     80            1     1      0     0       1       1\n",
      "457   657    79       2     159    74.0    120     70            1     1      0     0       0       0\n",
      "458   658    73       2     176    98.0    120     80            1     1      0     0       1       0\n",
      "459   659    71       1     160    70.0    150     80            1     1      0     0       1       1\n",
      "460   660    73       2     157    63.0    160     90            1     1      0     0       1       1\n",
      "461   661    69       2     156    52.0    120     80            1     1      0     0       0       1\n",
      "462   662    63       2     175    92.0    120     80            3     1      1     1       1       1\n",
      "463   663    67       1     156    64.0    160     90            1     1      0     0       1       0\n",
      "464   664    81       1     166    98.0    120     80            1     1      0     0       1       0\n",
      "465   665    66       1     162    85.0    120     70            3     3      0     0       1       1\n",
      "466   667    67       2     175    57.0    120     80            1     1      0     0       1       0\n",
      "467   669    67       1     172    78.0    120     80            1     1      0     0       1       1\n",
      "468   670    73       1     170    68.0    130     90            1     1      0     0       0       1\n",
      "469   672    63       1     160    70.0    140     90            3     3      0     0       1       1\n",
      "470   677    77       2     165    75.0    120     80            1     1      1     0       1       0\n",
      "471   678    74       1     164    54.0    110     90            1     1      0     0       1       0\n",
      "472   679    83       2     171    88.0    140     90            2     2      0     0       1       1\n",
      "473   680    81       1     150    95.0    150   1033            1     1      0     0       1       1\n",
      "474   681    71       1     156    65.0    120    150            2     1      0     0       1       0\n",
      "475   682    69       1     165    68.0    120     80            1     1      0     0       1       0\n",
      "476   683    71       2     164    68.0    140    100            1     1      0     1       1       1\n",
      "477   684    69       1     152    60.0    120     60            1     1      0     0       1       0\n",
      "478   686    71       1     165    92.0    120     80            2     1      0     0       1       1\n",
      "479   688    71       1     170   101.0    120     80            1     1      0     0       1       1\n",
      "480   689    63       1     159   101.0    170     90            1     1      0     0       1       1\n",
      "481   691    69       1     158    86.0    160     50            2     3      0     0       1       1\n",
      "482   692    83       1     174    84.0    120     80            1     1      0     0       0       0\n",
      "483   693    71       1     164    73.0    120     80            1     1      0     0       0       0\n",
      "484   694    71       1     160    75.0    120     80            1     1      0     0       1       0\n",
      "485   695    79       1     172    52.0    110     70            2     1      0     0       1       0\n",
      "486   696    63       2     160    85.0    130     90            2     1      1     0       0       1\n",
      "487   697    79       1     158    69.0    110     80            1     3      0     1       1       0\n",
      "488   699    77       1     147    61.0    110     80            1     1      0     0       1       0\n",
      "489   700    64       2     167    73.0    180     80            3     3      0     0       0       1\n",
      "490   701    74       1     170    90.0    120     80            1     1      0     0       1       0\n",
      "491   704    71       1     149    62.0    180    110            2     1      0     0       1       1\n",
      "492   705    69       1     168    80.0    120     80            1     1      0     0       1       0\n",
      "493   706    67       1     159    68.0    120     80            1     1      0     0       1       1\n",
      "494   708    61       1     161    62.0    140     80            2     2      0     0       1       0\n",
      "495   711    63       1     150    88.0    120     80            1     1      0     0       1       0\n",
      "496   712    75       1     151   117.0    160     90            2     1      0     0       0       1\n",
      "497   713    67       1     151    53.0    120     80            1     1      0     0       1       0\n",
      "498   714    65       1     162    60.0    120     80            1     1      0     0       0       0\n",
      "499   716    63       1     168    65.0    158     91            1     1      0     0       1       1\n",
      "500   718    67       1     166    69.0    120     80            1     1      0     0       1       0\n",
      "501   720    61       2     168    69.0    120     80            1     1      0     0       0       0\n",
      "502   721    73       1     148    59.0    150    100            1     1      0     0       0       1\n",
      "503   722    83       2     182    60.0    110     80            1     1      1     0       0       0\n",
      "504   723    76       2     170    74.0    120     80            3     3      0     0       1       0\n",
      "505   724    67       1     158    60.0    130     60            1     1      0     0       1       1\n",
      "506   725    61       2     162    73.0    120     70            1     1      0     0       1       1\n",
      "507   728    77       1     165    64.0    140     40            1     1      0     0       1       1\n",
      "508   732    61       1     166    76.0    120     80            1     1      0     0       1       0\n",
      "509   733    69       2     173    74.0    110     70            2     3      0     0       1       0\n",
      "510   734    65       1     162    70.0    110     70            1     1      0     0       1       0\n",
      "511   736    63       1     169    62.0    120     80            1     1      0     0       1       0\n",
      "512   737    65       2     164    62.0    120     80            1     1      0     0       1       0\n",
      "513   738    69       1     167    90.0    140    100            3     1      0     0       1       1\n",
      "514   739    77       2     169    75.0    120     80            1     1      1     0       1       1\n",
      "515   740    65       1     162    84.0    120     80            1     1      0     0       0       1\n",
      "516   741    65       2     170    65.0    120     80            1     1      1     0       1       0\n",
      "517   744    81       1     159   104.0    140     90            2     1      0     0       1       0\n",
      "518   745    68       1     167    70.0    110     70            2     1      0     0       0       0\n",
      "519   748    71       2     176    90.0    140    100            1     1      0     0       1       1\n",
      "520   749    64       1     170    88.0    140     90            1     1      0     0       1       0\n",
      "521   750    79       1     156    60.0    120     80            1     1      0     0       1       0\n",
      "522   751    70       2     170    70.0    120     80            1     1      0     0       1       0\n",
      "523   752    79       1     158    76.0    150    100            3     1      0     0       1       0\n",
      "524   754    63       1     148    50.0    120     80            1     2      0     0       1       1\n",
      "525   755    84       1     170    67.0    120     80            2     1      0     0       1       0\n",
      "526   756    65       1     165    69.0    120     70            1     1      0     0       1       0\n",
      "527   759    65       1     162    78.0    150     90            2     1      0     0       0       1\n",
      "528   760    63       1     152    54.0    130     90            1     1      0     0       1       1\n",
      "529   761    66       2     171    78.0    110     70            3     3      0     0       0       0\n",
      "530   764    70       2     165    68.0    120     80            1     1      0     0       1       1\n",
      "531   765    69       1     164    85.0    110     80            1     1      0     0       1       1\n",
      "532   766    77       1     169    73.0    120     80            1     1      0     0       0       1\n",
      "533   767    65       1     147    64.0    110     80            1     1      0     0       1       0\n",
      "534   768    73       1     159    62.0    120     80            1     1      0     0       0       0\n",
      "535   769    67       2     161    83.0    140     80            1     3      0     0       1       0\n",
      "536   770    81       1     160    52.0    120     70            1     3      0     0       1       0\n",
      "537   771    69       1     164    85.0    145     90            1     1      0     1       1       1\n",
      "538   772    74       1     165    67.0    150     90            2     1      0     0       1       1\n",
      "539   773    81       1     171    75.0    110     70            1     1      0     0       0       0\n",
      "540   774    70       1     170    76.0    110     70            1     1      0     0       1       0\n",
      "541   775    59       1     164    80.0    130     80            1     1      0     0       0       0\n",
      "542   776    71       2     178    85.0    120     80            1     1      0     0       0       1\n",
      "543   777    59       1     147   110.0    140     90            3     1      0     0       0       1\n",
      "544   778    61       1     167   100.0    140     80            3     1      0     0       1       1\n",
      "545   779    65       2     160    55.0    120     80            1     1      1     1       1       0\n",
      "546   781    74       2     171    98.0    120     80            1     2      1     0       1       0\n",
      "547   783    70       1     156    72.0    180     90            2     1      0     0       1       1\n",
      "548   784    59       1     167    87.0    130     80            1     1      0     0       1       0\n",
      "549   786    75       1     168    79.0    140     70            2     1      0     0       1       1\n",
      "550   789    68       1     147    60.0    110     80            1     1      0     0       1       0\n",
      "551   791    69       2     175    70.0    120     90            1     1      0     0       1       0\n",
      "552   792    66       1     159    55.0    120     80            1     1      0     0       1       0\n",
      "553   796    83       1     165    74.0    120     80            1     1      0     0       0       0\n",
      "554   797    58       1     157    69.0    110     90            1     2      0     0       1       0\n",
      "555   798    73       1     160    84.0    120     80            1     2      0     0       1       1\n",
      "556   800    81       1     160    90.0    110     80            1     1      0     0       0       1\n",
      "557   802    73       1     158    60.0    140     90            3     1      0     0       1       1\n",
      "558   803    77       1     166    62.0    110     70            1     1      0     0       1       0\n",
      "559   805    67       2     173   101.0    200   1000            1     1      0     0       1       1\n",
      "560   806    77       1     153    63.0    100     70            1     1      0     0       1       0\n",
      "561   807    79       1     160    82.0    110     70            1     2      0     0       1       0\n",
      "562   809    69       2     164    59.0    120     80            1     1      0     0       0       0\n",
      "563   810    82       1     165    80.0    120     90            1     1      0     1       0       1\n",
      "564   811    61       1     159    60.0    110     70            1     1      0     0       1       0\n",
      "565   812    78       2     175    95.0    120     90            1     1      1     1       1       1\n",
      "566   813    73       1     161    87.0    110     90            1     1      1     0       1       1\n",
      "567   815    65       1     168    78.0     14     90            2     1      0     0       1       1\n",
      "568   816    79       1     176    96.0    110     80            3     3      0     0       1       0\n",
      "569   817    75       2     175    88.0    140     90            2     1      1     1       0       1\n",
      "570   818    63       2     161    71.0    120     70            1     3      0     0       1       1\n",
      "571   819    69       1     160    76.0    140     90            1     1      0     0       0       1\n",
      "572   820    75       1     168    72.0    120     80            1     1      0     0       0       0\n",
      "573   821    73       1     154    55.0    110     70            1     1      0     0       0       0\n",
      "574   822    61       2     174    74.0    150     70            1     1      0     0       0       1\n",
      "575   823    75       2     165    60.0    120     80            1     1      0     0       1       0\n",
      "576   826    78       1     154    87.0    130    100            1     1      0     0       1       1\n",
      "577   829    81       1     161    73.0    120     80            1     1      0     0       1       1\n",
      "578   830    75       2     169    73.0    120     80            1     3      0     0       1       1\n",
      "579   831    67       2     178    95.0    150     90            2     2      0     0       1       1\n",
      "580   833    69       1     160    57.0    150     90            2     1      0     0       1       1\n",
      "581   836    71       2     160    63.0    170     90            1     1      0     0       0       1\n",
      "582   837    65       2     164    58.0    120     80            1     1      0     0       0       0\n",
      "583   838    64       1     165    78.0    120     80            1     1      0     0       1       1\n",
      "584   839    59       1     170    95.0    140     80            1     1      0     0       0       1\n",
      "585   840    67       1     160    91.0    110     80            1     1      0     0       0       1\n",
      "586   841    81       1     164    79.0    150     90            1     1      0     0       1       1\n",
      "587   842    75       1     158    59.0    120     80            1     1      0     0       1       0\n",
      "588   843    71       2     173    77.0    110     70            1     1      0     0       1       0\n",
      "589   844    69       1     150    65.0    120     80            2     3      0     0       1       1\n",
      "590   845    79       1     164    70.0    120     80            1     1      0     0       1       0\n",
      "591   846    83       1     164   125.0    130     90            1     1      0     0       0       0\n",
      "592   847    72       2     157    60.0    120     80            1     1      0     0       1       1\n",
      "593   848    71       1     156    73.0    100     70            1     1      0     0       1       0\n",
      "594   851    69       1     168    69.0    110     70            1     1      0     0       1       0\n",
      "595   855    67       1     163    66.0    160    110            1     1      0     0       1       1\n",
      "596   856    77       1     151    70.0    110     70            1     2      0     0       1       1\n",
      "597   857    59       2     165    79.0    140     90            3     1      0     0       1       1\n",
      "598   859    83       2     170    97.0    123     80            1     1      1     0       1       0\n",
      "599   860    59       1     155    65.0    120     80            3     1      0     0       1       1\n",
      "600   864    65       2     168    91.0    130     90            2     2      0     0       1       0\n",
      "601   866    73       1     162    76.0    130     80            1     1      0     0       1       0\n",
      "602   869    71       1     160    67.0    120     80            1     1      0     0       0       0\n",
      "603   870    59       1     157    64.0    110     70            1     1      0     0       1       0\n",
      "604   871    69       1     169    70.0    120     80            1     1      0     0       0       0\n",
      "605   872    74       2     178    81.0    150    100            1     1      0     0       0       1\n",
      "606   874    63       1     163    65.0    130     90            1     1      0     0       1       1\n",
      "607   875    61       2     160    74.0    140    100            1     1      0     0       1       1\n",
      "608   877    67       2     165    78.0    130     90            1     1      1     0       1       0\n",
      "609   879    59       2     161    50.0    120     80            1     1      0     0       1       0\n",
      "610   883    73       1     167    67.0    100     60            2     1      0     0       1       0\n",
      "611   884    72       1     161    80.0    110     70            2     1      0     0       1       1\n",
      "612   885    75       2     167    70.0    120     80            1     1      0     0       1       0\n",
      "613   886    71       1     165    92.0    140   1000            1     1      1     0       1       1\n",
      "614   887    65       1     163   106.0    140     90            2     1      0     0       1       1\n",
      "615   888    75       1     166    60.0    120     80            1     1      0     0       1       0\n",
      "616   890    61       1     151    70.0    130     79            3     3      0     0       1       0\n",
      "617   892    79       2     166    58.0    125     80            1     1      1     1       1       0\n",
      "618   893    69       2     170    81.0    130     90            2     1      1     0       1       0\n",
      "619   894    71       1     165    62.0    125     80            1     1      0     0       1       0\n",
      "620   895    65       1     162    60.0    150    100            1     1      0     0       1       1\n",
      "621   896    71       1     153    99.0    110     70            1     1      0     0       1       1\n",
      "622   899    66       2     168    73.0    130     90            1     1      0     0       0       1\n",
      "623   900    77       1     158    64.0     90     60            1     1      0     0       1       0\n",
      "624   901    67       1     161    75.0    120     80            1     1      0     0       1       1\n",
      "625   902    69       2     184    84.0    120     80            1     1      0     0       0       0\n",
      "626   903    83       1     168    47.0    120     70            1     1      0     0       1       0\n",
      "627   904    81       2     178   103.0    120     80            1     1      0     0       1       0\n",
      "628   905    77       1     160   114.0    110     80            1     1      0     0       1       0\n",
      "629   906    65       2     174    95.0    130     90            3     3      0     0       1       1\n",
      "630   907    79       1     160    72.0    150    110            1     1      0     0       1       1\n",
      "631   908    72       1     158    89.0    140     90            1     1      0     0       1       1\n",
      "632   909    64       1     160    85.0    140    100            1     1      0     0       0       1\n",
      "633   910    63       1     165    78.0    130     80            1     1      0     0       0       0\n",
      "634   911    77       2     174    83.0    140     90            2     1      0     0       1       1\n",
      "635   912    64       1     167    80.0    130     80            3     3      0     0       1       0\n",
      "636   913    67       2     169    68.0     70    110            1     1      0     0       1       0\n",
      "637   914    73       1     165    55.0    100     80            1     1      0     0       1       0\n",
      "638   915    59       1     165    70.0    150     90            1     2      0     0       0       1\n",
      "639   916    59       1     170    92.0    120     80            1     2      0     0       1       1\n",
      "640   918    72       1     168    72.0    130     80            1     1      0     0       1       1\n",
      "641   919    75       2     173    95.0    140    100            1     1      1     0       1       1\n",
      "642   920    69       1     152    62.0    120     80            1     1      0     0       1       0\n",
      "643   921    58       1     154    79.0    130     80            1     1      0     0       1       0\n",
      "644   922    76       1     170    70.0    120     80            1     1      0     0       1       1\n",
      "645   923    67       1     158    86.0    160    100            2     1      0     0       1       0\n",
      "646   925    63       1     163    72.0    120     80            1     1      0     0       1       1\n",
      "647   926    73       2     178    80.0    140     90            3     1      0     0       1       1\n",
      "648   927    65       1     158    85.0    140     90            3     3      0     0       1       1\n",
      "649   928    73       1     166    57.0    190   1100            1     1      0     0       1       1\n",
      "650   929    69       1     160    78.0    140     70            1     1      0     0       0       1\n",
      "651   930    81       2     169    65.0    120     80            1     1      0     0       0       0\n",
      "652   931    73       2     172    77.0    130     80            2     1      1     0       0       1\n",
      "653   932    63       1     156    72.0    180   1000            2     1      0     0       0       1\n",
      "654   933    65       1     165    67.0    140     90            1     1      0     0       0       1\n",
      "655   934    81       1     165    63.0    120     80            1     1      0     0       1       0\n",
      "656   935    67       2     160    66.0    120     80            1     1      0     0       1       0\n",
      "657   936    67       1     154    69.0    110     70            2     1      0     0       1       0\n",
      "658   937    59       2     170    72.0    120     80            1     1      0     0       1       0\n",
      "659   938    73       1     162    62.0    110     70            1     1      0     0       1       0\n",
      "660   939    73       1     162    71.0    120     80            1     1      0     0       1       0\n",
      "661   941    81       1     168    75.0    120     80            1     1      0     0       1       0\n",
      "662   942    70       1     160    48.0    130     80            2     1      0     0       1       0\n",
      "663   943    72       1     162    56.0    120     80            1     1      0     0       1       0\n",
      "664   945    67       1     160    60.0    120     80            1     1      0     0       1       0\n",
      "665   946    65       2     167    90.0    130     85            2     2      1     1       1       0\n",
      "666   947    77       2     179    74.0    120     60            1     1      0     0       1       0\n",
      "667   948    73       1     156    93.0    140     90            1     1      0     0       1       1\n",
      "668   949    67       1     160    55.0    130     80            1     1      0     0       0       1\n",
      "669   950    60       2     174    86.0    120     80            1     1      0     0       0       0\n",
      "670   951    65       2     176    97.0    140     90            3     1      0     0       1       0\n",
      "671   952    79       1     150    70.0    145    110            1     1      0     0       1       1\n",
      "672   953    79       2     163    70.0    110     70            1     1      0     0       1       0\n",
      "673   954    59       2     170    69.0    120     80            3     3      0     0       1       1\n",
      "674   955    71       1     150    61.0    150     90            3     3      0     0       1       1\n",
      "675   956    79       1     162    88.0    100     80            1     1      0     0       1       0\n",
      "676   958    73       2     168    75.0    110     80            1     1      1     1       1       0\n",
      "677   959    83       2     176    82.0    120     80            1     1      0     0       1       0\n",
      "678   960    83       1     152    57.0    120     80            1     1      0     0       1       0\n",
      "679   962    75       2     172    70.0    110     70            1     1      1     0       1       0\n",
      "680   963    67       1     169    75.0    130     90            1     1      0     0       1       0\n",
      "681   964    83       2     175    72.0    120     70            1     1      0     0       1       0\n",
      "682   965    63       1     157    78.0    150    100            3     3      0     0       1       1\n",
      "683   966    59       2     170    89.0    130     90            2     1      0     0       1       1\n",
      "684   968    81       1     162    78.0    100     60            1     1      0     0       1       0\n",
      "685   969    65       1     158    94.0    140     90            2     1      0     0       0       1\n",
      "686   970    59       2     157    71.0    150     80            1     2      0     0       1       1\n",
      "687   972    76       2     176    79.0    140     90            2     2      0     0       1       1\n",
      "688   973    69       1     161    91.0    120     80            1     1      0     0       0       1\n",
      "689   974    79       1     160    95.0    130     80            1     1      0     0       0       0\n",
      "690   977    83       2     168    68.0    140     90            1     1      0     0       1       1\n",
      "691   978    58       1     165    60.0    120     80            1     1      0     0       0       1\n",
      "692   979    71       1     162    68.0    120     80            1     1      0     0       1       0\n",
      "693   980    61       1     160    55.0    150     80            1     1      0     0       1       1\n",
      "694   982    65       2     170    90.0    110     70            1     1      1     1       1       0\n",
      "695   983    69       1     150    55.0    110     70            1     1      0     0       1       0\n",
      "696   984    63       2     162    62.0    130     80            1     1      0     0       0       1\n",
      "697   986    61       2     171   108.0    161     73            1     1      1     0       1       1\n",
      "698   987    59       1     165    68.0    120     80            1     1      0     0       0       1\n",
      "699   988    61       1     155    69.0    130     80            2     2      0     0       1       0\n",
      "700   989    83       1     163    71.0    110     70            1     1      0     0       1       1\n",
      "701   990    63       1     165    70.0    120     80            1     1      0     0       1       0\n",
      "702   991    83       2     165    85.0    120     80            1     1      1     1       1       0\n",
      "703   992    59       1     155    62.0    120     80            1     1      0     0       1       0\n",
      "704   995    65       1     164    61.0    100     70            1     1      0     0       1       0\n",
      "705   996    73       1     162    72.0    100     70            1     1      0     0       1       0\n",
      "706   997    61       1     161    93.0    140     90            2     1      0     0       1       1\n",
      "707   999    65       1     157    68.0    110     80            1     1      0     0       1       0\n",
      "708  1000    62       1     158    65.0    140     90            3     1      0     0       1       1\n",
      "709  1001    77       1     153    57.0    120     80            3     2      0     0       1       1\n",
      "710  1002    67       2     169    82.0    130     90            1     1      0     0       1       1\n",
      "711  1003    60       2     150    56.0    130     80            2     1      0     0       1       1\n",
      "712  1004    61       1     176    72.0    130     90            1     3      0     0       1       1\n",
      "713  1006    67       1     154    85.0    160    100            3     1      0     0       1       1\n",
      "714  1008    58       1     159    60.0    120     80            1     1      0     0       1       1\n",
      "715  1010    68       2     146    45.0    120     80            1     1      0     0       1       0\n",
      "716  1011    69       1     165    90.0    140     90            1     1      0     0       1       1\n",
      "717  1013    68       2     167    65.0    120     80            1     1      0     0       0       0\n",
      "718  1014    71       1     154    70.0    110     70            1     1      0     0       1       0\n",
      "719  1015    59       2     170    74.0    140   1000            1     1      0     0       1       1\n",
      "720  1017    60       1     150    56.0    130     80            1     1      0     0       1       1\n",
      "721  1018    67       1     162    88.0    160     90            2     1      0     0       1       1\n",
      "722  1019    63       2     167    74.0    110     70            1     1      0     0       0       0\n",
      "723  1021    69       2     167    95.0    110     70            1     1      0     0       1       0\n",
      "724  1022    58       1     163   103.0    140    100            1     1      0     0       1       1\n",
      "725  1023    75       1     162    80.0    120     80            1     1      0     0       1       0\n",
      "726  1024    59       1     151    63.0    120     80            2     2      0     0       0       1\n",
      "727  1026    79       1     161    55.0    100     60            1     1      0     0       0       0\n",
      "728  1027    83       2     183    91.0    130     80            2     1      0     0       1       1\n",
      "729  1028    82       2     160    62.0    120     80            1     1      0     0       1       0\n",
      "730  1029    65       1     164    77.0    110     80            1     2      0     1       1       0\n",
      "731  1031    64       2     170    71.0    130     80            1     1      1     0       1       1\n",
      "732  1032    64       2     167    70.0    160     90            2     1      1     1       1       1\n",
      "733  1033    81       2     169   103.0    120     80            1     1      0     0       1       0\n",
      "734  1034    65       1     155    83.0    120     80            2     1      0     0       1       1\n",
      "735  1035    77       2     178    91.0    120     80            1     1      0     0       1       1\n",
      "736  1036    79       1     169    69.0    110     70            1     1      0     0       1       0\n",
      "737  1037    77       1     160    77.0    140     90            2     2      1     0       0       1\n",
      "738  1038    71       2     171   113.0    130     80            1     1      0     0       1       0\n",
      "739  1039    81       1     151    71.0    120     79            1     1      0     0       1       0\n",
      "740  1040    71       1     179   129.0    140     90            3     3      0     0       0       1\n",
      "741  1041    65       1     159    63.0    110     70            3     3      0     0       1       1\n",
      "742  1042    69       1     170    60.0    120     80            1     1      0     0       1       0\n",
      "743  1043    69       2     165    72.0    120     80            1     1      0     0       1       1\n",
      "744  1044    71       1     165    65.0    120     80            1     1      0     0       1       0\n",
      "745  1045    65       1     170    81.0    170     90            3     3      0     0       0       1\n",
      "746  1046    73       1     174    94.0    140     90            3     2      0     0       1       0\n",
      "747  1047    76       2     169    62.0    100     80            3     1      0     0       1       0\n",
      "748  1048    79       2     162    76.0    120     80            1     1      0     0       0       0\n",
      "749  1049    75       2     180    96.0    130     80            1     1      0     0       1       1\n",
      "750  1050    69       1     170    69.0    130     70            1     1      0     0       1       0\n",
      "751  1051    69       2     183   114.0    120     80            1     1      0     0       0       0\n",
      "752  1052    61       1     164    79.0    130     80            3     2      0     0       1       1\n",
      "753  1053    68       2     167    78.0    120     80            1     1      0     0       0       0\n",
      "754  1054    65       2     168    73.0    160     80            1     1      0     0       1       1\n",
      "755  1055    79       1     162    86.0    120     80            1     1      0     0       0       0\n",
      "756  1056    62       1     161    94.0    140     80            3     2      0     0       1       1\n",
      "757  1057    67       1     166    71.0    130     90            1     1      0     0       1       1\n",
      "758  1058    66       2     163    96.0    130     60            1     1      0     0       0       0\n",
      "759  1059    62       1     149    58.0    130     90            3     3      0     0       1       1\n",
      "760  1060    81       2     160    68.0    120     80            1     1      0     0       0       0\n",
      "761  1062    83       1     163    95.0    130     80            2     2      0     0       1       0\n",
      "762  1063    70       1     160    71.0    160    100            3     1      0     0       1       1\n",
      "763  1064    70       2     174    65.0    120     80            1     1      0     0       1       0\n",
      "764  1065    78       2     170    96.0    140     80            2     1      0     0       1       1\n",
      "765  1066    71       2     169    71.0    140     90            1     1      0     0       1       1\n",
      "766  1067    59       1     151    58.0    120     70            1     1      0     0       1       1\n",
      "767  1069    61       1     155    58.0    130     90            1     1      0     0       1       1\n",
      "768  1070    83       1     161    82.0    150     80            2     1      0     0       1       1\n",
      "769  1071    69       1     156    60.0    120     80            1     1      0     0       1       0\n",
      "770  1073    65       1     166    70.0    140     80            1     1      0     0       0       0\n",
      "771  1074    61       2     156    64.0    110     70            1     1      0     0       1       0\n",
      "772  1075    79       2     179    87.0    140     78            1     1      1     1       1       1\n",
      "773  1076    80       1     147    55.0    120     90            1     1      0     0       1       0\n",
      "774  1077    65       2     171    86.0    160    110            1     2      0     0       1       1\n",
      "775  1078    69       1     151    75.0    160     90            3     1      0     0       1       1\n",
      "776  1081    65       1     174    65.0    120     80            1     1      0     0       1       1\n",
      "777  1082    63       1     156    78.0    130     90            3     1      0     0       0       1\n",
      "778  1083    77       2     174    68.0    160    100            1     1      0     0       1       0\n",
      "779  1084    75       2     170    70.0    170    100            1     1      0     0       1       1\n",
      "780  1085    83       1     152    72.0    110     70            1     2      0     0       1       1\n",
      "781  1086    59       1     141    60.0    120     80            1     1      0     0       1       1\n",
      "782  1087    83       1     173    73.0    160    100            1     1      0     0       0       1\n",
      "783  1092    65       1     160    90.0    147     84            2     1      0     1       1       1\n",
      "784  1093    73       2     169    74.0    120     80            1     1      0     0       0       0\n",
      "785  1094    77       1     160    67.0    120     80            1     1      0     0       0       0\n",
      "786  1098    71       1     152   124.0    120     80            2     2      0     0       1       1\n",
      "787  1100    69       1     150    63.0    110     70            1     1      0     0       1       0\n",
      "788  1101    76       1     167    75.0    100     70            1     1      0     0       1       0\n",
      "789  1102    63       1     165    80.0    120     70            1     1      0     0       1       1\n",
      "790  1103    67       1     165    95.0    130     80            1     1      0     0       1       0\n",
      "791  1104    59       1     158    88.0    130     80            1     2      0     0       1       1\n",
      "792  1106    79       1     159    77.0    120     80            1     1      0     0       1       0\n",
      "793  1107    60       1     162    65.0    140     90            3     3      0     0       1       0\n",
      "794  1109    67       1     176   120.0    150     90            1     1      0     0       0       0\n",
      "795  1110    81       2     177    75.0    150    110            1     1      0     0       1       1\n",
      "796  1111    59       2     172    74.0    140     70            2     1      1     0       1       0\n",
      "797  1112    61       2     171    68.0    120     80            1     1      0     0       0       0\n",
      "798  1113    59       2     173    90.0    120     80            1     1      0     0       1       1\n",
      "799  1115    63       1     165    65.0    140     90            3     3      0     0       1       1\n",
      "800  1116    67       1     165    75.0    140     80            2     1      0     0       1       1\n",
      "801  1118    83       2     176    87.0    120     80            1     1      0     0       1       0\n",
      "802  1119    81       2     172    90.0    160     90            3     1      0     0       1       1\n",
      "803  1120    72       1     167    74.0    120     80            1     1      0     0       1       0\n",
      "804  1121    76       1     168    68.0    140     90            3     3      0     0       1       1\n",
      "805  1122    67       1     160    78.0    120     80            1     3      0     0       1       0\n",
      "806  1123    73       1     164    84.0    120     80            1     1      0     0       1       0\n",
      "807  1124    79       1     168    84.0    130     90            1     1      0     0       1       1\n",
      "808  1125    81       2     170    80.0    110     70            1     1      1     0       0       0\n",
      "809  1126    65       2     169    81.0    120     80            1     1      0     0       1       0\n",
      "810  1127    81       2     178    79.0    110     70            2     2      1     0       1       0\n",
      "811  1128    67       1     164    68.0    140     90            3     3      0     0       1       1\n",
      "812  1129    69       1     163    63.0    120     80            3     3      0     0       1       0\n",
      "813  1130    67       1     165    65.0    120     80            1     1      0     0       1       1\n",
      "814  1131    69       2     160    58.0    120     80            1     1      1     0       1       0\n",
      "815  1133    63       2     175    86.0    115     75            3     2      0     0       1       1\n",
      "816  1134    59       1     152    64.0    140     90            1     1      0     0       1       1\n",
      "817  1135    69       2     173    83.0    150    100            3     3      1     0       1       1\n",
      "818  1136    73       1     156    60.0    110     70            1     1      0     0       1       0\n",
      "819  1137    75       1     170    64.0    130     80            1     1      0     0       1       1\n",
      "820  1138    63       2     164    75.0    150     90            3     1      0     0       0       1\n",
      "821  1141    58       1     156    98.0    130     90            3     3      0     0       1       1\n",
      "822  1143    75       1     155    79.0    110     70            2     1      0     0       1       1\n",
      "823  1144    69       1     166    73.0    110     70            2     1      0     1       1       0\n",
      "824  1145    69       2     163    51.0    140     90            1     1      1     0       1       1\n",
      "825  1147    79       1     161    88.0    150     80            3     1      0     0       1       1\n",
      "826  1148    79       2     174    61.0    120     80            1     1      0     0       0       0\n",
      "827  1150    60       1     147    64.0    160    100            3     1      0     0       1       1\n",
      "828  1152    71       1     174    86.0    120     80            1     1      0     0       0       0\n",
      "829  1158    81       2     168    62.0    140     90            1     1      0     0       1       1\n",
      "830  1159    67       2     167    84.0    110     75            1     1      0     0       1       1\n",
      "831  1160    81       1     160    65.0    120     80            1     1      0     0       1       0\n",
      "832  1162    61       1     160    67.0    130     80            1     1      0     0       0       1\n",
      "833  1163    63       2     167    75.0    140     90            1     1      0     0       1       1\n",
      "834  1164    83       1     166   105.0    110     70            1     1      0     0       1       0\n",
      "835  1166    70       1     170    68.0    120     80            1     1      0     0       1       0\n",
      "836  1167    75       2     172    90.0    110     70            1     1      1     0       1       0\n",
      "837  1168    83       1     148    42.0     90     60            1     1      0     0       1       0\n",
      "838  1169    78       2     171   115.0    150     90            1     1      0     0       1       1\n",
      "839  1171    68       1     160    73.0    120     80            1     1      0     0       0       1\n",
      "840  1172    65       1     173    88.0    150     90            2     1      0     0       1       1\n",
      "841  1174    68       1     158    75.0    160     90            2     1      0     0       0       1\n",
      "842  1176    82       2     165    60.0    120     80            1     1      0     0       0       0\n",
      "843  1177    69       1     159    65.0    150     90            1     1      0     0       1       1\n",
      "844  1178    71       1     170    70.0    120     80            1     1      0     0       0       1\n",
      "845  1179    73       1     166    75.0    110     80            1     1      0     0       1       0\n",
      "846  1180    65       1     167    75.0    110     70            1     1      0     0       1       0\n",
      "847  1182    80       2     165    64.0    140     90            1     1      0     0       1       0\n",
      "848  1183    84       1     169    67.0    120     80            1     1      0     0       1       0\n",
      "849  1184    72       1     155    86.0    130     80            1     1      0     0       1       0\n",
      "850  1185    60       1     165    95.0    150     80            3     3      0     0       1       1\n",
      "851  1187    79       1     162   115.0    110     70            1     3      0     0       1       1\n",
      "852  1189    73       1     158    69.0    120     80            1     1      0     0       1       0\n",
      "853  1190    65       1     166    92.0    180    110            1     1      0     0       1       1\n",
      "854  1191    75       1     156   116.0    110     70            2     1      0     0       1       0\n",
      "855  1192    67       1     168    80.0    120     80            1     1      0     0       0       1\n",
      "856  1193    73       1     160    83.0    110     80            1     1      0     0       0       0\n",
      "857  1194    59       2     164    74.0    120     80            1     1      1     1       0       1\n",
      "858  1195    69       1     162    75.0    120     80            1     1      0     0       1       0\n",
      "859  1196    59       1     150    50.0    150     90            1     1      0     0       1       1\n",
      "860  1197    73       1     167    70.0    120     80            1     1      0     0       0       0\n",
      "861  1198    69       1     165    68.0    120     80            1     1      0     0       1       0\n",
      "862  1201    79       2     171    71.0    120     80            1     1      0     0       0       0\n",
      "863  1203    79       2     170    72.0    120     80            1     1      0     0       1       0\n",
      "864  1204    77       1     166   100.0    110     70            1     1      0     0       1       0\n",
      "865  1205    72       1     164    70.0    150     90            3     1      1     0       1       1\n",
      "866  1206    73       2     160    67.0    120     80            1     1      0     0       1       0\n",
      "867  1207    69       1     161    63.0    140     90            1     1      0     0       1       0\n",
      "868  1208    66       1     161    68.0    120     90            1     1      0     0       1       0\n",
      "869  1209    81       2     172    58.0    140     90            1     1      0     0       1       1\n",
      "870  1210    62       2     178   107.0    150     80            3     1      0     0       1       1\n",
      "871  1211    69       2     170    85.0    130     90            3     1      0     0       1       0\n",
      "872  1212    75       2     174    75.0    140     90            3     1      0     0       1       1\n",
      "873  1213    60       2     170    78.0    120     70            3     3      0     0       1       0\n",
      "874  1216    68       1     165    75.0    120     80            1     3      0     0       1       0\n",
      "875  1220    63       1     156    60.0    130     80            3     3      0     0       1       1\n",
      "876  1221    81       2     174   105.0    130     90            1     1      0     0       1       0\n",
      "877  1222    77       1     162    80.0    160     80            1     1      1     0       1       1\n",
      "878  1223    73       1     165    83.0    120     90            1     1      0     0       1       0\n",
      "879  1225    73       1     165    65.0    120     80            1     1      0     0       0       0\n",
      "880  1227    59       2     168    80.0    160     90            1     1      0     0       1       0\n",
      "881  1229    75       2     170    84.0    150   1100            1     1      1     0       0       1\n",
      "882  1231    73       1     170    59.0    120     80            1     1      0     0       1       1\n",
      "883  1232    79       2     170    70.0    110     70            1     1      0     0       1       0\n",
      "884  1233    62       1     169    68.0    120     80            1     1      0     0       1       1\n",
      "885  1235    61       1     164    66.0    120     80            1     1      0     0       0       1\n",
      "886  1236    61       1     160    72.0    170     90            1     2      0     0       0       0\n",
      "887  1237    81       2     170    65.0    120     80            1     1      1     1       1       0\n",
      "888  1238    71       1     153    69.0    130     60            1     1      0     0       1       1\n",
      "889  1239    65       1     156    55.0    100     70            1     1      0     0       0       0\n",
      "890  1240    69       1     160    79.0    130     90            2     1      0     0       1       0\n",
      "891  1242    75       2     169    73.0    120     70            1     1      0     0       1       0\n",
      "892  1244    59       1     164    92.0    130     90            1     1      0     0       1       1\n",
      "893  1245    81       2     160    78.0    110     80            1     1      0     0       1       0\n",
      "894  1246    59       1     164    74.0    120     80            1     1      0     0       1       0\n",
      "895  1247    65       2     152    49.0    130     80            1     1      0     0       1       0\n",
      "896  1248    69       2     167    78.0    150     90            2     2      0     0       0       1\n",
      "897  1250    74       2     160    85.0    120     60            1     1      0     0       1       0\n",
      "898  1252    77       1     156    62.0    120     80            1     1      0     0       1       0\n",
      "899  1253    65       1     156    72.0    140    100            2     1      0     0       1       1\n",
      "900  1254    69       1     163    63.0    120     80            3     3      0     0       0       1\n",
      "901  1255    71       1     159    63.0    150     80            2     1      0     0       1       1\n",
      "902  1256    84       1     166    64.0    110     70            1     1      0     0       1       0\n",
      "903  1257    58       1     162    62.0    120     80            1     3      0     0       1       0\n",
      "904  1258    65       1     159    74.0    160    100            3     1      0     0       0       1\n",
      "905  1264    67       1     159    80.0    140    100            1     1      0     0       1       1\n",
      "906  1266    59       1     159    60.0    130     80            3     2      0     1       1       1\n",
      "907  1269    67       2     167    74.0    130     70            1     1      1     0       1       1\n",
      "908  1270    83       1     172    93.0    110     75            2     2      0     0       0       0\n",
      "909  1271    71       1     163    65.0    150     90            2     1      0     0       1       1\n",
      "910  1272    73       1     154    65.0    120     80            1     1      0     0       1       0\n",
      "911  1273    59       2     160    86.0    120     80            1     1      0     0       1       0\n",
      "912  1274    63       1     169    65.0    120     80            1     1      0     0       1       0\n",
      "913  1275    61       2     160    57.0    150     80            1     2      1     1       1       0\n",
      "914  1276    75       1     164    80.0    140     90            2     1      0     0       1       1\n",
      "915  1277    61       2     160    67.0    120     80            1     1      0     0       1       1\n",
      "916  1278    69       2     163    71.0    130     80            1     1      1     1       1       0\n",
      "917  1280    77       1     179    75.0    120     80            1     1      0     0       0       1\n",
      "918  1281    68       1     167    68.0    100     60            1     1      0     0       1       0\n",
      "919  1283    72       1     167    64.0    120     80            1     1      0     0       0       0\n",
      "920  1284    67       1     168    65.0    160    100            1     1      0     0       1       1\n",
      "921  1285    69       1     153    75.0    140     80            1     1      0     0       1       1\n",
      "922  1288    68       1     158    74.0    110     70            1     1      0     0       0       0\n",
      "923  1289    69       1     156   105.0    130     80            2     1      0     0       1       1\n",
      "924  1290    73       2     174    92.0    140     90            1     2      0     0       0       1\n",
      "925  1292    77       2     171    69.0    120     80            2     1      1     0       1       1\n",
      "926  1293    69       1     163    60.0    120     80            1     1      0     0       0       0\n",
      "927  1294    63       2     175    70.0     14     90            3     1      0     0       1       1\n",
      "928  1295    65       1     163    62.0    110     90            1     1      0     0       1       0\n",
      "929  1298    60       1     156    54.0    110     70            1     1      0     0       0       0\n",
      "930  1299    69       1     169    85.0    120     90            2     1      0     0       0       1\n",
      "931  1300    60       1     161    72.0    120     80            2     1      0     0       1       1\n",
      "932  1301    77       1     159    56.0    110     70            1     1      0     0       1       0\n",
      "933  1302    79       1     163    98.0    120     80            1     1      1     0       1       0\n",
      "934  1304    71       1     159    63.0    110     70            1     1      0     0       1       0\n",
      "935  1306    69       2     167    72.0    120     80            1     1      0     0       0       0\n",
      "936  1307    59       2     175    90.0    160     80            3     3      0     0       1       1\n",
      "937  1308    65       1     154    70.0    120     60            1     1      0     0       1       0\n",
      "938  1309    65       2     170    63.0    100     60            1     1      0     0       1       1\n",
      "939  1310    69       2     175    82.0    150    100            2     2      1     1       1       1\n",
      "940  1311    79       1     167    69.0    110     70            1     1      0     0       1       0\n",
      "941  1312    62       2     164    68.0    120     80            1     1      1     0       1       1\n",
      "942  1313    59       1     151    55.0    120     80            1     1      0     0       0       0\n",
      "943  1314    82       2     175    76.0    120     80            1     1      0     0       1       0\n",
      "944  1315    69       2     167    87.0    120     85            1     1      1     0       1       0\n",
      "945  1317    73       2     178    91.0    125     80            1     1      0     0       1       1\n",
      "946  1319    65       1     165    88.0    150     90            1     1      0     0       1       1\n",
      "947  1321    73       1     155    83.0    140     90            1     1      0     0       1       0\n",
      "948  1322    77       2     178    86.0    120     80            2     3      0     0       1       0\n",
      "949  1323    71       1     156    75.0    120     80            3     3      0     0       1       1\n",
      "950  1324    73       1     160    59.0    120     80            1     1      0     0       1       0\n",
      "951  1325    80       1     169    90.0    135     90            1     1      0     0       0       1\n",
      "952  1326    73       1     167    81.0    120     80            2     1      0     1       1       0\n",
      "953  1327    83       1     167    67.0    120     80            1     1      0     0       1       0\n",
      "954  1328    69       1     161    94.0    120     90            1     1      0     0       0       1\n",
      "955  1329    64       1     168    90.0    140     90            3     2      0     0       1       1\n",
      "956  1330    71       1     156   123.0    150     90            1     1      0     0       0       1\n",
      "957  1333    71       2     175    90.0    150     90            1     1      0     0       1       1\n",
      "958  1334    74       2     175    89.0    120     80            1     1      0     0       1       0\n",
      "959  1335    77       1     158    76.0    130     90            1     1      0     0       1       1\n",
      "960  1336    83       2     174    68.0    120     80            1     1      1     1       1       0\n",
      "961  1337    83       1     165    80.0    120     80            1     1      0     0       1       0\n",
      "962  1338    59       1     162    84.0    120     80            2     1      0     0       0       1\n",
      "963  1339    71       2     163    55.0    120     80            3     1      1     0       1       1\n",
      "964  1340    76       2     162    60.0    120     80            1     1      0     0       1       0\n",
      "965  1341    69       1     155    83.0    190     90            2     2      0     0       1       1\n",
      "966  1342    60       1     144    73.0    137     86            3     1      0     0       1       0\n",
      "967  1344    63       1     163    57.0    150     90            1     1      0     0       1       1\n",
      "968  1345    59       2     165    67.0    120     80            1     1      0     0       1       0\n",
      "969  1346    69       1     162    67.0    120     80            1     1      0     0       1       1\n",
      "970  1348    66       1     160    65.0    120     80            1     2      0     1       0       1\n",
      "971  1349    69       2     177    68.0    130     80            1     1      0     0       1       0\n",
      "972  1350    63       2     178    92.0    153     87            3     3      0     0       1       1\n",
      "973  1351    65       2     168    67.0    110     70            2     1      0     0       1       0\n",
      "974  1353    69       2     160    75.0    120     80            1     1      0     0       1       0\n",
      "975  1354    70       2     165    67.0    120     80            3     3      0     0       0       0\n",
      "976  1355    61       2     164    72.0    130     90            2     1      0     0       0       1\n",
      "977  1356    77       2     170    78.0    110     70            1     3      0     0       1       0\n",
      "978  1357    79       1     160   100.0    120     80            1     1      1     0       1       0\n",
      "979  1360    73       1     172    65.0     11     80            1     3      0     0       1       0\n",
      "980  1362    66       2     168    68.0    120     80            1     1      0     0       1       1\n",
      "981  1363    67       1     166    67.0    120     80            1     1      0     0       1       1\n",
      "982  1364    73       1     163    60.0    110     70            1     3      0     0       1       0\n",
      "983  1365    82       1     166    52.0     90     60            1     1      0     0       0       0\n",
      "984  1367    67       1     156    76.0    150     90            1     1      0     0       0       1\n",
      "985  1368    81       2     174    85.0    140     90            1     1      0     0       1       1\n",
      "986  1369    69       1     158    87.0    130     90            1     1      0     1       1       0\n",
      "987  1372    65       2     172    81.0    120     80            1     1      0     0       0       0\n",
      "988  1373    77       2     169    68.0    120     80            1     1      0     0       1       1\n",
      "989  1374    68       1     158    68.0    150     90            1     1      0     0       1       1\n",
      "990  1375    68       2     185   116.0    150     90            3     1      0     0       1       1\n",
      "991  1376    59       2     179    66.0    120     80            1     1      0     0       1       0\n",
      "992  1378    63       1     154   110.0    110     70            1     1      0     0       0       0\n",
      "993  1379    81       1     162    68.0    145     80            2     1      0     0       0       1\n",
      "994  1380    83       1     160    62.0    110     60            1     1      0     0       1       0\n",
      "995  1381    69       2     167    64.0    110     70            1     1      0     0       0       0\n",
      "996  1383    71       1     168    78.0    120     80            1     1      0     0       1       1\n",
      "997  1385    72       1     149    56.0    140     80            1     1      0     0       1       1\n",
      "998  1386    75       1     156    74.0    150     90            1     1      0     0       0       1\n",
      "999  1387    68       1     150    68.0    120     80            2     2      0     0       0       1\n",
      "\n",
      "[Showing only the first 1000 rows x 13 columns]"
     ]
    }
   ],
   "source": [
    "#dropping outliers from the dataset; total amount dropped is 1195 rows which makes up less than 2% of our total data\n",
    "no_outliers = heart_csv[(heart_csv.weight > 25)&(heart_csv.age3 > 0)&(heart_csv.height < 240)]\n",
    "no_outliers"
   ]
  },
  {
   "cell_type": "code",
   "execution_count": 25,
   "id": "ab9f3e80",
   "metadata": {},
   "outputs": [
    {
     "data": {
      "application/vnd.jupyter.widget-view+json": {
       "model_id": "13e7710e68b74c37a25b31fe7f9adc4c",
       "version_major": 2,
       "version_minor": 0
      },
      "text/plain": [
       "VBox()"
      ]
     },
     "metadata": {},
     "output_type": "display_data"
    },
    {
     "data": {
      "application/vnd.jupyter.widget-view+json": {
       "model_id": "",
       "version_major": 2,
       "version_minor": 0
      },
      "text/plain": [
       "FloatProgress(value=0.0, bar_style='info', description='Progress:', layout=Layout(height='25px', width='50%'),…"
      ]
     },
     "metadata": {},
     "output_type": "display_data"
    }
   ],
   "source": [
    "#import libraries \n",
    "import pyspark.sql.functions as F\n",
    "import pyspark.ml.feature as feat\n",
    "from pyspark.ml import Pipeline\n",
    "import numpy as np \n",
    "import pyspark.ml.stat as st\n",
    "import pandas as pd\n",
    "import pyspark.ml.classification as cl\n",
    "import pyspark.ml.evaluation as ev"
   ]
  },
  {
   "cell_type": "code",
   "execution_count": 26,
   "id": "bf0f853a",
   "metadata": {},
   "outputs": [
    {
     "data": {
      "application/vnd.jupyter.widget-view+json": {
       "model_id": "393b9e0c0fe24a1ea5906cae88bab18b",
       "version_major": 2,
       "version_minor": 0
      },
      "text/plain": [
       "VBox()"
      ]
     },
     "metadata": {},
     "output_type": "display_data"
    },
    {
     "data": {
      "application/vnd.jupyter.widget-view+json": {
       "model_id": "",
       "version_major": 2,
       "version_minor": 0
      },
      "text/plain": [
       "FloatProgress(value=0.0, bar_style='info', description='Progress:', layout=Layout(height='25px', width='50%'),…"
      ]
     },
     "metadata": {},
     "output_type": "display_data"
    },
    {
     "name": "stderr",
     "output_type": "stream",
     "text": [
      "An error was encountered:\n",
      "An error occurred while calling o1924.save.\n",
      ": org.apache.spark.SparkException: Job aborted due to stage failure: Task 0 in stage 72.0 failed 4 times, most recent failure: Lost task 0.3 in stage 72.0 (TID 71) (ip-172-31-47-208.ec2.internal executor 1): java.lang.RuntimeException: Failed to run command: /usr/bin/virtualenv -p python3 --no-pip --system-site-packages virtualenv_application_1691032593746_0001_0\n",
      "\tat org.apache.spark.api.python.VirtualEnvFactory.execCommand(VirtualEnvFactory.scala:125)\n",
      "\tat org.apache.spark.api.python.VirtualEnvFactory.setupVirtualEnv(VirtualEnvFactory.scala:83)\n",
      "\tat org.apache.spark.api.python.PythonWorkerFactory.<init>(PythonWorkerFactory.scala:95)\n",
      "\tat org.apache.spark.SparkEnv.$anonfun$createPythonWorker$1(SparkEnv.scala:128)\n",
      "\tat scala.collection.mutable.HashMap.getOrElseUpdate(HashMap.scala:86)\n",
      "\tat org.apache.spark.SparkEnv.createPythonWorker(SparkEnv.scala:128)\n",
      "\tat org.apache.spark.api.python.BasePythonRunner.compute(PythonRunner.scala:157)\n",
      "\tat org.apache.spark.api.python.PythonRDD.compute(PythonRDD.scala:65)\n",
      "\tat org.apache.spark.rdd.RDD.computeOrReadCheckpoint(RDD.scala:365)\n",
      "\tat org.apache.spark.rdd.RDD.iterator(RDD.scala:329)\n",
      "\tat org.apache.spark.rdd.MapPartitionsRDD.compute(MapPartitionsRDD.scala:52)\n",
      "\tat org.apache.spark.rdd.RDD.computeOrReadCheckpoint(RDD.scala:365)\n",
      "\tat org.apache.spark.rdd.RDD.iterator(RDD.scala:329)\n",
      "\tat org.apache.spark.rdd.MapPartitionsRDD.compute(MapPartitionsRDD.scala:52)\n",
      "\tat org.apache.spark.rdd.RDD.computeOrReadCheckpoint(RDD.scala:365)\n",
      "\tat org.apache.spark.rdd.RDD.iterator(RDD.scala:329)\n",
      "\tat org.apache.spark.rdd.MapPartitionsRDD.compute(MapPartitionsRDD.scala:52)\n",
      "\tat org.apache.spark.rdd.RDD.computeOrReadCheckpoint(RDD.scala:365)\n",
      "\tat org.apache.spark.rdd.RDD.iterator(RDD.scala:329)\n",
      "\tat org.apache.spark.rdd.MapPartitionsRDD.compute(MapPartitionsRDD.scala:52)\n",
      "\tat org.apache.spark.rdd.RDD.computeOrReadCheckpoint(RDD.scala:365)\n",
      "\tat org.apache.spark.rdd.RDD.iterator(RDD.scala:329)\n",
      "\tat org.apache.spark.rdd.MapPartitionsRDD.compute(MapPartitionsRDD.scala:52)\n",
      "\tat org.apache.spark.rdd.RDD.computeOrReadCheckpoint(RDD.scala:365)\n",
      "\tat org.apache.spark.rdd.RDD.iterator(RDD.scala:329)\n",
      "\tat org.apache.spark.shuffle.ShuffleWriteProcessor.write(ShuffleWriteProcessor.scala:59)\n",
      "\tat org.apache.spark.scheduler.ShuffleMapTask.runTask(ShuffleMapTask.scala:99)\n",
      "\tat org.apache.spark.scheduler.ShuffleMapTask.runTask(ShuffleMapTask.scala:52)\n",
      "\tat org.apache.spark.scheduler.Task.run(Task.scala:138)\n",
      "\tat org.apache.spark.executor.Executor$TaskRunner.$anonfun$run$3(Executor.scala:548)\n",
      "\tat org.apache.spark.util.Utils$.tryWithSafeFinally(Utils.scala:1516)\n",
      "\tat org.apache.spark.executor.Executor$TaskRunner.run(Executor.scala:551)\n",
      "\tat java.util.concurrent.ThreadPoolExecutor.runWorker(ThreadPoolExecutor.java:1149)\n",
      "\tat java.util.concurrent.ThreadPoolExecutor$Worker.run(ThreadPoolExecutor.java:624)\n",
      "\tat java.lang.Thread.run(Thread.java:750)\n",
      "\n",
      "Driver stacktrace:\n",
      "\tat org.apache.spark.scheduler.DAGScheduler.failJobAndIndependentStages(DAGScheduler.scala:2863)\n",
      "\tat org.apache.spark.scheduler.DAGScheduler.$anonfun$abortStage$2(DAGScheduler.scala:2799)\n",
      "\tat org.apache.spark.scheduler.DAGScheduler.$anonfun$abortStage$2$adapted(DAGScheduler.scala:2798)\n",
      "\tat scala.collection.mutable.ResizableArray.foreach(ResizableArray.scala:62)\n",
      "\tat scala.collection.mutable.ResizableArray.foreach$(ResizableArray.scala:55)\n",
      "\tat scala.collection.mutable.ArrayBuffer.foreach(ArrayBuffer.scala:49)\n",
      "\tat org.apache.spark.scheduler.DAGScheduler.abortStage(DAGScheduler.scala:2798)\n",
      "\tat org.apache.spark.scheduler.DAGScheduler.$anonfun$handleTaskSetFailed$1(DAGScheduler.scala:1239)\n",
      "\tat org.apache.spark.scheduler.DAGScheduler.$anonfun$handleTaskSetFailed$1$adapted(DAGScheduler.scala:1239)\n",
      "\tat scala.Option.foreach(Option.scala:407)\n",
      "\tat org.apache.spark.scheduler.DAGScheduler.handleTaskSetFailed(DAGScheduler.scala:1239)\n",
      "\tat org.apache.spark.scheduler.DAGSchedulerEventProcessLoop.doOnReceive(DAGScheduler.scala:3051)\n",
      "\tat org.apache.spark.scheduler.DAGSchedulerEventProcessLoop.onReceive(DAGScheduler.scala:2993)\n",
      "\tat org.apache.spark.scheduler.DAGSchedulerEventProcessLoop.onReceive(DAGScheduler.scala:2982)\n",
      "\tat org.apache.spark.util.EventLoop$$anon$1.run(EventLoop.scala:49)\n",
      "\tat org.apache.spark.sql.execution.adaptive.AdaptiveExecutor.checkNoFailures(AdaptiveExecutor.scala:154)\n",
      "\tat org.apache.spark.sql.execution.adaptive.AdaptiveExecutor.doRun(AdaptiveExecutor.scala:88)\n",
      "\tat org.apache.spark.sql.execution.adaptive.AdaptiveExecutor.tryRunningAndGetFuture(AdaptiveExecutor.scala:66)\n",
      "\tat org.apache.spark.sql.execution.adaptive.AdaptiveExecutor.execute(AdaptiveExecutor.scala:57)\n",
      "\tat org.apache.spark.sql.execution.adaptive.AdaptiveSparkPlanExec.$anonfun$getFinalPhysicalPlan$1(AdaptiveSparkPlanExec.scala:252)\n",
      "\tat org.apache.spark.sql.SparkSession.withActive(SparkSession.scala:779)\n",
      "\tat org.apache.spark.sql.execution.adaptive.AdaptiveSparkPlanExec.getFinalPhysicalPlan(AdaptiveSparkPlanExec.scala:251)\n",
      "\tat org.apache.spark.sql.execution.adaptive.AdaptiveSparkPlanExec.withFinalPlanUpdate(AdaptiveSparkPlanExec.scala:524)\n",
      "\tat org.apache.spark.sql.execution.adaptive.AdaptiveSparkPlanExec.finalPhysicalPlan(AdaptiveSparkPlanExec.scala:246)\n",
      "\tat org.apache.spark.sql.execution.datasources.FileFormatWriter$.materializeAdaptiveSparkPlan$1(FileFormatWriter.scala:195)\n",
      "\tat org.apache.spark.sql.execution.datasources.FileFormatWriter$.write(FileFormatWriter.scala:198)\n",
      "\tat org.apache.spark.sql.execution.datasources.InsertIntoHadoopFsRelationCommand.run(InsertIntoHadoopFsRelationCommand.scala:193)\n",
      "\tat org.apache.spark.sql.execution.command.DataWritingCommandExec.sideEffectResult$lzycompute(commands.scala:113)\n",
      "\tat org.apache.spark.sql.execution.command.DataWritingCommandExec.sideEffectResult(commands.scala:111)\n",
      "\tat org.apache.spark.sql.execution.command.DataWritingCommandExec.executeCollect(commands.scala:125)\n",
      "\tat org.apache.spark.sql.execution.QueryExecution$$anonfun$eagerlyExecuteCommands$1.$anonfun$applyOrElse$1(QueryExecution.scala:104)\n",
      "\tat org.apache.spark.sql.catalyst.QueryPlanningTracker$.withTracker(QueryPlanningTracker.scala:107)\n",
      "\tat org.apache.spark.sql.execution.SQLExecution$.withTracker(SQLExecution.scala:224)\n",
      "\tat org.apache.spark.sql.execution.SQLExecution$.executeQuery$1(SQLExecution.scala:114)\n",
      "\tat org.apache.spark.sql.execution.SQLExecution$.$anonfun$withNewExecutionId$7(SQLExecution.scala:139)\n",
      "\tat org.apache.spark.sql.catalyst.QueryPlanningTracker$.withTracker(QueryPlanningTracker.scala:107)\n",
      "\tat org.apache.spark.sql.execution.SQLExecution$.withTracker(SQLExecution.scala:224)\n",
      "\tat org.apache.spark.sql.execution.SQLExecution$.$anonfun$withNewExecutionId$6(SQLExecution.scala:139)\n",
      "\tat org.apache.spark.sql.execution.SQLExecution$.withSQLConfPropagated(SQLExecution.scala:245)\n",
      "\tat org.apache.spark.sql.execution.SQLExecution$.$anonfun$withNewExecutionId$1(SQLExecution.scala:138)\n",
      "\tat org.apache.spark.sql.SparkSession.withActive(SparkSession.scala:779)\n",
      "\tat org.apache.spark.sql.execution.SQLExecution$.withNewExecutionId(SQLExecution.scala:68)\n",
      "\tat org.apache.spark.sql.execution.QueryExecution$$anonfun$eagerlyExecuteCommands$1.applyOrElse(QueryExecution.scala:101)\n",
      "\tat org.apache.spark.sql.execution.QueryExecution$$anonfun$eagerlyExecuteCommands$1.applyOrElse(QueryExecution.scala:97)\n",
      "\tat org.apache.spark.sql.catalyst.trees.TreeNode.$anonfun$transformDownWithPruning$1(TreeNode.scala:626)\n",
      "\tat org.apache.spark.sql.catalyst.trees.CurrentOrigin$.withOrigin(TreeNode.scala:179)\n",
      "\tat org.apache.spark.sql.catalyst.trees.TreeNode.transformDownWithPruning(TreeNode.scala:626)\n",
      "\tat org.apache.spark.sql.catalyst.plans.logical.LogicalPlan.org$apache$spark$sql$catalyst$plans$logical$AnalysisHelper$$super$transformDownWithPruning(LogicalPlan.scala:31)\n",
      "\tat org.apache.spark.sql.catalyst.plans.logical.AnalysisHelper.transformDownWithPruning(AnalysisHelper.scala:267)\n",
      "\tat org.apache.spark.sql.catalyst.plans.logical.AnalysisHelper.transformDownWithPruning$(AnalysisHelper.scala:263)\n",
      "\tat org.apache.spark.sql.catalyst.plans.logical.LogicalPlan.transformDownWithPruning(LogicalPlan.scala:31)\n",
      "\tat org.apache.spark.sql.catalyst.plans.logical.LogicalPlan.transformDownWithPruning(LogicalPlan.scala:31)\n",
      "\tat org.apache.spark.sql.catalyst.trees.TreeNode.transformDown(TreeNode.scala:602)\n",
      "\tat org.apache.spark.sql.execution.QueryExecution.eagerlyExecuteCommands(QueryExecution.scala:97)\n",
      "\tat org.apache.spark.sql.execution.QueryExecution.commandExecuted$lzycompute(QueryExecution.scala:84)\n",
      "\tat org.apache.spark.sql.execution.QueryExecution.commandExecuted(QueryExecution.scala:82)\n",
      "\tat org.apache.spark.sql.execution.QueryExecution.assertCommandExecuted(QueryExecution.scala:125)\n",
      "\tat org.apache.spark.sql.DataFrameWriter.runCommand(DataFrameWriter.scala:860)\n",
      "\tat org.apache.spark.sql.DataFrameWriter.saveToV1Source(DataFrameWriter.scala:390)\n",
      "\tat org.apache.spark.sql.DataFrameWriter.saveInternal(DataFrameWriter.scala:363)\n",
      "\tat org.apache.spark.sql.DataFrameWriter.save(DataFrameWriter.scala:239)\n",
      "\tat sun.reflect.NativeMethodAccessorImpl.invoke0(Native Method)\n",
      "\tat sun.reflect.NativeMethodAccessorImpl.invoke(NativeMethodAccessorImpl.java:62)\n",
      "\tat sun.reflect.DelegatingMethodAccessorImpl.invoke(DelegatingMethodAccessorImpl.java:43)\n",
      "\tat java.lang.reflect.Method.invoke(Method.java:498)\n",
      "\tat py4j.reflection.MethodInvoker.invoke(MethodInvoker.java:244)\n",
      "\tat py4j.reflection.ReflectionEngine.invoke(ReflectionEngine.java:357)\n",
      "\tat py4j.Gateway.invoke(Gateway.java:282)\n",
      "\tat py4j.commands.AbstractCommand.invokeMethod(AbstractCommand.java:132)\n",
      "\tat py4j.commands.CallCommand.execute(CallCommand.java:79)\n",
      "\tat py4j.GatewayConnection.run(GatewayConnection.java:238)\n",
      "\tat java.lang.Thread.run(Thread.java:750)\n",
      "Caused by: java.lang.RuntimeException: Failed to run command: /usr/bin/virtualenv -p python3 --no-pip --system-site-packages virtualenv_application_1691032593746_0001_0\n",
      "\tat org.apache.spark.api.python.VirtualEnvFactory.execCommand(VirtualEnvFactory.scala:125)\n",
      "\tat org.apache.spark.api.python.VirtualEnvFactory.setupVirtualEnv(VirtualEnvFactory.scala:83)\n",
      "\tat org.apache.spark.api.python.PythonWorkerFactory.<init>(PythonWorkerFactory.scala:95)\n",
      "\tat org.apache.spark.SparkEnv.$anonfun$createPythonWorker$1(SparkEnv.scala:128)\n",
      "\tat scala.collection.mutable.HashMap.getOrElseUpdate(HashMap.scala:86)\n",
      "\tat org.apache.spark.SparkEnv.createPythonWorker(SparkEnv.scala:128)\n",
      "\tat org.apache.spark.api.python.BasePythonRunner.compute(PythonRunner.scala:157)\n",
      "\tat org.apache.spark.api.python.PythonRDD.compute(PythonRDD.scala:65)\n",
      "\tat org.apache.spark.rdd.RDD.computeOrReadCheckpoint(RDD.scala:365)\n",
      "\tat org.apache.spark.rdd.RDD.iterator(RDD.scala:329)\n",
      "\tat org.apache.spark.rdd.MapPartitionsRDD.compute(MapPartitionsRDD.scala:52)\n",
      "\tat org.apache.spark.rdd.RDD.computeOrReadCheckpoint(RDD.scala:365)\n",
      "\tat org.apache.spark.rdd.RDD.iterator(RDD.scala:329)\n",
      "\tat org.apache.spark.rdd.MapPartitionsRDD.compute(MapPartitionsRDD.scala:52)\n",
      "\tat org.apache.spark.rdd.RDD.computeOrReadCheckpoint(RDD.scala:365)\n",
      "\tat org.apache.spark.rdd.RDD.iterator(RDD.scala:329)\n",
      "\tat org.apache.spark.rdd.MapPartitionsRDD.compute(MapPartitionsRDD.scala:52)\n",
      "\tat org.apache.spark.rdd.RDD.computeOrReadCheckpoint(RDD.scala:365)\n",
      "\tat org.apache.spark.rdd.RDD.iterator(RDD.scala:329)\n",
      "\tat org.apache.spark.rdd.MapPartitionsRDD.compute(MapPartitionsRDD.scala:52)\n",
      "\tat org.apache.spark.rdd.RDD.computeOrReadCheckpoint(RDD.scala:365)\n",
      "\tat org.apache.spark.rdd.RDD.iterator(RDD.scala:329)\n",
      "\tat org.apache.spark.rdd.MapPartitionsRDD.compute(MapPartitionsRDD.scala:52)\n",
      "\tat org.apache.spark.rdd.RDD.computeOrReadCheckpoint(RDD.scala:365)\n",
      "\tat org.apache.spark.rdd.RDD.iterator(RDD.scala:329)\n",
      "\tat org.apache.spark.shuffle.ShuffleWriteProcessor.write(ShuffleWriteProcessor.scala:59)\n",
      "\tat org.apache.spark.scheduler.ShuffleMapTask.runTask(ShuffleMapTask.scala:99)\n",
      "\tat org.apache.spark.scheduler.ShuffleMapTask.runTask(ShuffleMapTask.scala:52)\n",
      "\tat org.apache.spark.scheduler.Task.run(Task.scala:138)\n",
      "\tat org.apache.spark.executor.Executor$TaskRunner.$anonfun$run$3(Executor.scala:548)\n",
      "\tat org.apache.spark.util.Utils$.tryWithSafeFinally(Utils.scala:1516)\n",
      "\tat org.apache.spark.executor.Executor$TaskRunner.run(Executor.scala:551)\n",
      "\tat java.util.concurrent.ThreadPoolExecutor.runWorker(ThreadPoolExecutor.java:1149)\n",
      "\tat java.util.concurrent.ThreadPoolExecutor$Worker.run(ThreadPoolExecutor.java:624)\n",
      "\t... 1 more\n",
      "\n",
      "Traceback (most recent call last):\n",
      "  File \"/mnt1/yarn/usercache/livy/appcache/application_1691032593746_0001/container_1691032593746_0001_01_000001/pyspark.zip/pyspark/pandas/generic.py\", line 880, in to_csv\n",
      "    builder.options(**options).format(\"csv\").save(path)\n",
      "  File \"/mnt1/yarn/usercache/livy/appcache/application_1691032593746_0001/container_1691032593746_0001_01_000001/pyspark.zip/pyspark/sql/readwriter.py\", line 968, in save\n",
      "    self._jwrite.save(path)\n",
      "  File \"/mnt1/yarn/usercache/livy/appcache/application_1691032593746_0001/container_1691032593746_0001_01_000001/py4j-0.10.9.5-src.zip/py4j/java_gateway.py\", line 1322, in __call__\n",
      "    answer, self.gateway_client, self.target_id, self.name)\n",
      "  File \"/mnt1/yarn/usercache/livy/appcache/application_1691032593746_0001/container_1691032593746_0001_01_000001/pyspark.zip/pyspark/sql/utils.py\", line 190, in deco\n",
      "    return f(*a, **kw)\n",
      "  File \"/mnt1/yarn/usercache/livy/appcache/application_1691032593746_0001/container_1691032593746_0001_01_000001/py4j-0.10.9.5-src.zip/py4j/protocol.py\", line 328, in get_return_value\n",
      "    format(target_id, \".\", name), value)\n",
      "py4j.protocol.Py4JJavaError: An error occurred while calling o1924.save.\n",
      ": org.apache.spark.SparkException: Job aborted due to stage failure: Task 0 in stage 72.0 failed 4 times, most recent failure: Lost task 0.3 in stage 72.0 (TID 71) (ip-172-31-47-208.ec2.internal executor 1): java.lang.RuntimeException: Failed to run command: /usr/bin/virtualenv -p python3 --no-pip --system-site-packages virtualenv_application_1691032593746_0001_0\n",
      "\tat org.apache.spark.api.python.VirtualEnvFactory.execCommand(VirtualEnvFactory.scala:125)\n",
      "\tat org.apache.spark.api.python.VirtualEnvFactory.setupVirtualEnv(VirtualEnvFactory.scala:83)\n",
      "\tat org.apache.spark.api.python.PythonWorkerFactory.<init>(PythonWorkerFactory.scala:95)\n",
      "\tat org.apache.spark.SparkEnv.$anonfun$createPythonWorker$1(SparkEnv.scala:128)\n",
      "\tat scala.collection.mutable.HashMap.getOrElseUpdate(HashMap.scala:86)\n",
      "\tat org.apache.spark.SparkEnv.createPythonWorker(SparkEnv.scala:128)\n",
      "\tat org.apache.spark.api.python.BasePythonRunner.compute(PythonRunner.scala:157)\n",
      "\tat org.apache.spark.api.python.PythonRDD.compute(PythonRDD.scala:65)\n",
      "\tat org.apache.spark.rdd.RDD.computeOrReadCheckpoint(RDD.scala:365)\n",
      "\tat org.apache.spark.rdd.RDD.iterator(RDD.scala:329)\n",
      "\tat org.apache.spark.rdd.MapPartitionsRDD.compute(MapPartitionsRDD.scala:52)\n",
      "\tat org.apache.spark.rdd.RDD.computeOrReadCheckpoint(RDD.scala:365)\n",
      "\tat org.apache.spark.rdd.RDD.iterator(RDD.scala:329)\n",
      "\tat org.apache.spark.rdd.MapPartitionsRDD.compute(MapPartitionsRDD.scala:52)\n",
      "\tat org.apache.spark.rdd.RDD.computeOrReadCheckpoint(RDD.scala:365)\n",
      "\tat org.apache.spark.rdd.RDD.iterator(RDD.scala:329)\n",
      "\tat org.apache.spark.rdd.MapPartitionsRDD.compute(MapPartitionsRDD.scala:52)\n",
      "\tat org.apache.spark.rdd.RDD.computeOrReadCheckpoint(RDD.scala:365)\n",
      "\tat org.apache.spark.rdd.RDD.iterator(RDD.scala:329)\n",
      "\tat org.apache.spark.rdd.MapPartitionsRDD.compute(MapPartitionsRDD.scala:52)\n",
      "\tat org.apache.spark.rdd.RDD.computeOrReadCheckpoint(RDD.scala:365)\n",
      "\tat org.apache.spark.rdd.RDD.iterator(RDD.scala:329)\n",
      "\tat org.apache.spark.rdd.MapPartitionsRDD.compute(MapPartitionsRDD.scala:52)\n",
      "\tat org.apache.spark.rdd.RDD.computeOrReadCheckpoint(RDD.scala:365)\n",
      "\tat org.apache.spark.rdd.RDD.iterator(RDD.scala:329)\n",
      "\tat org.apache.spark.shuffle.ShuffleWriteProcessor.write(ShuffleWriteProcessor.scala:59)\n",
      "\tat org.apache.spark.scheduler.ShuffleMapTask.runTask(ShuffleMapTask.scala:99)\n",
      "\tat org.apache.spark.scheduler.ShuffleMapTask.runTask(ShuffleMapTask.scala:52)\n",
      "\tat org.apache.spark.scheduler.Task.run(Task.scala:138)\n",
      "\tat org.apache.spark.executor.Executor$TaskRunner.$anonfun$run$3(Executor.scala:548)\n",
      "\tat org.apache.spark.util.Utils$.tryWithSafeFinally(Utils.scala:1516)\n",
      "\tat org.apache.spark.executor.Executor$TaskRunner.run(Executor.scala:551)\n",
      "\tat java.util.concurrent.ThreadPoolExecutor.runWorker(ThreadPoolExecutor.java:1149)\n",
      "\tat java.util.concurrent.ThreadPoolExecutor$Worker.run(ThreadPoolExecutor.java:624)\n",
      "\tat java.lang.Thread.run(Thread.java:750)\n",
      "\n",
      "Driver stacktrace:\n",
      "\tat org.apache.spark.scheduler.DAGScheduler.failJobAndIndependentStages(DAGScheduler.scala:2863)\n",
      "\tat org.apache.spark.scheduler.DAGScheduler.$anonfun$abortStage$2(DAGScheduler.scala:2799)\n",
      "\tat org.apache.spark.scheduler.DAGScheduler.$anonfun$abortStage$2$adapted(DAGScheduler.scala:2798)\n",
      "\tat scala.collection.mutable.ResizableArray.foreach(ResizableArray.scala:62)\n",
      "\tat scala.collection.mutable.ResizableArray.foreach$(ResizableArray.scala:55)\n",
      "\tat scala.collection.mutable.ArrayBuffer.foreach(ArrayBuffer.scala:49)\n",
      "\tat org.apache.spark.scheduler.DAGScheduler.abortStage(DAGScheduler.scala:2798)\n",
      "\tat org.apache.spark.scheduler.DAGScheduler.$anonfun$handleTaskSetFailed$1(DAGScheduler.scala:1239)\n",
      "\tat org.apache.spark.scheduler.DAGScheduler.$anonfun$handleTaskSetFailed$1$adapted(DAGScheduler.scala:1239)\n",
      "\tat scala.Option.foreach(Option.scala:407)\n",
      "\tat org.apache.spark.scheduler.DAGScheduler.handleTaskSetFailed(DAGScheduler.scala:1239)\n",
      "\tat org.apache.spark.scheduler.DAGSchedulerEventProcessLoop.doOnReceive(DAGScheduler.scala:3051)\n",
      "\tat org.apache.spark.scheduler.DAGSchedulerEventProcessLoop.onReceive(DAGScheduler.scala:2993)\n",
      "\tat org.apache.spark.scheduler.DAGSchedulerEventProcessLoop.onReceive(DAGScheduler.scala:2982)\n",
      "\tat org.apache.spark.util.EventLoop$$anon$1.run(EventLoop.scala:49)\n",
      "\tat org.apache.spark.sql.execution.adaptive.AdaptiveExecutor.checkNoFailures(AdaptiveExecutor.scala:154)\n",
      "\tat org.apache.spark.sql.execution.adaptive.AdaptiveExecutor.doRun(AdaptiveExecutor.scala:88)\n",
      "\tat org.apache.spark.sql.execution.adaptive.AdaptiveExecutor.tryRunningAndGetFuture(AdaptiveExecutor.scala:66)\n",
      "\tat org.apache.spark.sql.execution.adaptive.AdaptiveExecutor.execute(AdaptiveExecutor.scala:57)\n",
      "\tat org.apache.spark.sql.execution.adaptive.AdaptiveSparkPlanExec.$anonfun$getFinalPhysicalPlan$1(AdaptiveSparkPlanExec.scala:252)\n",
      "\tat org.apache.spark.sql.SparkSession.withActive(SparkSession.scala:779)\n",
      "\tat org.apache.spark.sql.execution.adaptive.AdaptiveSparkPlanExec.getFinalPhysicalPlan(AdaptiveSparkPlanExec.scala:251)\n",
      "\tat org.apache.spark.sql.execution.adaptive.AdaptiveSparkPlanExec.withFinalPlanUpdate(AdaptiveSparkPlanExec.scala:524)\n",
      "\tat org.apache.spark.sql.execution.adaptive.AdaptiveSparkPlanExec.finalPhysicalPlan(AdaptiveSparkPlanExec.scala:246)\n",
      "\tat org.apache.spark.sql.execution.datasources.FileFormatWriter$.materializeAdaptiveSparkPlan$1(FileFormatWriter.scala:195)\n",
      "\tat org.apache.spark.sql.execution.datasources.FileFormatWriter$.write(FileFormatWriter.scala:198)\n",
      "\tat org.apache.spark.sql.execution.datasources.InsertIntoHadoopFsRelationCommand.run(InsertIntoHadoopFsRelationCommand.scala:193)\n",
      "\tat org.apache.spark.sql.execution.command.DataWritingCommandExec.sideEffectResult$lzycompute(commands.scala:113)\n",
      "\tat org.apache.spark.sql.execution.command.DataWritingCommandExec.sideEffectResult(commands.scala:111)\n",
      "\tat org.apache.spark.sql.execution.command.DataWritingCommandExec.executeCollect(commands.scala:125)\n",
      "\tat org.apache.spark.sql.execution.QueryExecution$$anonfun$eagerlyExecuteCommands$1.$anonfun$applyOrElse$1(QueryExecution.scala:104)\n",
      "\tat org.apache.spark.sql.catalyst.QueryPlanningTracker$.withTracker(QueryPlanningTracker.scala:107)\n",
      "\tat org.apache.spark.sql.execution.SQLExecution$.withTracker(SQLExecution.scala:224)\n",
      "\tat org.apache.spark.sql.execution.SQLExecution$.executeQuery$1(SQLExecution.scala:114)\n",
      "\tat org.apache.spark.sql.execution.SQLExecution$.$anonfun$withNewExecutionId$7(SQLExecution.scala:139)\n",
      "\tat org.apache.spark.sql.catalyst.QueryPlanningTracker$.withTracker(QueryPlanningTracker.scala:107)\n",
      "\tat org.apache.spark.sql.execution.SQLExecution$.withTracker(SQLExecution.scala:224)\n",
      "\tat org.apache.spark.sql.execution.SQLExecution$.$anonfun$withNewExecutionId$6(SQLExecution.scala:139)\n",
      "\tat org.apache.spark.sql.execution.SQLExecution$.withSQLConfPropagated(SQLExecution.scala:245)\n",
      "\tat org.apache.spark.sql.execution.SQLExecution$.$anonfun$withNewExecutionId$1(SQLExecution.scala:138)\n",
      "\tat org.apache.spark.sql.SparkSession.withActive(SparkSession.scala:779)\n",
      "\tat org.apache.spark.sql.execution.SQLExecution$.withNewExecutionId(SQLExecution.scala:68)\n",
      "\tat org.apache.spark.sql.execution.QueryExecution$$anonfun$eagerlyExecuteCommands$1.applyOrElse(QueryExecution.scala:101)\n",
      "\tat org.apache.spark.sql.execution.QueryExecution$$anonfun$eagerlyExecuteCommands$1.applyOrElse(QueryExecution.scala:97)\n",
      "\tat org.apache.spark.sql.catalyst.trees.TreeNode.$anonfun$transformDownWithPruning$1(TreeNode.scala:626)\n",
      "\tat org.apache.spark.sql.catalyst.trees.CurrentOrigin$.withOrigin(TreeNode.scala:179)\n",
      "\tat org.apache.spark.sql.catalyst.trees.TreeNode.transformDownWithPruning(TreeNode.scala:626)\n",
      "\tat org.apache.spark.sql.catalyst.plans.logical.LogicalPlan.org$apache$spark$sql$catalyst$plans$logical$AnalysisHelper$$super$transformDownWithPruning(LogicalPlan.scala:31)\n",
      "\tat org.apache.spark.sql.catalyst.plans.logical.AnalysisHelper.transformDownWithPruning(AnalysisHelper.scala:267)\n",
      "\tat org.apache.spark.sql.catalyst.plans.logical.AnalysisHelper.transformDownWithPruning$(AnalysisHelper.scala:263)\n",
      "\tat org.apache.spark.sql.catalyst.plans.logical.LogicalPlan.transformDownWithPruning(LogicalPlan.scala:31)\n",
      "\tat org.apache.spark.sql.catalyst.plans.logical.LogicalPlan.transformDownWithPruning(LogicalPlan.scala:31)\n",
      "\tat org.apache.spark.sql.catalyst.trees.TreeNode.transformDown(TreeNode.scala:602)\n",
      "\tat org.apache.spark.sql.execution.QueryExecution.eagerlyExecuteCommands(QueryExecution.scala:97)\n",
      "\tat org.apache.spark.sql.execution.QueryExecution.commandExecuted$lzycompute(QueryExecution.scala:84)\n",
      "\tat org.apache.spark.sql.execution.QueryExecution.commandExecuted(QueryExecution.scala:82)\n",
      "\tat org.apache.spark.sql.execution.QueryExecution.assertCommandExecuted(QueryExecution.scala:125)\n",
      "\tat org.apache.spark.sql.DataFrameWriter.runCommand(DataFrameWriter.scala:860)\n",
      "\tat org.apache.spark.sql.DataFrameWriter.saveToV1Source(DataFrameWriter.scala:390)\n",
      "\tat org.apache.spark.sql.DataFrameWriter.saveInternal(DataFrameWriter.scala:363)\n",
      "\tat org.apache.spark.sql.DataFrameWriter.save(DataFrameWriter.scala:239)\n",
      "\tat sun.reflect.NativeMethodAccessorImpl.invoke0(Native Method)\n",
      "\tat sun.reflect.NativeMethodAccessorImpl.invoke(NativeMethodAccessorImpl.java:62)\n",
      "\tat sun.reflect.DelegatingMethodAccessorImpl.invoke(DelegatingMethodAccessorImpl.java:43)\n",
      "\tat java.lang.reflect.Method.invoke(Method.java:498)\n",
      "\tat py4j.reflection.MethodInvoker.invoke(MethodInvoker.java:244)\n",
      "\tat py4j.reflection.ReflectionEngine.invoke(ReflectionEngine.java:357)\n",
      "\tat py4j.Gateway.invoke(Gateway.java:282)\n",
      "\tat py4j.commands.AbstractCommand.invokeMethod(AbstractCommand.java:132)\n",
      "\tat py4j.commands.CallCommand.execute(CallCommand.java:79)\n",
      "\tat py4j.GatewayConnection.run(GatewayConnection.java:238)\n",
      "\tat java.lang.Thread.run(Thread.java:750)\n",
      "Caused by: java.lang.RuntimeException: Failed to run command: /usr/bin/virtualenv -p python3 --no-pip --system-site-packages virtualenv_application_1691032593746_0001_0\n",
      "\tat org.apache.spark.api.python.VirtualEnvFactory.execCommand(VirtualEnvFactory.scala:125)\n",
      "\tat org.apache.spark.api.python.VirtualEnvFactory.setupVirtualEnv(VirtualEnvFactory.scala:83)\n",
      "\tat org.apache.spark.api.python.PythonWorkerFactory.<init>(PythonWorkerFactory.scala:95)\n",
      "\tat org.apache.spark.SparkEnv.$anonfun$createPythonWorker$1(SparkEnv.scala:128)\n",
      "\tat scala.collection.mutable.HashMap.getOrElseUpdate(HashMap.scala:86)\n",
      "\tat org.apache.spark.SparkEnv.createPythonWorker(SparkEnv.scala:128)\n",
      "\tat org.apache.spark.api.python.BasePythonRunner.compute(PythonRunner.scala:157)\n",
      "\tat org.apache.spark.api.python.PythonRDD.compute(PythonRDD.scala:65)\n",
      "\tat org.apache.spark.rdd.RDD.computeOrReadCheckpoint(RDD.scala:365)\n",
      "\tat org.apache.spark.rdd.RDD.iterator(RDD.scala:329)\n",
      "\tat org.apache.spark.rdd.MapPartitionsRDD.compute(MapPartitionsRDD.scala:52)\n",
      "\tat org.apache.spark.rdd.RDD.computeOrReadCheckpoint(RDD.scala:365)\n",
      "\tat org.apache.spark.rdd.RDD.iterator(RDD.scala:329)\n",
      "\tat org.apache.spark.rdd.MapPartitionsRDD.compute(MapPartitionsRDD.scala:52)\n",
      "\tat org.apache.spark.rdd.RDD.computeOrReadCheckpoint(RDD.scala:365)\n",
      "\tat org.apache.spark.rdd.RDD.iterator(RDD.scala:329)\n",
      "\tat org.apache.spark.rdd.MapPartitionsRDD.compute(MapPartitionsRDD.scala:52)\n",
      "\tat org.apache.spark.rdd.RDD.computeOrReadCheckpoint(RDD.scala:365)\n",
      "\tat org.apache.spark.rdd.RDD.iterator(RDD.scala:329)\n",
      "\tat org.apache.spark.rdd.MapPartitionsRDD.compute(MapPartitionsRDD.scala:52)\n",
      "\tat org.apache.spark.rdd.RDD.computeOrReadCheckpoint(RDD.scala:365)\n",
      "\tat org.apache.spark.rdd.RDD.iterator(RDD.scala:329)\n",
      "\tat org.apache.spark.rdd.MapPartitionsRDD.compute(MapPartitionsRDD.scala:52)\n",
      "\tat org.apache.spark.rdd.RDD.computeOrReadCheckpoint(RDD.scala:365)\n",
      "\tat org.apache.spark.rdd.RDD.iterator(RDD.scala:329)\n",
      "\tat org.apache.spark.shuffle.ShuffleWriteProcessor.write(ShuffleWriteProcessor.scala:59)\n",
      "\tat org.apache.spark.scheduler.ShuffleMapTask.runTask(ShuffleMapTask.scala:99)\n",
      "\tat org.apache.spark.scheduler.ShuffleMapTask.runTask(ShuffleMapTask.scala:52)\n",
      "\tat org.apache.spark.scheduler.Task.run(Task.scala:138)\n",
      "\tat org.apache.spark.executor.Executor$TaskRunner.$anonfun$run$3(Executor.scala:548)\n",
      "\tat org.apache.spark.util.Utils$.tryWithSafeFinally(Utils.scala:1516)\n",
      "\tat org.apache.spark.executor.Executor$TaskRunner.run(Executor.scala:551)\n",
      "\tat java.util.concurrent.ThreadPoolExecutor.runWorker(ThreadPoolExecutor.java:1149)\n",
      "\tat java.util.concurrent.ThreadPoolExecutor$Worker.run(ThreadPoolExecutor.java:624)\n",
      "\t... 1 more\n",
      "\n",
      "\n"
     ]
    }
   ],
   "source": [
    "#creating correlation matrix\n",
    "features_and_label = feat.VectorAssembler(\n",
    "    inputCols=list(no_outliers.columns)\n",
    "    , outputCol='features'\n",
    ")\n",
    "\n",
    "corr = st.Correlation.corr(\n",
    "    features_and_label.transform(no_outliers.to_spark()), \n",
    "    'features', \n",
    "    'pearson'\n",
    ")\n",
    "\n",
    "print(str(corr.collect()[0][0]))\n",
    "corr_pd = corr.toPandas()\n",
    "output_np = np.array(corr_pd.iloc[0, 0].values).reshape(\n",
    "    (corr_pd.iloc[0, 0].numRows, corr_pd.iloc[0, 0].numCols))\n",
    "\n",
    "corr_pd = pd.DataFrame(output_np, columns=no_outliers.columns)\n",
    "corr_pd.index = no_outliers.columns\n",
    "corr_pd = ps.from_pandas(corr_pd)\n",
    "corr_pd.to_spark(index_col='index').repartition(1).pandas_api().to_csv('s3://gba-6430-project/Spark/tmp/cor/')"
   ]
  },
  {
   "cell_type": "code",
   "execution_count": 27,
   "id": "4f85ea6a",
   "metadata": {},
   "outputs": [
    {
     "data": {
      "application/vnd.jupyter.widget-view+json": {
       "model_id": "914b39bd1568407383fbf8f51a65172a",
       "version_major": 2,
       "version_minor": 0
      },
      "text/plain": [
       "VBox()"
      ]
     },
     "metadata": {},
     "output_type": "display_data"
    },
    {
     "data": {
      "application/vnd.jupyter.widget-view+json": {
       "model_id": "",
       "version_major": 2,
       "version_minor": 0
      },
      "text/plain": [
       "FloatProgress(value=0.0, bar_style='info', description='Progress:', layout=Layout(height='25px', width='50%'),…"
      ]
     },
     "metadata": {},
     "output_type": "display_data"
    },
    {
     "name": "stdout",
     "output_type": "stream",
     "text": [
      "{'ml_attr': {'attrs': {'numeric': [{'idx': 0, 'name': 'age3'}, {'idx': 1, 'name': 'weight'}, {'idx': 2, 'name': 'ap_hi'}, {'idx': 3, 'name': 'ap_lo'}, {'idx': 4, 'name': 'cholesterol'}, {'idx': 5, 'name': 'gluc'}]}, 'num_attrs': 6}}"
     ]
    }
   ],
   "source": [
    "#using univariate to select features\n",
    "#exclude the label 'cardio' from features vector\n",
    "vectorAssembler = feat.VectorAssembler(\n",
    "    inputCols=[x for x in no_outliers.columns if x != 'cardio']\n",
    "    , outputCol='features'\n",
    ")\n",
    "\n",
    "#select top 6 features, store in a new column named selected\n",
    "selector = feat.UnivariateFeatureSelector(\n",
    "    labelCol='cardio'\n",
    "    , outputCol='selected'\n",
    "    , selectionMode = 'numTopFeatures'\n",
    "    ).setFeatureType(\"continuous\"\n",
    "    ).setLabelType(\"categorical\"\n",
    "    ).setSelectionThreshold(6) #select top 6 features\n",
    "\n",
    "#create pipeline\n",
    "pipeline_sel = Pipeline(stages=[vectorAssembler, selector])\n",
    "\n",
    "model = (\n",
    "    pipeline_sel\n",
    "    .fit(no_outliers.to_spark())\n",
    "    .transform(no_outliers.to_spark())\n",
    ")\n",
    "\n",
    "#print selected features\n",
    "model.schema['selected'].metadata"
   ]
  },
  {
   "cell_type": "code",
   "execution_count": 28,
   "id": "ed1f5c40",
   "metadata": {},
   "outputs": [
    {
     "data": {
      "application/vnd.jupyter.widget-view+json": {
       "model_id": "182a55c24a1f4b9db0c321505bb127bf",
       "version_major": 2,
       "version_minor": 0
      },
      "text/plain": [
       "VBox()"
      ]
     },
     "metadata": {},
     "output_type": "display_data"
    },
    {
     "data": {
      "application/vnd.jupyter.widget-view+json": {
       "model_id": "",
       "version_major": 2,
       "version_minor": 0
      },
      "text/plain": [
       "FloatProgress(value=0.0, bar_style='info', description='Progress:', layout=Layout(height='25px', width='50%'),…"
      ]
     },
     "metadata": {},
     "output_type": "display_data"
    }
   ],
   "source": [
    "#split into train and test sets\n",
    "heart_train, heart_test = (\n",
    "    no_outliers.to_spark()\n",
    "    .randomSplit([0.7, 0.3], seed=666)\n",
    ")\n",
    "\n",
    "#convert all features to vector except for 'cardio'\n",
    "vectorAssembler = feat.VectorAssembler(\n",
    "    inputCols=[x for x in no_outliers.columns if x != 'cardio']\n",
    "    , outputCol='features'\n",
    ")\n",
    "\n",
    "#select top 6 predictors\n",
    "selector = feat.UnivariateFeatureSelector(\n",
    "    labelCol='cardio'\n",
    "    , outputCol='selected'\n",
    "    , selectionMode = 'numTopFeatures'\n",
    "    ).setFeatureType(\"continuous\"\n",
    "    ).setLabelType(\"categorical\"\n",
    "    ).setSelectionThreshold(6) #select top 6 features\n",
    "\n",
    "#create a multinomial regression object\n",
    "#'cardio' has 2 outcomes\n",
    "logReg_obj = cl.LogisticRegression(\n",
    "    labelCol='cardio'\n",
    "    , featuresCol=selector.getOutputCol()\n",
    "    , regParam=0.01\n",
    "    , elasticNetParam=1.0\n",
    "    , family='multinomial'\n",
    ")\n",
    "\n",
    "#create pipeline of 1)vector, 2)chisquare selector, 3)logistic regression\n",
    "pipeline = Pipeline(\n",
    "    stages=[\n",
    "        vectorAssembler\n",
    "        , selector\n",
    "        , logReg_obj\n",
    "    ])\n",
    "#train the model\n",
    "pModel = pipeline.fit(heart_train)"
   ]
  },
  {
   "cell_type": "code",
   "execution_count": 29,
   "id": "689d19dc",
   "metadata": {
    "scrolled": true
   },
   "outputs": [
    {
     "data": {
      "application/vnd.jupyter.widget-view+json": {
       "model_id": "ee2176ebb7684ee6a40756525df42291",
       "version_major": 2,
       "version_minor": 0
      },
      "text/plain": [
       "VBox()"
      ]
     },
     "metadata": {},
     "output_type": "display_data"
    },
    {
     "data": {
      "application/vnd.jupyter.widget-view+json": {
       "model_id": "",
       "version_major": 2,
       "version_minor": 0
      },
      "text/plain": [
       "FloatProgress(value=0.0, bar_style='info', description='Progress:', layout=Layout(height='25px', width='50%'),…"
      ]
     },
     "metadata": {},
     "output_type": "display_data"
    },
    {
     "name": "stdout",
     "output_type": "stream",
     "text": [
      "LogisticRegressionModel: uid=LogisticRegression_3a0ab459f019, numClasses=2, numFeatures=6"
     ]
    }
   ],
   "source": [
    "pModel.stages[-1]"
   ]
  },
  {
   "cell_type": "code",
   "execution_count": 30,
   "id": "2aa50b20",
   "metadata": {},
   "outputs": [
    {
     "data": {
      "application/vnd.jupyter.widget-view+json": {
       "model_id": "a61dec58445448889cc1e981f9e6ecfe",
       "version_major": 2,
       "version_minor": 0
      },
      "text/plain": [
       "VBox()"
      ]
     },
     "metadata": {},
     "output_type": "display_data"
    },
    {
     "data": {
      "application/vnd.jupyter.widget-view+json": {
       "model_id": "",
       "version_major": 2,
       "version_minor": 0
      },
      "text/plain": [
       "FloatProgress(value=0.0, bar_style='info', description='Progress:', layout=Layout(height='25px', width='50%'),…"
      ]
     },
     "metadata": {},
     "output_type": "display_data"
    },
    {
     "name": "stdout",
     "output_type": "stream",
     "text": [
      "(0.668780313661258, 0.6701214493083814, 0.6691473017092375)"
     ]
    }
   ],
   "source": [
    "#apply the model to test set\n",
    "logReg_model = (\n",
    "    pModel\n",
    "    .transform(heart_test)\n",
    ")\n",
    "\n",
    "results_logReg = logReg_model.select('cardio', 'probability', 'prediction')\n",
    "\n",
    "#evaluate performance of the multinomial model (2 classes)\n",
    "evaluator = ev.MulticlassClassificationEvaluator(\n",
    "    predictionCol='prediction'\n",
    "    , labelCol='cardio')\n",
    "\n",
    "(\n",
    "    #F-1 score\n",
    "    evaluator.evaluate(results_logReg)\n",
    "    #weighted precision\n",
    "    , evaluator.evaluate(\n",
    "        results_logReg\n",
    "        , {evaluator.metricName: 'weightedPrecision'}\n",
    "    ) \n",
    "    #accuracy\n",
    "    , evaluator.evaluate(\n",
    "        results_logReg\n",
    "        , {evaluator.metricName: 'accuracy'}\n",
    "    )\n",
    ")"
   ]
  },
  {
   "cell_type": "code",
   "execution_count": 31,
   "id": "6fc00ee6",
   "metadata": {},
   "outputs": [
    {
     "data": {
      "application/vnd.jupyter.widget-view+json": {
       "model_id": "ccb1cc65e1e24672863dbdcbfd4dbb2d",
       "version_major": 2,
       "version_minor": 0
      },
      "text/plain": [
       "VBox()"
      ]
     },
     "metadata": {},
     "output_type": "display_data"
    },
    {
     "data": {
      "application/vnd.jupyter.widget-view+json": {
       "model_id": "",
       "version_major": 2,
       "version_minor": 0
      },
      "text/plain": [
       "FloatProgress(value=0.0, bar_style='info', description='Progress:', layout=Layout(height='25px', width='50%'),…"
      ]
     },
     "metadata": {},
     "output_type": "display_data"
    },
    {
     "name": "stdout",
     "output_type": "stream",
     "text": [
      "       age3    weight     ap_hi     ap_lo  cholesterol  gluc\n",
      "0  0.028139 -0.009085 -0.003873 -0.000179    -0.236831   0.0\n",
      "1 -0.028139  0.009085  0.003873  0.000179     0.236831   0.0"
     ]
    }
   ],
   "source": [
    "selected_cols = ([x['name'] for x in logReg_model.schema['selected'].metadata['ml_attr']['attrs']['numeric']])\n",
    "\n",
    "#print model coefficients\n",
    "#for a binomial model use coefficients instead of coefficientMatrix\n",
    "pd.set_option('display.max_columns', 10)\n",
    "pd.DataFrame(pModel.stages[-1].coefficientMatrix.toArray(), columns=selected_cols).head(10)"
   ]
  },
  {
   "cell_type": "markdown",
   "id": "295a3704",
   "metadata": {},
   "source": [
    "After checking coefficients, dropping glucose as dependent variable"
   ]
  },
  {
   "cell_type": "code",
   "execution_count": 32,
   "id": "c6cf07f7",
   "metadata": {},
   "outputs": [
    {
     "data": {
      "application/vnd.jupyter.widget-view+json": {
       "model_id": "66854cdea9a241b6be86d1d7dbb9fb86",
       "version_major": 2,
       "version_minor": 0
      },
      "text/plain": [
       "VBox()"
      ]
     },
     "metadata": {},
     "output_type": "display_data"
    },
    {
     "data": {
      "application/vnd.jupyter.widget-view+json": {
       "model_id": "",
       "version_major": 2,
       "version_minor": 0
      },
      "text/plain": [
       "FloatProgress(value=0.0, bar_style='info', description='Progress:', layout=Layout(height='25px', width='50%'),…"
      ]
     },
     "metadata": {},
     "output_type": "display_data"
    },
    {
     "name": "stdout",
     "output_type": "stream",
     "text": [
      "(0.7287783168012436, 0.7330099124588385, 0.7296427885538698)"
     ]
    }
   ],
   "source": [
    "#Random Forest\n",
    "rf_obj = cl.RandomForestClassifier(\n",
    "    labelCol='cardio'\n",
    "    , featuresCol=selector.getOutputCol()\n",
    "    , minInstancesPerNode=10\n",
    "    , numTrees=10\n",
    ")\n",
    "\n",
    "pipeline = Pipeline(\n",
    "    stages=[vectorAssembler, selector, rf_obj]\n",
    ")\n",
    "\n",
    "pModel = pipeline.fit(heart_train)\n",
    "\n",
    "rf_obj_trained = (\n",
    "    pModel\n",
    "    .transform(heart_test)\n",
    ")\n",
    "results_rf = rf_obj_trained.select('cardio', 'probability', 'prediction')\n",
    "\n",
    "evaluator = ev.MulticlassClassificationEvaluator(\n",
    "    predictionCol='prediction'\n",
    "    , labelCol='cardio')\n",
    "\n",
    "(\n",
    "    evaluator.evaluate(results_rf)\n",
    "    , evaluator.evaluate(\n",
    "        results_rf\n",
    "        , {evaluator.metricName: 'weightedPrecision'}\n",
    "    )\n",
    "    , evaluator.evaluate(\n",
    "        results_rf\n",
    "        , {evaluator.metricName: 'accuracy'}\n",
    "    )\n",
    ")"
   ]
  },
  {
   "cell_type": "markdown",
   "id": "a6dc07ef",
   "metadata": {},
   "source": [
    "Tune hyperparameters for both models (regParam, elasticNetParam,\n",
    "ChiSqSelector. numTopFeatures, minInstancesPerNode) (60 points)"
   ]
  },
  {
   "cell_type": "code",
   "execution_count": 33,
   "id": "7ec5f8f8",
   "metadata": {
    "scrolled": true
   },
   "outputs": [
    {
     "data": {
      "application/vnd.jupyter.widget-view+json": {
       "model_id": "ab052ebfc7114e7a8f04dfb1b38eb444",
       "version_major": 2,
       "version_minor": 0
      },
      "text/plain": [
       "VBox()"
      ]
     },
     "metadata": {},
     "output_type": "display_data"
    },
    {
     "data": {
      "application/vnd.jupyter.widget-view+json": {
       "model_id": "",
       "version_major": 2,
       "version_minor": 0
      },
      "text/plain": [
       "FloatProgress(value=0.0, bar_style='info', description='Progress:', layout=Layout(height='25px', width='50%'),…"
      ]
     },
     "metadata": {},
     "output_type": "display_data"
    },
    {
     "name": "stderr",
     "output_type": "stream",
     "text": [
      "Exception in thread cell_monitor-33:\n",
      "Traceback (most recent call last):\n",
      "  File \"/mnt/notebook-env/lib/python3.7/threading.py\", line 926, in _bootstrap_inner\n",
      "    self.run()\n",
      "  File \"/mnt/notebook-env/lib/python3.7/threading.py\", line 870, in run\n",
      "    self._target(*self._args, **self._kwargs)\n",
      "  File \"/mnt/notebook-env/lib/python3.7/site-packages/awseditorssparkmonitoringwidget-1.0-py3.7.egg/awseditorssparkmonitoringwidget/cellmonitor.py\", line 154, in cell_monitor\n",
      "    job_group_filtered_jobs = [job for job in jobs_data if job['jobGroup'] == str(statement_id)]\n",
      "  File \"/mnt/notebook-env/lib/python3.7/site-packages/awseditorssparkmonitoringwidget-1.0-py3.7.egg/awseditorssparkmonitoringwidget/cellmonitor.py\", line 154, in <listcomp>\n",
      "    job_group_filtered_jobs = [job for job in jobs_data if job['jobGroup'] == str(statement_id)]\n",
      "KeyError: 'jobGroup'\n",
      "\n"
     ]
    }
   ],
   "source": [
    "import pyspark.ml.tuning as tune\n",
    "\n",
    "vectorAssembler = feat.VectorAssembler(\n",
    "    inputCols=[x for x in no_outliers.columns if x != 'cardio']\n",
    "    , outputCol='features')\n",
    "\n",
    "selector = feat.UnivariateFeatureSelector(\n",
    "    labelCol='cardio'\n",
    "    , outputCol='selected'\n",
    "    , selectionMode = 'numTopFeatures'\n",
    "    ).setFeatureType(\"continuous\"\n",
    "    ).setLabelType(\"categorical\"\n",
    "    ).setSelectionThreshold(6) #select top 6 features\n",
    "\n",
    "logReg_obj = cl.LogisticRegression(\n",
    "    labelCol='cardio'\n",
    "    , featuresCol=selector.getOutputCol()\n",
    "    , family='multinomial'\n",
    ")\n",
    "\n",
    "\n",
    "#use ParamGridBuilder to build a grid of parameters\n",
    "logReg_grid = (\n",
    "    tune.ParamGridBuilder()\n",
    "    .addGrid(logReg_obj.regParam\n",
    "            , [0.0, 0.5, 1.0]\n",
    "        )\n",
    "    .addGrid(logReg_obj.elasticNetParam\n",
    "            , [0.0, 0.5, 1.0]\n",
    "        )\n",
    "    .build()\n",
    ")\n",
    "\n",
    "logReg_ev = ev.MulticlassClassificationEvaluator(\n",
    "    predictionCol='prediction'\n",
    "        , labelCol='cardio')\n",
    "\n",
    "# use K-fold cross validation for grid search\n",
    "# CrossValidator binds all of these together\n",
    "cross_v = tune.CrossValidator(\n",
    "    estimator=logReg_obj\n",
    "    , estimatorParamMaps=logReg_grid\n",
    "    , evaluator=logReg_ev\n",
    ")\n",
    "\n",
    "pipeline = Pipeline(stages=[vectorAssembler, selector])\n",
    "data_trans = pipeline.fit(heart_train)\n",
    "\n",
    "logReg_modelTest = cross_v.fit(\n",
    "    data_trans.transform(heart_train)\n",
    ")"
   ]
  },
  {
   "cell_type": "code",
   "execution_count": 34,
   "id": "6bb0c114",
   "metadata": {},
   "outputs": [
    {
     "data": {
      "application/vnd.jupyter.widget-view+json": {
       "model_id": "037964614c254010be420f2f7b7db2e2",
       "version_major": 2,
       "version_minor": 0
      },
      "text/plain": [
       "VBox()"
      ]
     },
     "metadata": {},
     "output_type": "display_data"
    },
    {
     "data": {
      "application/vnd.jupyter.widget-view+json": {
       "model_id": "",
       "version_major": 2,
       "version_minor": 0
      },
      "text/plain": [
       "FloatProgress(value=0.0, bar_style='info', description='Progress:', layout=Layout(height='25px', width='50%'),…"
      ]
     },
     "metadata": {},
     "output_type": "display_data"
    },
    {
     "name": "stdout",
     "output_type": "stream",
     "text": [
      "Best params - regParam: 0.0, elasticNetParam: 0.0"
     ]
    },
    {
     "name": "stderr",
     "output_type": "stream",
     "text": [
      "Exception in thread cell_monitor-34:\n",
      "Traceback (most recent call last):\n",
      "  File \"/mnt/notebook-env/lib/python3.7/threading.py\", line 926, in _bootstrap_inner\n",
      "    self.run()\n",
      "  File \"/mnt/notebook-env/lib/python3.7/threading.py\", line 870, in run\n",
      "    self._target(*self._args, **self._kwargs)\n",
      "  File \"/mnt/notebook-env/lib/python3.7/site-packages/awseditorssparkmonitoringwidget-1.0-py3.7.egg/awseditorssparkmonitoringwidget/cellmonitor.py\", line 154, in cell_monitor\n",
      "    job_group_filtered_jobs = [job for job in jobs_data if job['jobGroup'] == str(statement_id)]\n",
      "  File \"/mnt/notebook-env/lib/python3.7/site-packages/awseditorssparkmonitoringwidget-1.0-py3.7.egg/awseditorssparkmonitoringwidget/cellmonitor.py\", line 154, in <listcomp>\n",
      "    job_group_filtered_jobs = [job for job in jobs_data if job['jobGroup'] == str(statement_id)]\n",
      "KeyError: 'jobGroup'\n",
      "\n"
     ]
    }
   ],
   "source": [
    "#logistic regression parameters\n",
    "print('Best params - regParam: {}, elasticNetParam: {}'.format(\n",
    "    logReg_modelTest.bestModel._java_obj.getRegParam(),\n",
    "      logReg_modelTest.bestModel._java_obj.getElasticNetParam()))"
   ]
  },
  {
   "cell_type": "code",
   "execution_count": 35,
   "id": "04a614ee",
   "metadata": {},
   "outputs": [
    {
     "data": {
      "application/vnd.jupyter.widget-view+json": {
       "model_id": "6901400aa7604842a92b3b8d6cbfbce3",
       "version_major": 2,
       "version_minor": 0
      },
      "text/plain": [
       "VBox()"
      ]
     },
     "metadata": {},
     "output_type": "display_data"
    },
    {
     "data": {
      "application/vnd.jupyter.widget-view+json": {
       "model_id": "",
       "version_major": 2,
       "version_minor": 0
      },
      "text/plain": [
       "FloatProgress(value=0.0, bar_style='info', description='Progress:', layout=Layout(height='25px', width='50%'),…"
      ]
     },
     "metadata": {},
     "output_type": "display_data"
    },
    {
     "name": "stdout",
     "output_type": "stream",
     "text": [
      "   regParam  elasticNetParam       F-1\n",
      "0       0.0              0.0  0.716522\n",
      "1       0.0              0.5  0.716522\n",
      "2       0.0              1.0  0.716522\n",
      "3       0.5              0.0  0.645808\n",
      "6       1.0              0.0  0.643644\n",
      "4       0.5              0.5  0.334913\n",
      "5       0.5              1.0  0.334913\n",
      "7       1.0              0.5  0.334913\n",
      "8       1.0              1.0  0.334913"
     ]
    },
    {
     "name": "stderr",
     "output_type": "stream",
     "text": [
      "Exception in thread cell_monitor-35:\n",
      "Traceback (most recent call last):\n",
      "  File \"/mnt/notebook-env/lib/python3.7/threading.py\", line 926, in _bootstrap_inner\n",
      "    self.run()\n",
      "  File \"/mnt/notebook-env/lib/python3.7/threading.py\", line 870, in run\n",
      "    self._target(*self._args, **self._kwargs)\n",
      "  File \"/mnt/notebook-env/lib/python3.7/site-packages/awseditorssparkmonitoringwidget-1.0-py3.7.egg/awseditorssparkmonitoringwidget/cellmonitor.py\", line 154, in cell_monitor\n",
      "    job_group_filtered_jobs = [job for job in jobs_data if job['jobGroup'] == str(statement_id)]\n",
      "  File \"/mnt/notebook-env/lib/python3.7/site-packages/awseditorssparkmonitoringwidget-1.0-py3.7.egg/awseditorssparkmonitoringwidget/cellmonitor.py\", line 154, in <listcomp>\n",
      "    job_group_filtered_jobs = [job for job in jobs_data if job['jobGroup'] == str(statement_id)]\n",
      "KeyError: 'jobGroup'\n",
      "\n"
     ]
    }
   ],
   "source": [
    "#logistic regression result\n",
    "tuning_results = pd.DataFrame([list(x.values()) for x in logReg_grid], columns=['regParam', 'elasticNetParam'])\n",
    "tuning_results['F-1'] = logReg_modelTest.avgMetrics\n",
    "tuning_results.sort_values('F-1', ascending=False)"
   ]
  },
  {
   "cell_type": "code",
   "execution_count": 36,
   "id": "de60533f",
   "metadata": {},
   "outputs": [
    {
     "data": {
      "application/vnd.jupyter.widget-view+json": {
       "model_id": "a16855e0b50647dfbf71a1eb565c9f4b",
       "version_major": 2,
       "version_minor": 0
      },
      "text/plain": [
       "VBox()"
      ]
     },
     "metadata": {},
     "output_type": "display_data"
    },
    {
     "data": {
      "application/vnd.jupyter.widget-view+json": {
       "model_id": "",
       "version_major": 2,
       "version_minor": 0
      },
      "text/plain": [
       "FloatProgress(value=0.0, bar_style='info', description='Progress:', layout=Layout(height='25px', width='50%'),…"
      ]
     },
     "metadata": {},
     "output_type": "display_data"
    },
    {
     "name": "stderr",
     "output_type": "stream",
     "text": [
      "Exception in thread cell_monitor-36:\n",
      "Traceback (most recent call last):\n",
      "  File \"/mnt/notebook-env/lib/python3.7/threading.py\", line 926, in _bootstrap_inner\n",
      "    self.run()\n",
      "  File \"/mnt/notebook-env/lib/python3.7/threading.py\", line 870, in run\n",
      "    self._target(*self._args, **self._kwargs)\n",
      "  File \"/mnt/notebook-env/lib/python3.7/site-packages/awseditorssparkmonitoringwidget-1.0-py3.7.egg/awseditorssparkmonitoringwidget/cellmonitor.py\", line 154, in cell_monitor\n",
      "    job_group_filtered_jobs = [job for job in jobs_data if job['jobGroup'] == str(statement_id)]\n",
      "  File \"/mnt/notebook-env/lib/python3.7/site-packages/awseditorssparkmonitoringwidget-1.0-py3.7.egg/awseditorssparkmonitoringwidget/cellmonitor.py\", line 154, in <listcomp>\n",
      "    job_group_filtered_jobs = [job for job in jobs_data if job['jobGroup'] == str(statement_id)]\n",
      "KeyError: 'jobGroup'\n",
      "\n"
     ]
    },
    {
     "name": "stdout",
     "output_type": "stream",
     "text": [
      "0.7156004680514805\n",
      "0.7181480549487133\n",
      "0.7161513347416939\n",
      "0.7161513347416939"
     ]
    }
   ],
   "source": [
    "# measure performance of best model for logistic regression\n",
    "data_trans_test = data_trans.transform(heart_test)\n",
    "results = logReg_modelTest.transform(data_trans_test)\n",
    "\n",
    "print(logReg_ev.evaluate(results, {logReg_ev.metricName: 'f1'}))\n",
    "print(logReg_ev.evaluate(results, {logReg_ev.metricName: 'weightedPrecision'}))\n",
    "print(logReg_ev.evaluate(results, {logReg_ev.metricName: 'weightedRecall'}))\n",
    "print(logReg_ev.evaluate(results, {logReg_ev.metricName: 'accuracy'}))"
   ]
  },
  {
   "cell_type": "code",
   "execution_count": 37,
   "id": "eaf5fb95",
   "metadata": {},
   "outputs": [
    {
     "data": {
      "application/vnd.jupyter.widget-view+json": {
       "model_id": "38f809f4579e4465bf2af127f891e0d7",
       "version_major": 2,
       "version_minor": 0
      },
      "text/plain": [
       "VBox()"
      ]
     },
     "metadata": {},
     "output_type": "display_data"
    },
    {
     "data": {
      "application/vnd.jupyter.widget-view+json": {
       "model_id": "",
       "version_major": 2,
       "version_minor": 0
      },
      "text/plain": [
       "FloatProgress(value=0.0, bar_style='info', description='Progress:', layout=Layout(height='25px', width='50%'),…"
      ]
     },
     "metadata": {},
     "output_type": "display_data"
    },
    {
     "name": "stderr",
     "output_type": "stream",
     "text": [
      "Exception in thread cell_monitor-37:\n",
      "Traceback (most recent call last):\n",
      "  File \"/mnt/notebook-env/lib/python3.7/threading.py\", line 926, in _bootstrap_inner\n",
      "    self.run()\n",
      "  File \"/mnt/notebook-env/lib/python3.7/threading.py\", line 870, in run\n",
      "    self._target(*self._args, **self._kwargs)\n",
      "  File \"/mnt/notebook-env/lib/python3.7/site-packages/awseditorssparkmonitoringwidget-1.0-py3.7.egg/awseditorssparkmonitoringwidget/cellmonitor.py\", line 154, in cell_monitor\n",
      "    job_group_filtered_jobs = [job for job in jobs_data if job['jobGroup'] == str(statement_id)]\n",
      "  File \"/mnt/notebook-env/lib/python3.7/site-packages/awseditorssparkmonitoringwidget-1.0-py3.7.egg/awseditorssparkmonitoringwidget/cellmonitor.py\", line 154, in <listcomp>\n",
      "    job_group_filtered_jobs = [job for job in jobs_data if job['jobGroup'] == str(statement_id)]\n",
      "KeyError: 'jobGroup'\n",
      "\n"
     ]
    },
    {
     "name": "stdout",
     "output_type": "stream",
     "text": [
      "objectiveHistory:\n",
      "0.6931431264369496\n",
      "0.6896211315046178\n",
      "0.6345468303028956\n",
      "0.6296525321427244\n",
      "0.6271382530394723\n",
      "0.6256649238296038\n",
      "0.6146247800123391\n",
      "0.611171940439284\n",
      "0.6013069305928639\n",
      "0.5995492045139035\n",
      "0.5971395048189697\n",
      "0.596641592346176\n",
      "0.5964971778992358\n",
      "0.5964881256878338\n",
      "0.5964878702625747\n",
      "0.5964878299247968\n",
      "0.5964878269584231\n",
      "0.5964878260534556\n",
      "0.5964878260360212\n",
      "False positive rate by label:\n",
      "label 0: 0.32827479296699713\n",
      "label 1: 0.23611730823834828\n",
      "True positive rate by label:\n",
      "label 0: 0.7638826917616517\n",
      "label 1: 0.6717252070330029\n",
      "Precision by label:\n",
      "label 0: 0.700621302875851\n",
      "label 1: 0.7388163503387625\n",
      "Recall by label:\n",
      "label 0: 0.7638826917616517\n",
      "label 1: 0.6717252070330029\n",
      "F-measure by label:\n",
      "label 0: 0.7308856632771871\n",
      "label 1: 0.7036752136752136\n",
      "Accuracy: 0.7179351584428263\n",
      "FPR: 0.28232725964817174\n",
      "TPR: 0.7179351584428264\n",
      "F-measure: 0.7173191793026279\n",
      "Precision: 0.7196644464803409\n",
      "Recall: 0.7179351584428264"
     ]
    }
   ],
   "source": [
    "trainingSummary = logReg_modelTest.bestModel.summary\n",
    "# Obtain the objective per iteration\n",
    "objectiveHistory = trainingSummary.objectiveHistory\n",
    "print(\"objectiveHistory:\")\n",
    "for objective in objectiveHistory:\n",
    "    print(objective)\n",
    "\n",
    "# Per-label basis\n",
    "print(\"False positive rate by label:\")\n",
    "for i, rate in enumerate(trainingSummary.falsePositiveRateByLabel):\n",
    "    print(\"label %d: %s\" % (i, rate))\n",
    "\n",
    "print(\"True positive rate by label:\")\n",
    "for i, rate in enumerate(trainingSummary.truePositiveRateByLabel):\n",
    "    print(\"label %d: %s\" % (i, rate))\n",
    "\n",
    "print(\"Precision by label:\")\n",
    "for i, prec in enumerate(trainingSummary.precisionByLabel):\n",
    "    print(\"label %d: %s\" % (i, prec))\n",
    "\n",
    "print(\"Recall by label:\")\n",
    "for i, rec in enumerate(trainingSummary.recallByLabel):\n",
    "    print(\"label %d: %s\" % (i, rec))\n",
    "\n",
    "print(\"F-measure by label:\")\n",
    "for i, f in enumerate(trainingSummary.fMeasureByLabel()):\n",
    "    print(\"label %d: %s\" % (i, f))\n",
    "    \n",
    "accuracy = trainingSummary.accuracy\n",
    "falsePositiveRate = trainingSummary.weightedFalsePositiveRate\n",
    "truePositiveRate = trainingSummary.weightedTruePositiveRate\n",
    "fMeasure = trainingSummary.weightedFMeasure()\n",
    "precision = trainingSummary.weightedPrecision\n",
    "recall = trainingSummary.weightedRecall\n",
    "print(\"Accuracy: %s\\nFPR: %s\\nTPR: %s\\nF-measure: %s\\nPrecision: %s\\nRecall: %s\"\n",
    "      % (accuracy, falsePositiveRate, truePositiveRate, fMeasure, precision, recall))"
   ]
  },
  {
   "cell_type": "code",
   "execution_count": 38,
   "id": "74cd8f67",
   "metadata": {},
   "outputs": [
    {
     "data": {
      "application/vnd.jupyter.widget-view+json": {
       "model_id": "0d4777f39eec4a63868c561b525f4c22",
       "version_major": 2,
       "version_minor": 0
      },
      "text/plain": [
       "VBox()"
      ]
     },
     "metadata": {},
     "output_type": "display_data"
    },
    {
     "data": {
      "application/vnd.jupyter.widget-view+json": {
       "model_id": "",
       "version_major": 2,
       "version_minor": 0
      },
      "text/plain": [
       "FloatProgress(value=0.0, bar_style='info', description='Progress:', layout=Layout(height='25px', width='50%'),…"
      ]
     },
     "metadata": {},
     "output_type": "display_data"
    },
    {
     "name": "stderr",
     "output_type": "stream",
     "text": [
      "Exception in thread cell_monitor-38:\n",
      "Traceback (most recent call last):\n",
      "  File \"/mnt/notebook-env/lib/python3.7/threading.py\", line 926, in _bootstrap_inner\n",
      "    self.run()\n",
      "  File \"/mnt/notebook-env/lib/python3.7/threading.py\", line 870, in run\n",
      "    self._target(*self._args, **self._kwargs)\n",
      "  File \"/mnt/notebook-env/lib/python3.7/site-packages/awseditorssparkmonitoringwidget-1.0-py3.7.egg/awseditorssparkmonitoringwidget/cellmonitor.py\", line 154, in cell_monitor\n",
      "    job_group_filtered_jobs = [job for job in jobs_data if job['jobGroup'] == str(statement_id)]\n",
      "  File \"/mnt/notebook-env/lib/python3.7/site-packages/awseditorssparkmonitoringwidget-1.0-py3.7.egg/awseditorssparkmonitoringwidget/cellmonitor.py\", line 154, in <listcomp>\n",
      "    job_group_filtered_jobs = [job for job in jobs_data if job['jobGroup'] == str(statement_id)]\n",
      "KeyError: 'jobGroup'\n",
      "\n"
     ]
    }
   ],
   "source": [
    "import pyspark.ml.tuning as tune\n",
    "\n",
    "vectorAssembler = feat.VectorAssembler(\n",
    "    inputCols=[x for x in no_outliers.columns if x != 'cardio']\n",
    "    , outputCol='features')\n",
    "\n",
    "selector = feat.UnivariateFeatureSelector(\n",
    "    labelCol='cardio'\n",
    "    , outputCol='selected'\n",
    "    , selectionMode = 'numTopFeatures'\n",
    "    ).setFeatureType(\"continuous\"\n",
    "    ).setLabelType(\"categorical\"\n",
    "    ).setSelectionThreshold(6) #select top 6 features\n",
    "\n",
    "\n",
    "rf_obj = cl.RandomForestClassifier(\n",
    "    labelCol='cardio'\n",
    "    , featuresCol=selector.getOutputCol()\n",
    "    , minInstancesPerNode=10\n",
    "    , numTrees=10\n",
    ")\n",
    "\n",
    "\n",
    "#ParamGridBuilder to build a grid of parameters\n",
    "rf_grid = (\n",
    "    tune.ParamGridBuilder()\n",
    "    .addGrid(rf_obj.minInstancesPerNode\n",
    "            , [5, 10, 20]\n",
    "        )\n",
    "    .addGrid(rf_obj.maxDepth\n",
    "            , [10, 20]\n",
    "        )\n",
    "    .build()\n",
    ")\n",
    "\n",
    "rf_ev = ev.MulticlassClassificationEvaluator(\n",
    "    predictionCol='prediction'\n",
    "    , labelCol='cardio')\n",
    "\n",
    "# use K-fold cross validation for grid search\n",
    "# CrossValidator binds all of these together\n",
    "# default value is k=3\n",
    "cross_v = tune.CrossValidator(\n",
    "    estimator=rf_obj\n",
    "    , estimatorParamMaps=rf_grid\n",
    "    , evaluator=rf_ev\n",
    ")\n",
    "\n",
    "pipeline = Pipeline(stages=[vectorAssembler, selector])\n",
    "data_trans = pipeline.fit(heart_train)\n",
    "\n",
    "rf_modelTest = cross_v.fit(\n",
    "    data_trans.transform(heart_train)\n",
    ")"
   ]
  },
  {
   "cell_type": "code",
   "execution_count": 39,
   "id": "8ec570d5",
   "metadata": {},
   "outputs": [
    {
     "data": {
      "application/vnd.jupyter.widget-view+json": {
       "model_id": "7aa4305fd1ed43da9a7a189b0b096e1b",
       "version_major": 2,
       "version_minor": 0
      },
      "text/plain": [
       "VBox()"
      ]
     },
     "metadata": {},
     "output_type": "display_data"
    },
    {
     "data": {
      "application/vnd.jupyter.widget-view+json": {
       "model_id": "",
       "version_major": 2,
       "version_minor": 0
      },
      "text/plain": [
       "FloatProgress(value=0.0, bar_style='info', description='Progress:', layout=Layout(height='25px', width='50%'),…"
      ]
     },
     "metadata": {},
     "output_type": "display_data"
    },
    {
     "name": "stdout",
     "output_type": "stream",
     "text": [
      "Best params - MaxDepth: 10, MinInstancesPerNode: 20"
     ]
    }
   ],
   "source": [
    "#finding best parameters for random forest\n",
    "print('Best params - MaxDepth: {}, MinInstancesPerNode: {}'.format(\n",
    "    rf_modelTest.bestModel._java_obj.getMaxDepth(),\n",
    "      rf_modelTest.bestModel._java_obj.getMinInstancesPerNode()))"
   ]
  },
  {
   "cell_type": "code",
   "execution_count": 40,
   "id": "7a833784",
   "metadata": {},
   "outputs": [
    {
     "data": {
      "application/vnd.jupyter.widget-view+json": {
       "model_id": "9b57dd50324d406a9ba687333e3cabdf",
       "version_major": 2,
       "version_minor": 0
      },
      "text/plain": [
       "VBox()"
      ]
     },
     "metadata": {},
     "output_type": "display_data"
    },
    {
     "name": "stderr",
     "output_type": "stream",
     "text": [
      "Exception in thread cell_monitor-39:\n",
      "Traceback (most recent call last):\n",
      "  File \"/mnt/notebook-env/lib/python3.7/threading.py\", line 926, in _bootstrap_inner\n",
      "    self.run()\n",
      "  File \"/mnt/notebook-env/lib/python3.7/threading.py\", line 870, in run\n",
      "    self._target(*self._args, **self._kwargs)\n",
      "  File \"/mnt/notebook-env/lib/python3.7/site-packages/awseditorssparkmonitoringwidget-1.0-py3.7.egg/awseditorssparkmonitoringwidget/cellmonitor.py\", line 154, in cell_monitor\n",
      "    job_group_filtered_jobs = [job for job in jobs_data if job['jobGroup'] == str(statement_id)]\n",
      "  File \"/mnt/notebook-env/lib/python3.7/site-packages/awseditorssparkmonitoringwidget-1.0-py3.7.egg/awseditorssparkmonitoringwidget/cellmonitor.py\", line 154, in <listcomp>\n",
      "    job_group_filtered_jobs = [job for job in jobs_data if job['jobGroup'] == str(statement_id)]\n",
      "KeyError: 'jobGroup'\n",
      "\n"
     ]
    },
    {
     "data": {
      "application/vnd.jupyter.widget-view+json": {
       "model_id": "",
       "version_major": 2,
       "version_minor": 0
      },
      "text/plain": [
       "FloatProgress(value=0.0, bar_style='info', description='Progress:', layout=Layout(height='25px', width='50%'),…"
      ]
     },
     "metadata": {},
     "output_type": "display_data"
    },
    {
     "name": "stdout",
     "output_type": "stream",
     "text": [
      "   minInstancesPerNode  maxDepth       F-1\n",
      "4                   20        10  0.733475\n",
      "0                    5        10  0.732144\n",
      "2                   10        10  0.731244\n",
      "5                   20        20  0.730764\n",
      "3                   10        20  0.728117\n",
      "1                    5        20  0.723327"
     ]
    },
    {
     "name": "stderr",
     "output_type": "stream",
     "text": [
      "Exception in thread cell_monitor-40:\n",
      "Traceback (most recent call last):\n",
      "  File \"/mnt/notebook-env/lib/python3.7/threading.py\", line 926, in _bootstrap_inner\n",
      "    self.run()\n",
      "  File \"/mnt/notebook-env/lib/python3.7/threading.py\", line 870, in run\n",
      "    self._target(*self._args, **self._kwargs)\n",
      "  File \"/mnt/notebook-env/lib/python3.7/site-packages/awseditorssparkmonitoringwidget-1.0-py3.7.egg/awseditorssparkmonitoringwidget/cellmonitor.py\", line 154, in cell_monitor\n",
      "    job_group_filtered_jobs = [job for job in jobs_data if job['jobGroup'] == str(statement_id)]\n",
      "  File \"/mnt/notebook-env/lib/python3.7/site-packages/awseditorssparkmonitoringwidget-1.0-py3.7.egg/awseditorssparkmonitoringwidget/cellmonitor.py\", line 154, in <listcomp>\n",
      "    job_group_filtered_jobs = [job for job in jobs_data if job['jobGroup'] == str(statement_id)]\n",
      "KeyError: 'jobGroup'\n",
      "\n"
     ]
    }
   ],
   "source": [
    "#random forest results \n",
    "tuning_results = pd.DataFrame([list(x.values()) for x in rf_grid], columns=['minInstancesPerNode', 'maxDepth'])\n",
    "tuning_results['F-1'] = rf_modelTest.avgMetrics\n",
    "tuning_results.sort_values('F-1', ascending=False)"
   ]
  },
  {
   "cell_type": "code",
   "execution_count": 41,
   "id": "87b7af01",
   "metadata": {},
   "outputs": [
    {
     "data": {
      "application/vnd.jupyter.widget-view+json": {
       "model_id": "39946124ff184bf0b01eb808ac49c95f",
       "version_major": 2,
       "version_minor": 0
      },
      "text/plain": [
       "VBox()"
      ]
     },
     "metadata": {},
     "output_type": "display_data"
    },
    {
     "data": {
      "application/vnd.jupyter.widget-view+json": {
       "model_id": "",
       "version_major": 2,
       "version_minor": 0
      },
      "text/plain": [
       "FloatProgress(value=0.0, bar_style='info', description='Progress:', layout=Layout(height='25px', width='50%'),…"
      ]
     },
     "metadata": {},
     "output_type": "display_data"
    },
    {
     "name": "stderr",
     "output_type": "stream",
     "text": [
      "Exception in thread cell_monitor-41:\n",
      "Traceback (most recent call last):\n",
      "  File \"/mnt/notebook-env/lib/python3.7/threading.py\", line 926, in _bootstrap_inner\n",
      "    self.run()\n",
      "  File \"/mnt/notebook-env/lib/python3.7/threading.py\", line 870, in run\n",
      "    self._target(*self._args, **self._kwargs)\n",
      "  File \"/mnt/notebook-env/lib/python3.7/site-packages/awseditorssparkmonitoringwidget-1.0-py3.7.egg/awseditorssparkmonitoringwidget/cellmonitor.py\", line 154, in cell_monitor\n",
      "    job_group_filtered_jobs = [job for job in jobs_data if job['jobGroup'] == str(statement_id)]\n",
      "  File \"/mnt/notebook-env/lib/python3.7/site-packages/awseditorssparkmonitoringwidget-1.0-py3.7.egg/awseditorssparkmonitoringwidget/cellmonitor.py\", line 154, in <listcomp>\n",
      "    job_group_filtered_jobs = [job for job in jobs_data if job['jobGroup'] == str(statement_id)]\n",
      "KeyError: 'jobGroup'\n",
      "\n"
     ]
    },
    {
     "name": "stdout",
     "output_type": "stream",
     "text": [
      "0.7281037829945506\n",
      "0.730522906049329\n",
      "0.7285865181486461\n",
      "0.7285865181486461"
     ]
    }
   ],
   "source": [
    "# measure performance of best model using random forest\n",
    "data_trans_test = data_trans.transform(heart_test)\n",
    "results = rf_modelTest.transform(data_trans_test)\n",
    "\n",
    "print(rf_ev.evaluate(results, {rf_ev.metricName: 'f1'}))\n",
    "print(rf_ev.evaluate(results, {rf_ev.metricName: 'weightedPrecision'}))\n",
    "print(rf_ev.evaluate(results, {rf_ev.metricName: 'weightedRecall'}))\n",
    "print(rf_ev.evaluate(results, {rf_ev.metricName: 'accuracy'}))"
   ]
  }
 ],
 "metadata": {
  "kernelspec": {
   "display_name": "PySpark",
   "language": "python",
   "name": "pysparkkernel"
  },
  "language_info": {
   "codemirror_mode": {
    "name": "python",
    "version": 3
   },
   "file_extension": ".py",
   "mimetype": "text/x-python",
   "name": "pyspark",
   "pygments_lexer": "python3"
  }
 },
 "nbformat": 4,
 "nbformat_minor": 5
}
